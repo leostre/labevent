{
 "cells": [
  {
   "cell_type": "markdown",
   "id": "7b4a59d3-0b1e-4570-9a5a-3e53d968c783",
   "metadata": {},
   "source": [
    "Данный блокнот посвящён исследованию различных инициализаций графа"
   ]
  },
  {
   "cell_type": "code",
   "execution_count": 1,
   "id": "ffb0e643-f5a7-4c2d-be50-216b0e65b520",
   "metadata": {},
   "outputs": [],
   "source": [
    "import warnings\n",
    "warnings.simplefilter('ignore')"
   ]
  },
  {
   "cell_type": "code",
   "execution_count": 2,
   "id": "89f0ac18-1bfb-4b03-ab9d-5e3f70febcd6",
   "metadata": {},
   "outputs": [],
   "source": [
    "import numpy as np \n",
    "import pandas as pd\n",
    "import seaborn as sns\n",
    "import matplotlib.pyplot as plt\n",
    "import os\n",
    "import sys\n",
    "import networkx as nx"
   ]
  },
  {
   "cell_type": "code",
   "execution_count": null,
   "id": "883aedd9",
   "metadata": {},
   "outputs": [],
   "source": [
    "import sys \n",
    "sys.path += [\n",
    "    '../libs/sublime',\n",
    "    '../libs/imc-gae',\n",
    "    '../src',\n",
    "    # '.venv/'\n",
    "]"
   ]
  },
  {
   "cell_type": "code",
   "execution_count": null,
   "id": "58fab644-ffcd-4ce7-94f0-2d39c2d28530",
   "metadata": {},
   "outputs": [],
   "source": [
    "# while not os.getcwd().endswith('labevent'):\n",
    "#     os.chdir('..')\n",
    "# os.getcwd()\n",
    "\n",
    "# sys.path.append('src')"
   ]
  },
  {
   "cell_type": "markdown",
   "id": "0acff545-5063-4335-b7cf-fbd52726d145",
   "metadata": {},
   "source": [
    "# Считывание и предобработка"
   ]
  },
  {
   "cell_type": "code",
   "execution_count": 4,
   "id": "b14369b5-2bae-462f-b842-cc9331452646",
   "metadata": {},
   "outputs": [],
   "source": [
    "DROP_TIME_CLUSTER = True"
   ]
  },
  {
   "cell_type": "code",
   "execution_count": 5,
   "id": "7c4b1ea9-b2e7-4c1d-9093-25c2534f0cde",
   "metadata": {},
   "outputs": [],
   "source": [
    "df = pd.read_csv('../data/refined/wide/blood_chemistry_17.csv',\n",
    "                 index_col=(0, 1)\n",
    "                )"
   ]
  },
  {
   "cell_type": "markdown",
   "id": "86b76b14-5dff-48c8-a1ac-e6e83aab527d",
   "metadata": {},
   "source": [
    "Выборка содержит данные о пацентах и образцах в количествах:"
   ]
  },
  {
   "cell_type": "code",
   "execution_count": 6,
   "id": "c0fabd16-2e79-40d8-8e78-4532b49b0136",
   "metadata": {},
   "outputs": [
    {
     "data": {
      "text/plain": [
       "subject_id       91\n",
       "specimen_id    2085\n",
       "dtype: int64"
      ]
     },
     "execution_count": 6,
     "metadata": {},
     "output_type": "execute_result"
    }
   ],
   "source": [
    "df.index.to_frame().nunique()"
   ]
  },
  {
   "cell_type": "code",
   "execution_count": 7,
   "id": "673392f8-f75e-4fe0-8367-5fe67a61294f",
   "metadata": {},
   "outputs": [],
   "source": [
    "subsam_to_ind = pd.Series(np.arange(df.shape[0]), index=df.index)\n",
    "ind_to_subsam = pd.Series(df.index.values)"
   ]
  },
  {
   "cell_type": "code",
   "execution_count": null,
   "id": "8d1eef74-f298-42bd-8eee-317af843718a",
   "metadata": {},
   "outputs": [],
   "source": []
  },
  {
   "cell_type": "code",
   "execution_count": 8,
   "id": "840d0686-fb53-4ebc-bc50-b4f5c0202d8c",
   "metadata": {},
   "outputs": [],
   "source": [
    "cols = [col for col, t in df.dtypes.items() if t == bool] \n",
    "df.loc[:, cols] = df[cols].astype(int)\n",
    "df = pd.get_dummies(df)\n",
    "if DROP_TIME_CLUSTER and 'time_cluster' in df.columns:\n",
    "    df.drop('time_cluster', axis=1, inplace=True)\n",
    "    \n",
    "target_cols=['Potassium',\n",
    "       'Sodium', 'Creatinine', 'Chloride', 'Urea Nitrogen', 'Bicarbonate',\n",
    "       'Anion Gap', 'Glucose', 'Magnesium', 'Calcium, Total', 'Phosphate']"
   ]
  },
  {
   "cell_type": "code",
   "execution_count": 9,
   "id": "17eae169-2338-4d45-8281-f36d60375284",
   "metadata": {},
   "outputs": [
    {
     "data": {
      "text/html": [
       "<div>\n",
       "<style scoped>\n",
       "    .dataframe tbody tr th:only-of-type {\n",
       "        vertical-align: middle;\n",
       "    }\n",
       "\n",
       "    .dataframe tbody tr th {\n",
       "        vertical-align: top;\n",
       "    }\n",
       "\n",
       "    .dataframe thead th {\n",
       "        text-align: right;\n",
       "    }\n",
       "</style>\n",
       "<table border=\"1\" class=\"dataframe\">\n",
       "  <thead>\n",
       "    <tr style=\"text-align: right;\">\n",
       "      <th></th>\n",
       "      <th></th>\n",
       "      <th>allinref</th>\n",
       "      <th>age</th>\n",
       "      <th>charttime</th>\n",
       "      <th>Potassium</th>\n",
       "      <th>Sodium</th>\n",
       "      <th>Creatinine</th>\n",
       "      <th>Chloride</th>\n",
       "      <th>Urea Nitrogen</th>\n",
       "      <th>Bicarbonate</th>\n",
       "      <th>Anion Gap</th>\n",
       "      <th>Glucose</th>\n",
       "      <th>Magnesium</th>\n",
       "      <th>Calcium, Total</th>\n",
       "      <th>Phosphate</th>\n",
       "      <th>race_BLACK</th>\n",
       "      <th>race_HISPANIC</th>\n",
       "      <th>race_UNKNOWN</th>\n",
       "      <th>race_WHITE</th>\n",
       "      <th>gender_F</th>\n",
       "      <th>gender_M</th>\n",
       "    </tr>\n",
       "    <tr>\n",
       "      <th>subject_id</th>\n",
       "      <th>specimen_id</th>\n",
       "      <th></th>\n",
       "      <th></th>\n",
       "      <th></th>\n",
       "      <th></th>\n",
       "      <th></th>\n",
       "      <th></th>\n",
       "      <th></th>\n",
       "      <th></th>\n",
       "      <th></th>\n",
       "      <th></th>\n",
       "      <th></th>\n",
       "      <th></th>\n",
       "      <th></th>\n",
       "      <th></th>\n",
       "      <th></th>\n",
       "      <th></th>\n",
       "      <th></th>\n",
       "      <th></th>\n",
       "      <th></th>\n",
       "      <th></th>\n",
       "    </tr>\n",
       "  </thead>\n",
       "  <tbody>\n",
       "    <tr>\n",
       "      <th>10020306</th>\n",
       "      <th>90467227</th>\n",
       "      <td>0</td>\n",
       "      <td>74.0</td>\n",
       "      <td>1447061</td>\n",
       "      <td>4.7</td>\n",
       "      <td>153.0</td>\n",
       "      <td>0.8</td>\n",
       "      <td>105.0</td>\n",
       "      <td>31.0</td>\n",
       "      <td>35.0</td>\n",
       "      <td>14.0</td>\n",
       "      <td>314.0</td>\n",
       "      <td>2.1</td>\n",
       "      <td>9.1</td>\n",
       "      <td>3.5</td>\n",
       "      <td>1</td>\n",
       "      <td>0</td>\n",
       "      <td>0</td>\n",
       "      <td>0</td>\n",
       "      <td>1</td>\n",
       "      <td>0</td>\n",
       "    </tr>\n",
       "  </tbody>\n",
       "</table>\n",
       "</div>"
      ],
      "text/plain": [
       "                        allinref   age  charttime  Potassium  Sodium  \\\n",
       "subject_id specimen_id                                                 \n",
       "10020306   90467227            0  74.0    1447061        4.7   153.0   \n",
       "\n",
       "                        Creatinine  Chloride  Urea Nitrogen  Bicarbonate  \\\n",
       "subject_id specimen_id                                                     \n",
       "10020306   90467227            0.8     105.0           31.0         35.0   \n",
       "\n",
       "                        Anion Gap  Glucose  Magnesium  Calcium, Total  \\\n",
       "subject_id specimen_id                                                  \n",
       "10020306   90467227          14.0    314.0        2.1             9.1   \n",
       "\n",
       "                        Phosphate  race_BLACK  race_HISPANIC  race_UNKNOWN  \\\n",
       "subject_id specimen_id                                                       \n",
       "10020306   90467227           3.5           1              0             0   \n",
       "\n",
       "                        race_WHITE  gender_F  gender_M  \n",
       "subject_id specimen_id                                  \n",
       "10020306   90467227              0         1         0  "
      ]
     },
     "execution_count": 9,
     "metadata": {},
     "output_type": "execute_result"
    }
   ],
   "source": [
    "df.sample()"
   ]
  },
  {
   "cell_type": "markdown",
   "id": "28fde6ec-69d5-4e2c-aa9f-bad94a5a0655",
   "metadata": {},
   "source": [
    "Поскольку для метрических моделей масштаб признаков имеет большое значение, отнормируем данные.\n",
    "Для отдельно взятого здорового человека значения анализов распределены нормально. В случае патологии (в нашем случае - это большая часть наблюдений) распределение становится более сложным: многомодальным, содержит выбросы и т.п. По этой причине будем использовать RobustScaler на этом этапе"
   ]
  },
  {
   "cell_type": "code",
   "execution_count": 10,
   "id": "ae49ea7d-c5ab-45a1-8917-4fe47bd98f62",
   "metadata": {},
   "outputs": [],
   "source": [
    "from sklearn.preprocessing import RobustScaler\n",
    "from sklearn.compose import ColumnTransformer\n",
    "\n",
    "rs = ColumnTransformer([('scale_dense', RobustScaler(),\n",
    "                        target_cols + ['age', 'charttime']),\n",
    "                       ('pass', 'passthrough', ['allinref'])],\n",
    "                      remainder='passthrough')\n",
    "trdf = rs.fit_transform(df)"
   ]
  },
  {
   "cell_type": "code",
   "execution_count": 12,
   "id": "7bd401ae-4a8b-43a1-9d36-7f3eaf97c959",
   "metadata": {},
   "outputs": [],
   "source": [
    "def describe_graph(G, draw=False, **draw_kw):\n",
    "    res = {}\n",
    "    res['av_clust'] = nx.average_clustering(G)\n",
    "    res['is_directed'] = nx.is_directed(G)\n",
    "    res['hist'] = nx.degree_histogram(G)\n",
    "    res['density'] = nx.density(G)\n",
    "        \n",
    "    components = {'diameter': [], 'degree': []}\n",
    "    res['ncomp'] = 0\n",
    "    for component in nx.connected_components(G):\n",
    "        res['ncomp'] += 1\n",
    "        subg = nx.induced_subgraph(G, component)\n",
    "        components['diameter'].append(nx.diameter(subg))\n",
    "        components['degree'].append(nx.degree_histogram(subg))\n",
    "        if draw:\n",
    "            nx.draw_shell(subg, with_labels=False, **draw_kw)\n",
    "            plt.show()\n",
    "    res['components'] = components\n",
    "    return res\n",
    "        "
   ]
  },
  {
   "cell_type": "code",
   "execution_count": 14,
   "id": "8ac03992-963d-43b3-be2f-57af5e260b9a",
   "metadata": {},
   "outputs": [],
   "source": [
    "def deghist(histlist, rng=(None, None)):\n",
    "    histlist = histlist[slice(*rng)] \n",
    "    plt.bar(np.arange(len(histlist)), histlist)\n",
    "    plt.title('Гистограмма степеней вершин')\n",
    "    plt.show()\n",
    "    "
   ]
  },
  {
   "cell_type": "code",
   "execution_count": 217,
   "id": "40aa75ec-55f7-438f-a517-b3d297c26ff1",
   "metadata": {},
   "outputs": [
    {
     "data": {
      "text/plain": [
       "slice(None, None, None)"
      ]
     },
     "execution_count": 217,
     "metadata": {},
     "output_type": "execute_result"
    }
   ],
   "source": [
    "# def get_graph(X, gmode, edges=None, **kwargs):\n",
    "#     if gmode == 'knn':\n",
    "#         adj = kneighbors_graph(df, n_neighbors=10, mode='connectivity',\n",
    "#                             n_jobs=-1)\n",
    "\n",
    "slice(None, None)"
   ]
  },
  {
   "cell_type": "markdown",
   "id": "2d8da9cc-17d9-4348-bb90-b9a09bc600c1",
   "metadata": {},
   "source": [
    "## KNN graph"
   ]
  },
  {
   "cell_type": "code",
   "execution_count": 94,
   "id": "900dd757-54a1-47f9-8e7f-a0502e3bdb0e",
   "metadata": {},
   "outputs": [
    {
     "name": "stdout",
     "output_type": "stream",
     "text": [
      "['braycurtis', 'canberra', 'chebyshev', 'cityblock', 'correlation', 'cosine', 'cosine', 'dice', 'euclidean', 'hamming', 'haversine', 'jaccard', 'kulsinski', 'l1', 'l2', 'mahalanobis', 'manhattan', 'matching', 'minkowski', 'nan_euclidean', 'precomputed', 'rogerstanimoto', 'russellrao', 'seuclidean', 'sokalmichener', 'sokalsneath', 'sqeuclidean', 'wminkowski', 'yule']\n"
     ]
    }
   ],
   "source": [
    "from sklearn.neighbors import VALID_METRICS\n",
    "print(sorted(VALID_METRICS['brute']))"
   ]
  },
  {
   "cell_type": "markdown",
   "id": "25736d89-9e9e-40a2-abad-f374eeecaefd",
   "metadata": {},
   "source": [
    "### без разреживания"
   ]
  },
  {
   "cell_type": "code",
   "execution_count": 15,
   "id": "1bda5f1d-3de7-4b1f-ad4b-aa9b7bb4a3b2",
   "metadata": {},
   "outputs": [],
   "source": [
    "from sklearn.neighbors import kneighbors_graph\n",
    "\n",
    "knn_graph = kneighbors_graph(trdf, n_neighbors=5, mode='connectivity',\n",
    "                            n_jobs=-1)\n",
    "G = nx.from_scipy_sparse_array(knn_graph)"
   ]
  },
  {
   "cell_type": "code",
   "execution_count": 17,
   "id": "dcf259fa-102a-42d2-869e-7e523c1bda71",
   "metadata": {},
   "outputs": [],
   "source": [
    "res = describe_graph(G, False, node_size=100)"
   ]
  },
  {
   "cell_type": "code",
   "execution_count": 186,
   "id": "b218f9cd-9057-42b7-aa1e-02d8799e7a8f",
   "metadata": {},
   "outputs": [
    {
     "data": {
      "image/png": "[encoded data removed]",
      "text/plain": [
       "<Figure size 432x288 with 1 Axes>"
      ]
     },
     "metadata": {
      "needs_background": "light"
     },
     "output_type": "display_data"
    }
   ],
   "source": [
    "deghist(res['hist'])"
   ]
  },
  {
   "cell_type": "code",
   "execution_count": 187,
   "id": "138b96df-ebc8-43f9-bce1-b799cde857cd",
   "metadata": {},
   "outputs": [
    {
     "data": {
      "image/png": "[encoded data removed]",
      "text/plain": [
       "<Figure size 432x288 with 1 Axes>"
      ]
     },
     "metadata": {
      "needs_background": "light"
     },
     "output_type": "display_data"
    },
    {
     "data": {
      "image/png": "[encoded data removed]",
      "text/plain": [
       "<Figure size 432x288 with 1 Axes>"
      ]
     },
     "metadata": {
      "needs_background": "light"
     },
     "output_type": "display_data"
    }
   ],
   "source": [
    "for component in res['components']['degree']:\n",
    "    plt.title(f'Total number: {np.sum(component)}')\n",
    "    deghist(component)\n"
   ]
  },
  {
   "cell_type": "markdown",
   "id": "c88b75d8-d916-468a-b2fa-34daa84baf12",
   "metadata": {},
   "source": [
    "### cosine similarity"
   ]
  },
  {
   "cell_type": "code",
   "execution_count": 95,
   "id": "a34ca053-89f7-47df-af49-b25d013817e4",
   "metadata": {},
   "outputs": [],
   "source": [
    "knn_graph = kneighbors_graph(trdf, n_neighbors=5, mode='distance',\n",
    "                            n_jobs=-1,\n",
    "                            metric='cosine')\n",
    "# Gs = nx.from_scipy_sparse_array(knn_grap)\n"
   ]
  },
  {
   "cell_type": "code",
   "execution_count": 96,
   "id": "3faba661-57ff-413c-baaa-a32d535c8699",
   "metadata": {},
   "outputs": [],
   "source": [
    "Gcos = nx.from_scipy_sparse_array(knn_graph)"
   ]
  },
  {
   "cell_type": "code",
   "execution_count": 101,
   "id": "5fcc2616-2f03-4bd6-add5-6d6253805c53",
   "metadata": {},
   "outputs": [],
   "source": [
    "cos = describe_graph(Gcos, False)"
   ]
  },
  {
   "cell_type": "code",
   "execution_count": 102,
   "id": "33f22a2f-170b-4902-b446-4a0fdb0c35db",
   "metadata": {},
   "outputs": [
    {
     "data": {
      "text/plain": [
       "{'av_clust': 0.46599819844424195,\n",
       " 'is_directed': False,\n",
       " 'hist': [0, 0, 0, 0, 0, 653, 516, 353, 256, 151, 77, 27, 29, 17, 3, 3],\n",
       " 'density': 0.0032132451428492524,\n",
       " 'ncomp': 1,\n",
       " 'components': {'diameter': [20],\n",
       "  'degree': [[0, 0, 0, 0, 0, 653, 516, 353, 256, 151, 77, 27, 29, 17, 3, 3]]}}"
      ]
     },
     "execution_count": 102,
     "metadata": {},
     "output_type": "execute_result"
    }
   ],
   "source": [
    "cos"
   ]
  },
  {
   "cell_type": "markdown",
   "id": "c7b5a77e-66bf-482e-a046-a1aff8b6b454",
   "metadata": {},
   "source": [
    "## Radial neighborhood"
   ]
  },
  {
   "cell_type": "code",
   "execution_count": 40,
   "id": "64a41541-e782-4cf9-93a9-c6f986c95083",
   "metadata": {},
   "outputs": [],
   "source": [
    "from sklearn.neighbors import radius_neighbors_graph\n",
    "eps_graph = radius_neighbors_graph(trdf, 1.5, mode='connectivity',\n",
    "                            n_jobs=-1)\n",
    "Gr = nx.from_scipy_sparse_array(eps_graph)"
   ]
  },
  {
   "cell_type": "code",
   "execution_count": 54,
   "id": "de308f4b-7347-4961-97fd-adab71668887",
   "metadata": {},
   "outputs": [],
   "source": [
    "epsns =  np.arange(1., 10., .5)\n",
    "comps = []\n",
    "for eps in epsns:\n",
    "    eps_graph = radius_neighbors_graph(trdf, eps, mode='connectivity',\n",
    "                            n_jobs=-1)\n",
    "    Gr = nx.from_scipy_sparse_array(eps_graph)\n",
    "    comps.append(len(list(nx.connected_components(Gr))))\n",
    "\n",
    "    \n",
    "    "
   ]
  },
  {
   "cell_type": "code",
   "execution_count": 88,
   "id": "14167c38-f192-44ad-81b4-54a94e76ff53",
   "metadata": {},
   "outputs": [
    {
     "data": {
      "text/plain": [
       "False"
      ]
     },
     "execution_count": 88,
     "metadata": {},
     "output_type": "execute_result"
    }
   ],
   "source": [
    "G.is_directed()"
   ]
  },
  {
   "cell_type": "code",
   "execution_count": 69,
   "id": "29f9bac3-714c-4185-8e9f-d7dd34638d69",
   "metadata": {},
   "outputs": [
    {
     "data": {
      "image/png": "[encoded data removed]",
      "text/plain": [
       "<Figure size 576x360 with 1 Axes>"
      ]
     },
     "metadata": {
      "needs_background": "light"
     },
     "output_type": "display_data"
    }
   ],
   "source": [
    "plt.figure(figsize=(8, 5))\n",
    "plt.plot(epsns, comps)\n",
    "plt.title('Диапазон [1, 9.5]')\n",
    "plt.grid()\n",
    "plt.ylabel('Количество компонент')\n",
    "plt.xlabel(r'$\\epsilon$')\n",
    "plt.xticks(epsns)\n",
    "plt.yscale('linear')"
   ]
  },
  {
   "cell_type": "code",
   "execution_count": 71,
   "id": "b016b90d-f937-47a1-a5fb-b49a2ee12d2e",
   "metadata": {},
   "outputs": [
    {
     "data": {
      "image/png": "[encoded data removed]",
      "text/plain": [
       "<Figure size 576x360 with 1 Axes>"
      ]
     },
     "metadata": {
      "needs_background": "light"
     },
     "output_type": "display_data"
    }
   ],
   "source": [
    "plt.figure(figsize=(8, 5))\n",
    "sl = slice(2, 8)\n",
    "plt.plot(epsns[sl], comps[sl])\n",
    "plt.grid()\n",
    "plt.title('Диапазон [2, 4.5]')\n",
    "plt.ylabel('Количество компонент')\n",
    "plt.xlabel(r'$\\epsilon$')\n",
    "plt.xticks(epsns[sl])\n",
    "plt.yscale('linear')"
   ]
  },
  {
   "cell_type": "code",
   "execution_count": 74,
   "id": "f52db424-cfa5-4cf7-a538-768ad2572ac2",
   "metadata": {},
   "outputs": [],
   "source": [
    "eps_graph = radius_neighbors_graph(trdf, 4.5, mode='connectivity',\n",
    "                            n_jobs=-1)\n",
    "Gr = nx.from_scipy_sparse_array(eps_graph)"
   ]
  },
  {
   "cell_type": "code",
   "execution_count": null,
   "id": "c5aa88ee-acdb-4d5e-997e-64d8ed850d68",
   "metadata": {},
   "outputs": [],
   "source": [
    "resr = describe_graph(Gr, False)"
   ]
  },
  {
   "cell_type": "markdown",
   "id": "fb67cbd4-dd1e-400e-a4d9-08bb5ea22960",
   "metadata": {},
   "source": [
    "## Объединение по признакам пациента"
   ]
  },
  {
   "cell_type": "code",
   "execution_count": 116,
   "id": "5f1c972b-b5cd-40f5-b6b0-049b0ed711e8",
   "metadata": {},
   "outputs": [],
   "source": [
    "unidf = pd.read_csv('data/refined/wide/blood_chemistry_17.csv',\n",
    "                 index_col=(0, 1)\n",
    "                )\n",
    "cols = [col for col, t in unidf.dtypes.items() if t == bool] \n",
    "unidf.loc[:, cols] = unidf[cols].astype(int)"
   ]
  },
  {
   "cell_type": "code",
   "execution_count": 210,
   "id": "960756d9-ce2c-4a78-bb46-5750899e6b9d",
   "metadata": {},
   "outputs": [],
   "source": [
    "def group_graph(df, pat_cols, to_discretize=None, index_cols=None, n=5,):\n",
    "    if not to_discretize:\n",
    "        to_discretize = ['age']\n",
    "    if not index_cols:\n",
    "        index_cols = ['subject_id', 'specimen_id']\n",
    "    tmp = df[pat_cols]\n",
    "    tmp.loc[:, to_discretize] //= n\n",
    "    tmp.loc[:, to_discretize] *= n\n",
    "    tmp = tmp.reset_index()\n",
    "    idx = list(zip(tmp['subject_id'], tmp['specimen_id']))\n",
    "    tmp.drop(['subject_id', 'specimen_id'], axis=1, inplace=True)\n",
    "    tmp['index'] = idx\n",
    "    tmp.iloc[:, -1] = tmp.iloc[:, -1].map(subsam_to_ind)\n",
    "    tmp = tmp.groupby(pat_cols).aggregate(list)['index']\n",
    "    return tmp\n",
    "\n",
    "def complete_graph_from_components(components):\n",
    "    edgelist = []\n",
    "    for lst in components:\n",
    "        g = nx.complete_graph(lst)\n",
    "        edgelist.extend(nx.to_edgelist(g))\n",
    "    G = nx.from_edgelist(edgelist)\n",
    "    return G"
   ]
  },
  {
   "cell_type": "markdown",
   "id": "cd2dfccc-8495-43ee-b0cc-5e182593fd12",
   "metadata": {},
   "source": [
    "### age & gender"
   ]
  },
  {
   "cell_type": "code",
   "execution_count": 211,
   "id": "3b3ff661-9d81-453e-a6ad-5e13838fd83a",
   "metadata": {},
   "outputs": [],
   "source": [
    "pat_cols = [\n",
    "    'age', \n",
    "    # 'race', \n",
    "    'gender'\n",
    "]\n",
    "to_discretize = ['age']"
   ]
  },
  {
   "cell_type": "code",
   "execution_count": 212,
   "id": "f124cc95-e328-4c42-b524-9af9df6b71d0",
   "metadata": {},
   "outputs": [],
   "source": [
    "agge = group_graph(unidf, pat_cols)\n",
    "G = complete_graph_from_components(agge)\n",
    "agge_graph = describe_graph(G, )"
   ]
  },
  {
   "cell_type": "code",
   "execution_count": 213,
   "id": "966ad219-3002-47a7-b3b8-a55a4a27d23f",
   "metadata": {},
   "outputs": [
    {
     "data": {
      "image/png": "[encoded data removed]",
      "text/plain": [
       "<Figure size 432x288 with 1 Axes>"
      ]
     },
     "metadata": {
      "needs_background": "light"
     },
     "output_type": "display_data"
    },
    {
     "data": {
      "text/plain": [
       "27"
      ]
     },
     "execution_count": 213,
     "metadata": {},
     "output_type": "execute_result"
    }
   ],
   "source": [
    "deghist(agge_graph['hist'])\n",
    "agge_graph['ncomp']"
   ]
  },
  {
   "cell_type": "markdown",
   "id": "9c0e0bab-292d-448b-b845-013cd7e5ae33",
   "metadata": {},
   "source": [
    "### age & gender & race"
   ]
  },
  {
   "cell_type": "code",
   "execution_count": 214,
   "id": "55d40596-2b29-494b-8dfe-14ef69ca4d60",
   "metadata": {},
   "outputs": [],
   "source": [
    "pat_cols = [\n",
    "    'age', \n",
    "    'race', \n",
    "    'gender'\n",
    "]\n",
    "aggera = group_graph(unidf, pat_cols)\n",
    "G = complete_graph_from_components(aggera)\n",
    "aggera_graph = describe_graph(G, )"
   ]
  },
  {
   "cell_type": "code",
   "execution_count": 221,
   "id": "23cc817e-fe40-4aff-81a3-fb3e4153d484",
   "metadata": {},
   "outputs": [
    {
     "data": {
      "image/png": "[encoded data removed]",
      "text/plain": [
       "<Figure size 432x288 with 1 Axes>"
      ]
     },
     "metadata": {
      "needs_background": "light"
     },
     "output_type": "display_data"
    },
    {
     "data": {
      "text/plain": [
       "47"
      ]
     },
     "execution_count": 221,
     "metadata": {},
     "output_type": "execute_result"
    }
   ],
   "source": [
    "deghist(aggera_graph['hist'])\n",
    "aggera_graph['ncomp']"
   ]
  },
  {
   "cell_type": "code",
   "execution_count": 243,
   "id": "fed9e015-2fd0-48b1-b2a7-c1d80146bf88",
   "metadata": {},
   "outputs": [
    {
     "data": {
      "image/png": "[encoded data removed]",
      "text/plain": [
       "<Figure size 432x288 with 1 Axes>"
      ]
     },
     "metadata": {
      "needs_background": "light"
     },
     "output_type": "display_data"
    }
   ],
   "source": [
    "deghist(aggera_graph['hist'], (0, 50))"
   ]
  },
  {
   "cell_type": "markdown",
   "id": "f9dc2131-79fd-4653-81e3-db0c76418647",
   "metadata": {},
   "source": [
    "Следует заметить, что 47 компонент не включили в себя 2 изолированных узла (их надо включать отдельно)"
   ]
  },
  {
   "cell_type": "code",
   "execution_count": null,
   "id": "af2a47d7-62e9-47b0-a706-aafc346846c5",
   "metadata": {},
   "outputs": [],
   "source": []
  },
  {
   "cell_type": "code",
   "execution_count": null,
   "id": "89c9702b-282c-4611-a7d0-b728879797a2",
   "metadata": {},
   "outputs": [],
   "source": []
  },
  {
   "cell_type": "code",
   "execution_count": null,
   "id": "ebcbf23b-6c55-4ab7-8ab5-126c65209284",
   "metadata": {},
   "outputs": [],
   "source": []
  }
 ],
 "metadata": {
  "kernelspec": {
   "display_name": ".venv",
   "language": "python",
   "name": "python3"
  },
  "language_info": {
   "codemirror_mode": {
    "name": "ipython",
    "version": 3
   },
   "file_extension": ".py",
   "mimetype": "text/x-python",
   "name": "python",
   "nbconvert_exporter": "python",
   "pygments_lexer": "ipython3",
   "version": "3.10.0"
  }
 },
 "nbformat": 4,
 "nbformat_minor": 5
}
