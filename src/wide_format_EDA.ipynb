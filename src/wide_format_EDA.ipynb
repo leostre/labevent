{
 "cells": [
  {
   "cell_type": "code",
   "execution_count": null,
   "id": "c130079d-1be2-4dba-bc59-5164cabf001e",
   "metadata": {},
   "outputs": [],
   "source": [
    "Данный блокнот посвящён исследованию различных инициализаций графа"
   ]
  }
 ],
 "metadata": {
  "kernelspec": {
   "display_name": "labevent-py3.10",
   "language": "python",
   "name": "labevent-py3.10"
  },
  "language_info": {
   "codemirror_mode": {
    "name": "ipython",
    "version": 3
   },
   "file_extension": ".py",
   "mimetype": "text/x-python",
   "name": "python",
   "nbconvert_exporter": "python",
   "pygments_lexer": "ipython3",
   "version": "3.10.0"
  }
 },
 "nbformat": 4,
 "nbformat_minor": 5
}
