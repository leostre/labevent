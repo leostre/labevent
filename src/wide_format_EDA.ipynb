{
 "cells": [
  {
   "cell_type": "markdown",
   "id": "7b4a59d3-0b1e-4570-9a5a-3e53d968c783",
   "metadata": {},
   "source": [
    "Данный блокнот посвящён исследованию различных инициализаций графа"
   ]
  },
  {
   "cell_type": "code",
   "execution_count": 1,
   "id": "b7e2c186-f352-4770-8c04-7700d6fe0b36",
   "metadata": {},
   "outputs": [],
   "source": [
    "import numpy as np \n",
    "import pandas as pd\n",
    "import seaborn as sns\n",
    "import matplotlib.pyplot as plt\n",
    "import os\n",
    "import sys"
   ]
  },
  {
   "cell_type": "code",
   "execution_count": 2,
   "id": "58fab644-ffcd-4ce7-94f0-2d39c2d28530",
   "metadata": {},
   "outputs": [],
   "source": [
    "while not os.getcwd().endswith('labevent'):\n",
    "    os.chdir('..')\n",
    "os.getcwd()\n",
    "\n",
    "sys.path.append('src')"
   ]
  },
  {
   "cell_type": "markdown",
   "id": "0acff545-5063-4335-b7cf-fbd52726d145",
   "metadata": {},
   "source": [
    "# Считывание и предобработка"
   ]
  },
  {
   "cell_type": "code",
   "execution_count": 3,
   "id": "7c4b1ea9-b2e7-4c1d-9093-25c2534f0cde",
   "metadata": {},
   "outputs": [],
   "source": [
    "df = pd.read_csv('data/refined/wide/blood_chemistry_17.csv',\n",
    "                 index_col=(0, 1)\n",
    "                )"
   ]
  },
  {
   "cell_type": "markdown",
   "id": "86b76b14-5dff-48c8-a1ac-e6e83aab527d",
   "metadata": {},
   "source": [
    "Выборка содержит данные о пацентах и образцах в количествах:"
   ]
  },
  {
   "cell_type": "code",
   "execution_count": 4,
   "id": "c0fabd16-2e79-40d8-8e78-4532b49b0136",
   "metadata": {},
   "outputs": [
    {
     "data": {
      "text/plain": [
       "subject_id       91\n",
       "specimen_id    2085\n",
       "dtype: int64"
      ]
     },
     "execution_count": 4,
     "metadata": {},
     "output_type": "execute_result"
    }
   ],
   "source": [
    "df.index.to_frame().nunique()"
   ]
  },
  {
   "cell_type": "code",
   "execution_count": 5,
   "id": "840d0686-fb53-4ebc-bc50-b4f5c0202d8c",
   "metadata": {},
   "outputs": [],
   "source": [
    "cols = [col for col, t in df.dtypes.items() if t == bool] \n",
    "df.loc[:, cols] = df[cols].astype(int)"
   ]
  },
  {
   "cell_type": "code",
   "execution_count": 6,
   "id": "8ac03992-963d-43b3-be2f-57af5e260b9a",
   "metadata": {},
   "outputs": [],
   "source": [
    "df = pd.get_dummies(df)"
   ]
  },
  {
   "cell_type": "code",
   "execution_count": 7,
   "id": "40aa75ec-55f7-438f-a517-b3d297c26ff1",
   "metadata": {},
   "outputs": [
    {
     "data": {
      "text/plain": [
       "array([[0.28007596, 0.46114671, 0.12171969, 0.52260835, 0.40916841],\n",
       "       [0.07163955, 0.09896668, 0.98628836, 0.69406788, 0.44868846],\n",
       "       [0.64017681, 0.27048886, 0.30187397, 0.07334207, 0.05258557],\n",
       "       [0.80747513, 0.81330534, 0.00497161, 0.33005534, 0.08908686],\n",
       "       [0.46794691, 0.61768946, 0.55104806, 0.13406187, 0.70244284]])"
      ]
     },
     "execution_count": 7,
     "metadata": {},
     "output_type": "execute_result"
    }
   ],
   "source": [
    "rng = np.random.Generator(np.random.PCG64(20))\n",
    "rng.random((5, 5))"
   ]
  },
  {
   "cell_type": "code",
   "execution_count": 8,
   "id": "1bda5f1d-3de7-4b1f-ad4b-aa9b7bb4a3b2",
   "metadata": {},
   "outputs": [
    {
     "data": {
      "text/plain": [
       "array([[0.61296941, 0.46742536, 0.29712714, 0.91839388, 0.0834397 ],\n",
       "       [0.14476327, 0.37857075, 0.25922384, 0.61620963, 0.69455439],\n",
       "       [0.70389431, 0.77388606, 0.1752363 , 0.74631394, 0.24604889],\n",
       "       [0.53600244, 0.22116457, 0.81217463, 0.10789447, 0.43083784],\n",
       "       [0.63371852, 0.69742316, 0.09536905, 0.98411968, 0.2899219 ]])"
      ]
     },
     "execution_count": 8,
     "metadata": {},
     "output_type": "execute_result"
    }
   ],
   "source": [
    "rng.random((5, 5))"
   ]
  },
  {
   "cell_type": "code",
   "execution_count": 9,
   "id": "b218f9cd-9057-42b7-aa1e-02d8799e7a8f",
   "metadata": {},
   "outputs": [],
   "source": [
    "import missing_sampler"
   ]
  },
  {
   "cell_type": "code",
   "execution_count": 10,
   "id": "138b96df-ebc8-43f9-bce1-b799cde857cd",
   "metadata": {},
   "outputs": [],
   "source": [
    "um = missing_sampler.UniformMissing('data/refined/wide/blood_chemistry_17.csv',\n",
    "                   target_cols=['Potassium',\n",
    "       'Sodium', 'Creatinine', 'Chloride', 'Urea Nitrogen', 'Bicarbonate',\n",
    "       'Anion Gap', 'Glucose', 'Magnesium', 'Calcium, Total', 'Phosphate'],\n",
    "                    droprate=.3,\n",
    "                    random_state=21\n",
    "                   )"
   ]
  },
  {
   "cell_type": "code",
   "execution_count": 11,
   "id": "4aca1375-2b19-4713-be06-45d41fb195cd",
   "metadata": {},
   "outputs": [
    {
     "data": {
      "text/plain": [
       "<missing_sampler.UniformMissing at 0x26905f22890>"
      ]
     },
     "execution_count": 11,
     "metadata": {},
     "output_type": "execute_result"
    }
   ],
   "source": [
    "um.drop()"
   ]
  },
  {
   "cell_type": "code",
   "execution_count": 12,
   "id": "a34ca053-89f7-47df-af49-b25d013817e4",
   "metadata": {},
   "outputs": [],
   "source": [
    "target_cols=['Potassium',\n",
    "       'Sodium', 'Creatinine', 'Chloride', 'Urea Nitrogen', 'Bicarbonate',\n",
    "       'Anion Gap', 'Glucose', 'Magnesium', 'Calcium, Total', 'Phosphate']"
   ]
  },
  {
   "cell_type": "code",
   "execution_count": 13,
   "id": "6abb525e-b2e0-43d0-8484-8b5920651966",
   "metadata": {},
   "outputs": [
    {
     "data": {
      "text/plain": [
       "Potassium         626\n",
       "Sodium            609\n",
       "Creatinine        634\n",
       "Chloride          643\n",
       "Urea Nitrogen     674\n",
       "Bicarbonate       603\n",
       "Anion Gap         595\n",
       "Glucose           586\n",
       "Magnesium         593\n",
       "Calcium, Total    608\n",
       "Phosphate         626\n",
       "Name: Nan number, dtype: int32"
      ]
     },
     "execution_count": 13,
     "metadata": {},
     "output_type": "execute_result"
    }
   ],
   "source": [
    "um.droppedn"
   ]
  },
  {
   "cell_type": "code",
   "execution_count": null,
   "id": "64a41541-e782-4cf9-93a9-c6f986c95083",
   "metadata": {},
   "outputs": [],
   "source": []
  },
  {
   "cell_type": "code",
   "execution_count": null,
   "id": "da16f815-fe5a-493c-b492-da2fb91389a0",
   "metadata": {},
   "outputs": [],
   "source": []
  },
  {
   "cell_type": "code",
   "execution_count": null,
   "id": "de308f4b-7347-4961-97fd-adab71668887",
   "metadata": {},
   "outputs": [],
   "source": []
  }
 ],
 "metadata": {
  "kernelspec": {
   "display_name": "Python 3 (ipykernel)",
   "language": "python",
   "name": "python3"
  },
  "language_info": {
   "codemirror_mode": {
    "name": "ipython",
    "version": 3
   },
   "file_extension": ".py",
   "mimetype": "text/x-python",
   "name": "python",
   "nbconvert_exporter": "python",
   "pygments_lexer": "ipython3",
   "version": "3.10.0"
  }
 },
 "nbformat": 4,
 "nbformat_minor": 5
}
