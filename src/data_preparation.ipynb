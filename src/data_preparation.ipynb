{
 "cells": [
  {
   "cell_type": "markdown",
   "id": "d0f756fd-3ff3-47e7-87c0-407066ae82d8",
   "metadata": {
    "tags": []
   },
   "source": [
    "# Считывание и отбор данных"
   ]
  },
  {
   "cell_type": "code",
   "execution_count": 124,
   "id": "d20d9af5-3af7-4c03-bb71-5cf128e30738",
   "metadata": {},
   "outputs": [],
   "source": [
    "import pandas as pd\n",
    "import numpy as np\n",
    "import matplotlib.pyplot as plt\n",
    "import seaborn as sns\n",
    "import os\n",
    "from tqdm import tqdm"
   ]
  },
  {
   "cell_type": "code",
   "execution_count": 4,
   "id": "aa1df604-0a3f-436b-8a96-fca0ecbff816",
   "metadata": {},
   "outputs": [],
   "source": [
    "DELETE_WOREF = True # удалять ли из датасета записи с отсутствующими некстраполируемыми референсами\n",
    "DELETE_MULREF = True # удалять ли из датасета записи с отсутствующими экстраполируемыми множественными референсами\n",
    "DELETE_ZERO_RANGES = False # удалять ли записи с диапазонами [0, 0]\n",
    "INCLUDE_GAS_INTO_HEMA = False # объединять ли item category 'Blood Gas' и 'Hematology'"
   ]
  },
  {
   "cell_type": "code",
   "execution_count": 5,
   "id": "8ba7f5c6-73d8-4c4c-9281-1c4ff1cf0630",
   "metadata": {},
   "outputs": [],
   "source": [
    "def naprop(x):\n",
    "    return x.isna().sum() / x.shape[0] * 100"
   ]
  },
  {
   "cell_type": "code",
   "execution_count": 6,
   "id": "5ab79c4f-948f-4083-bd56-d399c886f436",
   "metadata": {},
   "outputs": [
    {
     "data": {
      "text/plain": [
       "'C:\\\\Users\\\\user\\\\labevent'"
      ]
     },
     "execution_count": 6,
     "metadata": {},
     "output_type": "execute_result"
    }
   ],
   "source": [
    "while not os.getcwd().endswith('labevent'):\n",
    "    os.chdir('..')\n",
    "os.getcwd()"
   ]
  },
  {
   "cell_type": "code",
   "execution_count": null,
   "id": "1a4241e4-78fb-40e1-b728-f85dd34950e5",
   "metadata": {},
   "outputs": [],
   "source": []
  },
  {
   "cell_type": "markdown",
   "id": "0f7e3950-1a65-4b71-b425-4103646105b2",
   "metadata": {},
   "source": [
    "## labevents"
   ]
  },
  {
   "cell_type": "code",
   "execution_count": 127,
   "id": "82ec4cb1-34ce-4057-ae7e-ee49dce66c27",
   "metadata": {},
   "outputs": [
    {
     "data": {
      "text/html": [
       "<div>\n",
       "<style scoped>\n",
       "    .dataframe tbody tr th:only-of-type {\n",
       "        vertical-align: middle;\n",
       "    }\n",
       "\n",
       "    .dataframe tbody tr th {\n",
       "        vertical-align: top;\n",
       "    }\n",
       "\n",
       "    .dataframe thead th {\n",
       "        text-align: right;\n",
       "    }\n",
       "</style>\n",
       "<table border=\"1\" class=\"dataframe\">\n",
       "  <thead>\n",
       "    <tr style=\"text-align: right;\">\n",
       "      <th></th>\n",
       "      <th>labevent_id</th>\n",
       "      <th>subject_id</th>\n",
       "      <th>hadm_id</th>\n",
       "      <th>specimen_id</th>\n",
       "      <th>itemid</th>\n",
       "      <th>order_provider_id</th>\n",
       "      <th>charttime</th>\n",
       "      <th>storetime</th>\n",
       "      <th>value</th>\n",
       "      <th>valuenum</th>\n",
       "      <th>valueuom</th>\n",
       "      <th>ref_range_lower</th>\n",
       "      <th>ref_range_upper</th>\n",
       "      <th>flag</th>\n",
       "      <th>priority</th>\n",
       "      <th>comments</th>\n",
       "    </tr>\n",
       "  </thead>\n",
       "  <tbody>\n",
       "    <tr>\n",
       "      <th>0</th>\n",
       "      <td>172061</td>\n",
       "      <td>10014354</td>\n",
       "      <td>29600294.0</td>\n",
       "      <td>1808066</td>\n",
       "      <td>51277</td>\n",
       "      <td>NaN</td>\n",
       "      <td>2148-08-16 00:00:00</td>\n",
       "      <td>2148-08-16 01:30:00</td>\n",
       "      <td>15.4</td>\n",
       "      <td>15.40</td>\n",
       "      <td>%</td>\n",
       "      <td>10.5</td>\n",
       "      <td>15.5</td>\n",
       "      <td>NaN</td>\n",
       "      <td>ROUTINE</td>\n",
       "      <td>NaN</td>\n",
       "    </tr>\n",
       "    <tr>\n",
       "      <th>1</th>\n",
       "      <td>172062</td>\n",
       "      <td>10014354</td>\n",
       "      <td>29600294.0</td>\n",
       "      <td>1808066</td>\n",
       "      <td>51279</td>\n",
       "      <td>NaN</td>\n",
       "      <td>2148-08-16 00:00:00</td>\n",
       "      <td>2148-08-16 01:30:00</td>\n",
       "      <td>3.35</td>\n",
       "      <td>3.35</td>\n",
       "      <td>m/uL</td>\n",
       "      <td>4.6</td>\n",
       "      <td>6.1</td>\n",
       "      <td>abnormal</td>\n",
       "      <td>ROUTINE</td>\n",
       "      <td>NaN</td>\n",
       "    </tr>\n",
       "    <tr>\n",
       "      <th>2</th>\n",
       "      <td>172068</td>\n",
       "      <td>10014354</td>\n",
       "      <td>29600294.0</td>\n",
       "      <td>1808066</td>\n",
       "      <td>52172</td>\n",
       "      <td>NaN</td>\n",
       "      <td>2148-08-16 00:00:00</td>\n",
       "      <td>2148-08-16 01:30:00</td>\n",
       "      <td>49.7</td>\n",
       "      <td>49.70</td>\n",
       "      <td>fL</td>\n",
       "      <td>35.1</td>\n",
       "      <td>46.3</td>\n",
       "      <td>abnormal</td>\n",
       "      <td>ROUTINE</td>\n",
       "      <td>NaN</td>\n",
       "    </tr>\n",
       "    <tr>\n",
       "      <th>3</th>\n",
       "      <td>172063</td>\n",
       "      <td>10014354</td>\n",
       "      <td>29600294.0</td>\n",
       "      <td>1808066</td>\n",
       "      <td>51301</td>\n",
       "      <td>NaN</td>\n",
       "      <td>2148-08-16 00:00:00</td>\n",
       "      <td>2148-08-16 01:30:00</td>\n",
       "      <td>20.3</td>\n",
       "      <td>20.30</td>\n",
       "      <td>K/uL</td>\n",
       "      <td>4.0</td>\n",
       "      <td>10.0</td>\n",
       "      <td>abnormal</td>\n",
       "      <td>ROUTINE</td>\n",
       "      <td>NaN</td>\n",
       "    </tr>\n",
       "    <tr>\n",
       "      <th>4</th>\n",
       "      <td>172050</td>\n",
       "      <td>10014354</td>\n",
       "      <td>29600294.0</td>\n",
       "      <td>1808066</td>\n",
       "      <td>51249</td>\n",
       "      <td>NaN</td>\n",
       "      <td>2148-08-16 00:00:00</td>\n",
       "      <td>2148-08-16 01:30:00</td>\n",
       "      <td>31.1</td>\n",
       "      <td>31.10</td>\n",
       "      <td>g/dL</td>\n",
       "      <td>32.0</td>\n",
       "      <td>37.0</td>\n",
       "      <td>abnormal</td>\n",
       "      <td>ROUTINE</td>\n",
       "      <td>NaN</td>\n",
       "    </tr>\n",
       "  </tbody>\n",
       "</table>\n",
       "</div>"
      ],
      "text/plain": [
       "   labevent_id  subject_id     hadm_id  specimen_id  itemid order_provider_id  \\\n",
       "0       172061    10014354  29600294.0      1808066   51277               NaN   \n",
       "1       172062    10014354  29600294.0      1808066   51279               NaN   \n",
       "2       172068    10014354  29600294.0      1808066   52172               NaN   \n",
       "3       172063    10014354  29600294.0      1808066   51301               NaN   \n",
       "4       172050    10014354  29600294.0      1808066   51249               NaN   \n",
       "\n",
       "             charttime            storetime value  valuenum valueuom  \\\n",
       "0  2148-08-16 00:00:00  2148-08-16 01:30:00  15.4     15.40        %   \n",
       "1  2148-08-16 00:00:00  2148-08-16 01:30:00  3.35      3.35     m/uL   \n",
       "2  2148-08-16 00:00:00  2148-08-16 01:30:00  49.7     49.70       fL   \n",
       "3  2148-08-16 00:00:00  2148-08-16 01:30:00  20.3     20.30     K/uL   \n",
       "4  2148-08-16 00:00:00  2148-08-16 01:30:00  31.1     31.10     g/dL   \n",
       "\n",
       "   ref_range_lower  ref_range_upper      flag priority comments  \n",
       "0             10.5             15.5       NaN  ROUTINE      NaN  \n",
       "1              4.6              6.1  abnormal  ROUTINE      NaN  \n",
       "2             35.1             46.3  abnormal  ROUTINE      NaN  \n",
       "3              4.0             10.0  abnormal  ROUTINE      NaN  \n",
       "4             32.0             37.0  abnormal  ROUTINE      NaN  "
      ]
     },
     "execution_count": 127,
     "metadata": {},
     "output_type": "execute_result"
    }
   ],
   "source": [
    "labev = pd.read_csv('data/2.2/labevents.csv.gz')\n",
    "labev.head()"
   ]
  },
  {
   "cell_type": "markdown",
   "id": "cb7d5854-b3e6-4129-97ea-7f10708387bf",
   "metadata": {},
   "source": [
    "**labevent_id** - численный идентификатор \n",
    "\n",
    "**patient_id** - идентификатор пациента (как узнать характеристики пациента?)\n",
    "\n",
    "**hadm_id** - лаборатории, близкие к больничным *stay* ???\n",
    "\n",
    "**specimen_id** - образец, на котором сделаны измерения (может применяться для группировки разных \n",
    "измерений на одном образце) \\[аналог реагента\\] \n",
    "\n",
    "**itemid** - тип образца (1622 типа)\n",
    "\n",
    "**order_provider_id** - кто заказал исследование (не важно)\n",
    "\n",
    "**charttime** / **storetime** - время регистрации и получения результатов (можно использовать для оценки старости образца, но малоинформативно)\n",
    "\n",
    "**value, valuenum** - значение как object и значение numeric\n",
    "\n",
    "**valueuom** - мера измерения\n",
    "\n",
    "**ref_range_lower, ref_range_upper** - референсные значения\n",
    "\n",
    "**flag** - метка нормальности (входит ли в референс)\n",
    "\n",
    "**priority** - в каком режиме проведено исследование (теоретически, может иметь влияние на характеристики)"
   ]
  },
  {
   "cell_type": "markdown",
   "id": "9dca08c3-9e5a-4783-b91a-0988b11599c3",
   "metadata": {},
   "source": [
    "Проверим количество пропусков в столбцах (%)"
   ]
  },
  {
   "cell_type": "code",
   "execution_count": 18,
   "id": "92323100-c77f-4a2a-9675-6213e37edf26",
   "metadata": {},
   "outputs": [
    {
     "data": {
      "image/png": "[encoded data removed]",
      "text/plain": [
       "<Figure size 1800x720 with 1 Axes>"
      ]
     },
     "metadata": {
      "needs_background": "light"
     },
     "output_type": "display_data"
    }
   ],
   "source": [
    "import missingno as msno\n",
    "_ = msno.dendrogram(labev.sample(500))"
   ]
  },
  {
   "cell_type": "code",
   "execution_count": 128,
   "id": "732d06cf-d031-4b4c-9eda-419d90b2e245",
   "metadata": {},
   "outputs": [],
   "source": [
    "labev.drop(['labevent_id', 'hadm_id', 'priority', 'flag', 'comments', 'storetime', 'order_provider_id'], axis=1, inplace=True)"
   ]
  },
  {
   "cell_type": "markdown",
   "id": "600f8e4c-4ca4-4fae-9238-0cfa89cba3a7",
   "metadata": {},
   "source": [
    "### Дата регистрации\n",
    "\n",
    "Поскольку *charttime* не содержит пропусков, а образцы хранятся перед анализом не дольше определённого количества времени, определённого методикой, *storetime* не играет значения. \n",
    "\n",
    "В то же время, можно заметить, что года проведения, указанные в таблице, некорректны. Пока что неясно, является ли это бессмысленным заполнением данных или данные смещены на некоторое значение. Это можно будет проверить в дальнейшем."
   ]
  },
  {
   "cell_type": "code",
   "execution_count": 129,
   "id": "ad9d00fc-7205-4823-871f-172ce726dcbe",
   "metadata": {},
   "outputs": [
    {
     "data": {
      "image/png": "[encoded data removed]",
      "text/plain": [
       "<Figure size 432x288 with 1 Axes>"
      ]
     },
     "metadata": {
      "needs_background": "light"
     },
     "output_type": "display_data"
    }
   ],
   "source": [
    "labev['charttime'] = pd.to_datetime(labev.charttime)\n",
    "tmp = labev.groupby('subject_id').charttime.aggregate(['max', 'min'])\n",
    "tmp = (tmp['max'] - tmp['min']).map(lambda x: x.days)\n",
    "_ = sns.histplot(tmp)\n",
    "_ = plt.title('Количество дней между первым и последним\\n тестированием по пациентам')\n",
    "# tmp.iloc[0].days\n"
   ]
  },
  {
   "cell_type": "markdown",
   "id": "9d9340a9-0b0b-4468-8d68-e9833f468920",
   "metadata": {},
   "source": [
    "Как можно заметить, большая часть пациентов обследовалась в течение небольшого временного промежутка. В то же время\n",
    "существуют около 40 пациентов, дела которых велись на протяжении от 1 до 10 лет. Имеет смысл произвести некоторую оценку релевантности данных в зависимости от давности.\n",
    "\n",
    "Однако на данный момент оценка расстояния имеет слишком высокую вычислительную сложность, так что проведём её позже для отдельных пациентов."
   ]
  },
  {
   "cell_type": "code",
   "execution_count": 130,
   "id": "bb3c9b58-9bcf-4d00-a138-a24780075511",
   "metadata": {},
   "outputs": [],
   "source": [
    "labev['charttime'] = labev.charttime.values.astype('int64') // (36 * 10 ** 11)"
   ]
  },
  {
   "cell_type": "markdown",
   "id": "7aa86102-97fe-4fcf-8928-7dff7e415245",
   "metadata": {
    "tags": []
   },
   "source": [
    "### Обработка единиц измерения\n",
    "\n",
    "Проверим, выполняется ли для одного itemid единообразие представленных данных"
   ]
  },
  {
   "cell_type": "code",
   "execution_count": 131,
   "id": "ca970970-144d-4b6a-accf-1a3cbd9dc1af",
   "metadata": {},
   "outputs": [
    {
     "data": {
      "text/plain": [
       "valueuom\n",
       "1           295\n",
       "0           199\n",
       "2             4\n",
       "dtype: int64"
      ]
     },
     "execution_count": 131,
     "metadata": {},
     "output_type": "execute_result"
    }
   ],
   "source": [
    "tmp = labev[['itemid', 'valueuom']]\n",
    "res = tmp.groupby('itemid').aggregate('nunique')\n",
    "res.value_counts()"
   ]
  },
  {
   "cell_type": "markdown",
   "id": "d730c51c-2ed9-482c-8fb5-28f719e636b2",
   "metadata": {},
   "source": [
    "4 типа тестирования показывают неоднозначность в указании единиц измерения"
   ]
  },
  {
   "cell_type": "code",
   "execution_count": 132,
   "id": "5178955f-fb6b-4ada-900b-644bbec906c3",
   "metadata": {},
   "outputs": [
    {
     "name": "stdout",
     "output_type": "stream",
     "text": [
      "Набор itemids соответствует 2789 записей, что составляет 2.59 %\n"
     ]
    }
   ],
   "source": [
    "itemids = res[res.valueuom == 2].index.tolist() # неоднозначные itemid\n",
    "p = labev.itemid.isin(itemids).astype(int).sum()\n",
    "print(f'Набор itemids соответствует {p} записей, что составляет {p / labev.shape[0] * 100 :.2f} %')"
   ]
  },
  {
   "cell_type": "markdown",
   "id": "08de58a4-0230-4b17-a86b-9116be50ce7b",
   "metadata": {},
   "source": [
    "Поскольку количество подобных записей невелико, удалим их из датасета, \n",
    "а также уберём колонку *valueuom* за неинформативностью "
   ]
  },
  {
   "cell_type": "code",
   "execution_count": 133,
   "id": "6cc84150-29f7-4f43-88f6-941efea53b75",
   "metadata": {},
   "outputs": [],
   "source": [
    "labev.drop(['valueuom', 'value'], axis=1, inplace=True)\n",
    "labev = labev[~ labev.itemid.isin(itemids)]"
   ]
  },
  {
   "cell_type": "code",
   "execution_count": 134,
   "id": "bfc85b79-18d0-40b9-b473-b1e09963120b",
   "metadata": {},
   "outputs": [
    {
     "data": {
      "text/plain": [
       "subject_id          0.000000\n",
       "specimen_id         0.000000\n",
       "itemid              0.000000\n",
       "charttime           0.000000\n",
       "valuenum           11.880348\n",
       "ref_range_lower    17.846729\n",
       "ref_range_upper    17.846729\n",
       "dtype: float64"
      ]
     },
     "execution_count": 134,
     "metadata": {},
     "output_type": "execute_result"
    }
   ],
   "source": [
    "naprop(labev)"
   ]
  },
  {
   "cell_type": "markdown",
   "id": "8aa7804c-9b85-47f1-9bdd-92a6198dee0b",
   "metadata": {},
   "source": [
    "Удалим те записи, для которых неизвестны значения испытаний *valuenum*"
   ]
  },
  {
   "cell_type": "code",
   "execution_count": 135,
   "id": "862fcea7-368c-457a-bed9-417b56e9ac77",
   "metadata": {},
   "outputs": [
    {
     "data": {
      "text/plain": [
       "subject_id         0.000000\n",
       "specimen_id        0.000000\n",
       "itemid             0.000000\n",
       "charttime          0.000000\n",
       "valuenum           0.000000\n",
       "ref_range_lower    7.938705\n",
       "ref_range_upper    7.938705\n",
       "dtype: float64"
      ]
     },
     "execution_count": 135,
     "metadata": {},
     "output_type": "execute_result"
    }
   ],
   "source": [
    "labev = labev[~ labev.valuenum.isna()]\n",
    "naprop(labev)"
   ]
  },
  {
   "cell_type": "markdown",
   "id": "1c905ed0-21f3-4d0c-b36a-668a77888d78",
   "metadata": {
    "tags": []
   },
   "source": [
    "### Обработка значений с неизвестными референсами "
   ]
  },
  {
   "cell_type": "code",
   "execution_count": 136,
   "id": "d2946d42-65d6-4408-be0a-e349cc0eaf8c",
   "metadata": {},
   "outputs": [
    {
     "data": {
      "text/plain": [
       "0"
      ]
     },
     "execution_count": 136,
     "metadata": {},
     "output_type": "execute_result"
    }
   ],
   "source": [
    "len(set(labev.ref_range_lower.isna().index) ^ set(labev.ref_range_upper.isna().index ))"
   ]
  },
  {
   "cell_type": "markdown",
   "id": "3c8bb89d-b1ef-485d-81ed-6536b1f9f2c1",
   "metadata": {},
   "source": [
    "нулевая симметричная разность индексов говорит, что нет таких записей, в которых не указан только один из пределов"
   ]
  },
  {
   "cell_type": "code",
   "execution_count": 137,
   "id": "636900e7-861d-45a0-9115-0f50fe5e0a42",
   "metadata": {},
   "outputs": [],
   "source": [
    "idx = labev[labev.ref_range_lower.isna()].index\n",
    "itemids = labev.loc[idx, 'itemid'].unique() # индекс экспериментов, в которых отсутствуют референсы"
   ]
  },
  {
   "cell_type": "code",
   "execution_count": 138,
   "id": "45cc0ec0-ff5a-4faf-853d-61da9d0477d0",
   "metadata": {},
   "outputs": [],
   "source": [
    "idx = labev[~labev.ref_range_lower.isna()].index\n",
    "other = labev.loc[idx, 'itemid'].unique() # индекс экспериментов, в которых присутствуют референсы"
   ]
  },
  {
   "cell_type": "code",
   "execution_count": 139,
   "id": "e3a3708b-b289-44a6-93a7-9ab6807e3e69",
   "metadata": {},
   "outputs": [],
   "source": [
    "inter = np.intersect1d(itemids, other) # индекс экспериментов, в которых возможна экстраполяция\n",
    "woref = np.setdiff1d(itemids, other) # записи без референсов без подобных экспериментов"
   ]
  },
  {
   "cell_type": "markdown",
   "id": "27f8a2a9-60a9-4a40-a421-7133638d0140",
   "metadata": {},
   "source": [
    "#### Экстраполируемые\n",
    "Проверим, как много записей демонстрируют неоднозначность в референсных значениях"
   ]
  },
  {
   "cell_type": "code",
   "execution_count": 140,
   "id": "59471096-cc19-489a-aa08-3965d028426f",
   "metadata": {},
   "outputs": [
    {
     "data": {
      "text/html": [
       "<div>\n",
       "<style scoped>\n",
       "    .dataframe tbody tr th:only-of-type {\n",
       "        vertical-align: middle;\n",
       "    }\n",
       "\n",
       "    .dataframe tbody tr th {\n",
       "        vertical-align: top;\n",
       "    }\n",
       "\n",
       "    .dataframe thead tr th {\n",
       "        text-align: left;\n",
       "    }\n",
       "\n",
       "    .dataframe thead tr:last-of-type th {\n",
       "        text-align: right;\n",
       "    }\n",
       "</style>\n",
       "<table border=\"1\" class=\"dataframe\">\n",
       "  <thead>\n",
       "    <tr>\n",
       "      <th></th>\n",
       "      <th colspan=\"2\" halign=\"left\">ref_range_upper</th>\n",
       "      <th colspan=\"2\" halign=\"left\">ref_range_lower</th>\n",
       "      <th>subject_id</th>\n",
       "    </tr>\n",
       "    <tr>\n",
       "      <th></th>\n",
       "      <th>nunique</th>\n",
       "      <th>max</th>\n",
       "      <th>nunique</th>\n",
       "      <th>min</th>\n",
       "      <th>count</th>\n",
       "    </tr>\n",
       "    <tr>\n",
       "      <th>itemid</th>\n",
       "      <th></th>\n",
       "      <th></th>\n",
       "      <th></th>\n",
       "      <th></th>\n",
       "      <th></th>\n",
       "    </tr>\n",
       "  </thead>\n",
       "  <tbody>\n",
       "    <tr>\n",
       "      <th>50904</th>\n",
       "      <td>1</td>\n",
       "      <td>999.0</td>\n",
       "      <td>1</td>\n",
       "      <td>41.0</td>\n",
       "      <td>59</td>\n",
       "    </tr>\n",
       "    <tr>\n",
       "      <th>50934</th>\n",
       "      <td>1</td>\n",
       "      <td>40.0</td>\n",
       "      <td>1</td>\n",
       "      <td>0.0</td>\n",
       "      <td>1300</td>\n",
       "    </tr>\n",
       "    <tr>\n",
       "      <th>50947</th>\n",
       "      <td>1</td>\n",
       "      <td>10.0</td>\n",
       "      <td>1</td>\n",
       "      <td>0.0</td>\n",
       "      <td>1300</td>\n",
       "    </tr>\n",
       "    <tr>\n",
       "      <th>51478</th>\n",
       "      <td>1</td>\n",
       "      <td>0.0</td>\n",
       "      <td>1</td>\n",
       "      <td>0.0</td>\n",
       "      <td>68</td>\n",
       "    </tr>\n",
       "    <tr>\n",
       "      <th>51484</th>\n",
       "      <td>1</td>\n",
       "      <td>0.0</td>\n",
       "      <td>1</td>\n",
       "      <td>0.0</td>\n",
       "      <td>47</td>\n",
       "    </tr>\n",
       "    <tr>\n",
       "      <th>51492</th>\n",
       "      <td>1</td>\n",
       "      <td>0.0</td>\n",
       "      <td>1</td>\n",
       "      <td>0.0</td>\n",
       "      <td>175</td>\n",
       "    </tr>\n",
       "    <tr>\n",
       "      <th>51678</th>\n",
       "      <td>1</td>\n",
       "      <td>60.0</td>\n",
       "      <td>1</td>\n",
       "      <td>0.0</td>\n",
       "      <td>1300</td>\n",
       "    </tr>\n",
       "    <tr>\n",
       "      <th>52135</th>\n",
       "      <td>1</td>\n",
       "      <td>0.6</td>\n",
       "      <td>1</td>\n",
       "      <td>0.0</td>\n",
       "      <td>226</td>\n",
       "    </tr>\n",
       "    <tr>\n",
       "      <th>52286</th>\n",
       "      <td>1</td>\n",
       "      <td>5.0</td>\n",
       "      <td>1</td>\n",
       "      <td>0.0</td>\n",
       "      <td>8</td>\n",
       "    </tr>\n",
       "  </tbody>\n",
       "</table>\n",
       "</div>"
      ],
      "text/plain": [
       "       ref_range_upper        ref_range_lower       subject_id\n",
       "               nunique    max         nunique   min      count\n",
       "itemid                                                        \n",
       "50904                1  999.0               1  41.0         59\n",
       "50934                1   40.0               1   0.0       1300\n",
       "50947                1   10.0               1   0.0       1300\n",
       "51478                1    0.0               1   0.0         68\n",
       "51484                1    0.0               1   0.0         47\n",
       "51492                1    0.0               1   0.0        175\n",
       "51678                1   60.0               1   0.0       1300\n",
       "52135                1    0.6               1   0.0        226\n",
       "52286                1    5.0               1   0.0          8"
      ]
     },
     "execution_count": 140,
     "metadata": {},
     "output_type": "execute_result"
    }
   ],
   "source": [
    "tmp = labev[(labev.itemid.isin(inter))]\\\n",
    ".groupby('itemid')\\\n",
    ".agg({'ref_range_upper': ['nunique', 'max'], 'ref_range_lower': ['nunique', 'min'], \n",
    "      'subject_id': 'count',})\n",
    "# .rename(columns={'ref_range_lower': 'nunique', 'ref_range_upper': 'max', 'subject_id': 'count', 'ref_range_lower': 'min'})\n",
    "# tmp[~tmp.ref_range_lower.isin((0, 1))].ref_range_upper.sum() / labev.shape[0] * 100\n",
    "tmp"
   ]
  },
  {
   "cell_type": "markdown",
   "id": "9554a867-95b0-44fb-abb7-8be49b22e79b",
   "metadata": {},
   "source": [
    "Среди тех записей, в которых возможна экстраполяция референсов, существует 59 записей (*itemid == 50904*), для которых существует более одной пары референсных значений. Следовательно, можно удалить записи с *itemid == 50904*, и беспрепятственно экстраполировать референсы для остальных.\n",
    "\n",
    "Также существуют пустые диапазоны \\[0., 0.\\], которые, по-видимому, следует исключить из рассмотрения."
   ]
  },
  {
   "cell_type": "code",
   "execution_count": 141,
   "id": "04760672-f488-4304-bb93-6b326dd4f44f",
   "metadata": {},
   "outputs": [],
   "source": [
    "lowers = tmp[tmp[('ref_range_lower', 'nunique')] == 1][('ref_range_lower', 'min')]\n",
    "uppers = tmp[tmp[('ref_range_upper', 'nunique')] == 1][('ref_range_upper', 'max')]"
   ]
  },
  {
   "cell_type": "code",
   "execution_count": 142,
   "id": "21cc97cb-51b2-43f9-8986-6e7c19879af5",
   "metadata": {},
   "outputs": [],
   "source": [
    "def fillna_map(x, col, mapping, ax_col, inplace=True):\n",
    "    if not inplace:\n",
    "        x = x.copy()\n",
    "    idx = x[x[col].isna()].index\n",
    "    x.loc[idx, col] = x.loc[idx, ax_col].map(mapping)\n",
    "    return x\n",
    "\n",
    "_ = fillna_map(labev, 'ref_range_lower', lowers, 'itemid')\n",
    "_ = fillna_map(labev, 'ref_range_upper', uppers, 'itemid')"
   ]
  },
  {
   "cell_type": "code",
   "execution_count": null,
   "id": "0ab88716-35bd-4e61-8c45-0f51afcbf821",
   "metadata": {},
   "outputs": [],
   "source": []
  },
  {
   "cell_type": "code",
   "execution_count": null,
   "id": "7060b3d2-6cef-4d73-9216-c70b70d02f2d",
   "metadata": {},
   "outputs": [],
   "source": []
  },
  {
   "cell_type": "code",
   "execution_count": 143,
   "id": "ff7253ab-8087-4a95-ab21-4fa784edc00a",
   "metadata": {},
   "outputs": [],
   "source": [
    "if DELETE_MULREF:\n",
    "    labev.drop(tmp[tmp[('ref_range_lower', 'nunique')]  > 1].index, inplace=True)"
   ]
  },
  {
   "cell_type": "code",
   "execution_count": 144,
   "id": "d91af0b7-f43e-4fcb-9fe9-c4db5a916287",
   "metadata": {},
   "outputs": [],
   "source": [
    "if DELETE_ZERO_RANGES:\n",
    "    labev = labev[labev.ref_range_upper != labev.ref_range_lower]"
   ]
  },
  {
   "cell_type": "markdown",
   "id": "b9a5fd8b-0c50-41de-9076-a5c2ab3c3071",
   "metadata": {},
   "source": [
    "#### Неэкстраполируемые"
   ]
  },
  {
   "cell_type": "code",
   "execution_count": 145,
   "id": "f0ebddc2-70d3-43d7-b4c0-d86ab5dcde52",
   "metadata": {},
   "outputs": [
    {
     "name": "stdout",
     "output_type": "stream",
     "text": [
      "Доля неэкстраполируемых записей:  3.28%\n"
     ]
    }
   ],
   "source": [
    "tmp = labev[labev.itemid.isin(woref)]\n",
    "print(f'Доля неэкстраполируемых записей: {tmp.shape[0] / labev.shape[0] * 100: .2f}%')\n",
    "# .fillna(0)\\\n",
    "# .groupby('itemid')\\\n",
    "# .agg({'ref_range_upper': 'count'})\n",
    "# # tmp[~tmp.ref_range_lower.isin((0, 1))].ref_range_upper.sum() / labev.shape[0] * 100\n",
    "# tmp.sum()"
   ]
  },
  {
   "cell_type": "markdown",
   "id": "b014531c-7cb1-44ad-b4a2-1b7b0dac254b",
   "metadata": {},
   "source": [
    "Поскольку количество значений, для которых нет образцов в датасете, невелико, можем удалить их, поскольку их заполнение потребует более тщательного анализа *itemid*"
   ]
  },
  {
   "cell_type": "code",
   "execution_count": 167,
   "id": "00d31008-2a2f-42f1-bdbd-0aa5ea1b694b",
   "metadata": {},
   "outputs": [
    {
     "data": {
      "image/png": "[encoded data removed]",
      "text/plain": [
       "<Figure size 432x288 with 1 Axes>"
      ]
     },
     "metadata": {
      "needs_background": "light"
     },
     "output_type": "display_data"
    }
   ],
   "source": [
    "# if DELETE_WOREF:\n",
    "#     labev.drop(tmp.index, inplace=True)\n",
    "    \n",
    "labev.loc[:, 'inref'] = (labev.valuenum >= labev.ref_range_lower) & (labev.valuenum <= labev.ref_range_upper)\n",
    "sns.barplot(labev.inref.value_counts())\n",
    "plt.ylabel('Count')\n",
    "plt.xlabel('inref')\n",
    "_ = plt.title('Is value in reference')"
   ]
  },
  {
   "cell_type": "markdown",
   "id": "1f2e6656-f902-484e-bdd9-5ca7dfa7735e",
   "metadata": {},
   "source": [
    "### Группировка по времени исследования"
   ]
  },
  {
   "cell_type": "code",
   "execution_count": 149,
   "id": "92f50604-d13c-48c9-973e-5f9b836934f9",
   "metadata": {},
   "outputs": [
    {
     "name": "stderr",
     "output_type": "stream",
     "text": [
      "100%|████████████████████████████████████████████████████████████████████████████████| 100/100 [03:40<00:00,  2.21s/it]\n"
     ]
    }
   ],
   "source": [
    "from sklearn.cluster import MeanShift\n",
    "\n",
    "time_cluster_col = 'time_cluster'\n",
    "subs = labev.groupby(['subject_id',])\n",
    "for i, sub in tqdm(enumerate(subs), total=subs.ngroups):\n",
    "    subj, tms = sub\n",
    "    agg = MeanShift().fit(tms.charttime.to_numpy().reshape(-1, 1))\n",
    "    labev.loc[labev.subject_id == subj, time_cluster_col] = agg.labels_\n"
   ]
  },
  {
   "cell_type": "code",
   "execution_count": 171,
   "id": "8b0f295b-c8fc-4692-9d19-e01221cffa45",
   "metadata": {},
   "outputs": [
    {
     "data": {
      "image/png": "[encoded data removed]",
      "text/plain": [
       "<Figure size 432x288 with 1 Axes>"
      ]
     },
     "metadata": {
      "needs_background": "light"
     },
     "output_type": "display_data"
    }
   ],
   "source": [
    "sns.barplot(labev.groupby(['subject_id', 'time_cluster']).inref.aggregate('all').value_counts())\n",
    "plt.title('Are all in ref?')\n",
    "plt.xlabel('allin')\n",
    "_ = plt.ylabel('Count')"
   ]
  },
  {
   "cell_type": "markdown",
   "id": "da9aa317-733d-40f5-bde0-b2ce2bca79be",
   "metadata": {},
   "source": [
    "Видно, что все значения в случае одного обращения конкретного пациента достаточно редки, что, в целом, соответствует факту, что выборка смещена в сторону больных людей. "
   ]
  },
  {
   "cell_type": "code",
   "execution_count": 176,
   "id": "19f4cc61-76b8-44a6-9c81-8d48052c1b24",
   "metadata": {},
   "outputs": [],
   "source": [
    "path = 'data/refined/labevents.csv'\n",
    "if not os.path.exists(path):\n",
    "    labev.to_csv(path)"
   ]
  },
  {
   "cell_type": "code",
   "execution_count": null,
   "id": "1feda851-ade6-499b-b497-cc6fa405f9f1",
   "metadata": {},
   "outputs": [],
   "source": []
  },
  {
   "cell_type": "markdown",
   "id": "23c802a9-b23b-4979-9729-b132e1ce0ab8",
   "metadata": {
    "tags": []
   },
   "source": [
    "## Patients\n",
    "\n",
    "Рассмотрим значения, характеризующие пациентов"
   ]
  },
  {
   "cell_type": "code",
   "execution_count": 46,
   "id": "917d2b13-00c1-44c5-87d2-5302a129d6d0",
   "metadata": {},
   "outputs": [],
   "source": [
    "labadm = pd.read_csv('data/2.2/admissions.csv.gz',\n",
    "                     usecols=['subject_id', 'language', 'marital_status', 'race'], index_col='subject_id')\n",
    "labpat = pd.read_csv('data/2.2/patients.csv.gz',\n",
    "                     usecols=['subject_id', 'gender', 'anchor_age',], index_col='subject_id')"
   ]
  },
  {
   "cell_type": "code",
   "execution_count": 47,
   "id": "ef99fe72-e68b-4fe4-b0d1-82e8ba98a7c9",
   "metadata": {},
   "outputs": [],
   "source": [
    "labpat = labpat.join(labadm, how='left')\n",
    "labpat.replace('?', np.nan, inplace=True)"
   ]
  },
  {
   "cell_type": "code",
   "execution_count": 49,
   "id": "180001e3-6716-4dde-9b6e-4b7d19854c2a",
   "metadata": {},
   "outputs": [],
   "source": [
    "labpat.drop_duplicates(inplace=True)"
   ]
  },
  {
   "cell_type": "code",
   "execution_count": 51,
   "id": "b999909b-fdcc-4162-a0a3-499becd07df6",
   "metadata": {},
   "outputs": [
    {
     "data": {
      "image/png": "[encoded data removed]",
      "text/plain": [
       "<Figure size 1800x720 with 1 Axes>"
      ]
     },
     "metadata": {
      "needs_background": "light"
     },
     "output_type": "display_data"
    }
   ],
   "source": [
    "_ = msno.dendrogram(labpat)"
   ]
  },
  {
   "cell_type": "code",
   "execution_count": 52,
   "id": "477c03ac-1605-4759-ac8d-dd123e1b2794",
   "metadata": {},
   "outputs": [
    {
     "data": {
      "image/png": "[encoded data removed]",
      "text/plain": [
       "<Figure size 432x288 with 1 Axes>"
      ]
     },
     "metadata": {
      "needs_background": "light"
     },
     "output_type": "display_data"
    }
   ],
   "source": [
    "_ = sns.histplot(labpat.anchor_age)"
   ]
  },
  {
   "cell_type": "code",
   "execution_count": 126,
   "id": "63dfcc80-1263-4414-ab5e-d8796309f479",
   "metadata": {},
   "outputs": [
    {
     "data": {
      "image/png": "[encoded data removed]",
      "text/plain": [
       "<Figure size 432x288 with 1 Axes>"
      ]
     },
     "metadata": {
      "needs_background": "light"
     },
     "output_type": "display_data"
    },
    {
     "data": {
      "image/png": "[encoded data removed]",
      "text/plain": [
       "<Figure size 432x288 with 1 Axes>"
      ]
     },
     "metadata": {
      "needs_background": "light"
     },
     "output_type": "display_data"
    },
    {
     "data": {
      "image/png": "[encoded data removed]",
      "text/plain": [
       "<Figure size 432x288 with 1 Axes>"
      ]
     },
     "metadata": {
      "needs_background": "light"
     },
     "output_type": "display_data"
    },
    {
     "data": {
      "image/png": "[encoded data removed]",
      "text/plain": [
       "<Figure size 432x288 with 1 Axes>"
      ]
     },
     "metadata": {
      "needs_background": "light"
     },
     "output_type": "display_data"
    }
   ],
   "source": [
    "def plot_cat(X):\n",
    "    for col, type_ in X.dtypes.items():\n",
    "        if type_ != 'object':\n",
    "            continue\n",
    "        sns.barplot(X[col].value_counts(), orient='h')\n",
    "        plt.show()\n",
    "plot_cat(labpat)"
   ]
  },
  {
   "cell_type": "markdown",
   "id": "48ba5765-bb3b-4746-89ef-1ef9d5e437d9",
   "metadata": {},
   "source": [
    "Можно увидеть, что признак language можно исключить, также объединить race в более большие группы"
   ]
  },
  {
   "cell_type": "code",
   "execution_count": 57,
   "id": "644f652d-bae6-476a-8e76-ffbd1a33c972",
   "metadata": {},
   "outputs": [
    {
     "data": {
      "image/png": "[encoded data removed]",
      "text/plain": [
       "<Figure size 432x288 with 1 Axes>"
      ]
     },
     "metadata": {
      "needs_background": "light"
     },
     "output_type": "display_data"
    }
   ],
   "source": [
    "def race_transform(x):\n",
    "    if 'WHITE' in x:\n",
    "        return 'WHITE'\n",
    "    elif 'HISPANIC' in x or 'PORTUGUESE' in x:\n",
    "        return 'HISPANIC'\n",
    "    elif 'BLACK' in x:\n",
    "        return 'BLACK'\n",
    "    else:\n",
    "        return 'UNKNOWN'\n",
    "    \n",
    "_ = sns.barplot(labpat.race.map(race_transform).value_counts(), orient='h')"
   ]
  },
  {
   "cell_type": "code",
   "execution_count": 58,
   "id": "059aa663-abec-402c-b67e-ee66ffaec62d",
   "metadata": {},
   "outputs": [],
   "source": [
    "if 'language' in labpat.columns:\n",
    "    labpat.drop('language', axis=1, inplace=True)\n",
    "    \n",
    "labpat.loc[:, 'race'] = labpat.race.map(race_transform)\n",
    "labpat.rename(columns={'anchor_age': 'age'}, inplace=True)"
   ]
  },
  {
   "cell_type": "code",
   "execution_count": 59,
   "id": "59bff787-ed69-4d8d-8c4e-5235eb39be97",
   "metadata": {},
   "outputs": [
    {
     "data": {
      "text/plain": [
       "gender            0.000000\n",
       "age               0.000000\n",
       "marital_status    9.803922\n",
       "race              0.000000\n",
       "dtype: float64"
      ]
     },
     "execution_count": 59,
     "metadata": {},
     "output_type": "execute_result"
    }
   ],
   "source": [
    "naprop(labpat)"
   ]
  },
  {
   "cell_type": "markdown",
   "id": "d288c733-de0b-4665-a1f5-e8c17918fa83",
   "metadata": {},
   "source": [
    "9.8% пациентов соответствует 2805 записям (~3% labev) "
   ]
  },
  {
   "cell_type": "code",
   "execution_count": 60,
   "id": "0e3fd224-b602-4f47-b754-06802acc4930",
   "metadata": {},
   "outputs": [
    {
     "data": {
      "text/plain": [
       "2339"
      ]
     },
     "execution_count": 60,
     "metadata": {},
     "output_type": "execute_result"
    }
   ],
   "source": [
    "labev[labev.subject_id.isin(labpat[labpat.marital_status.isna()].index)].shape[0]"
   ]
  },
  {
   "cell_type": "markdown",
   "id": "48685df1-e809-4b4f-a696-e9edd549fc4d",
   "metadata": {},
   "source": [
    "Не удалось заполнить пропуски в *marital_status* на основании байесовского классификатора"
   ]
  },
  {
   "cell_type": "code",
   "execution_count": 61,
   "id": "ed4db2e3-aed3-45ce-99a0-2f24f9f93f9e",
   "metadata": {},
   "outputs": [],
   "source": [
    "labpat.drop('marital_status', axis=1, inplace=True)"
   ]
  },
  {
   "cell_type": "code",
   "execution_count": 132,
   "id": "7688bef7-6d98-4037-9725-9f84ed5bc2e2",
   "metadata": {},
   "outputs": [],
   "source": [
    "# from sklearn.naive_bayes import CategoricalNB\n",
    "# from sklearn.preprocessing import OrdinalEncoder\n",
    "# from sklearn.pipeline import make_pipeline\n",
    "# from sklearn.model_selection import GridSearchCV, train_test_split\n",
    "# from sklearn.metrics import classification_report\n",
    "# from sklearn.ensemble import BaggingClassifier\n",
    "\n",
    "# na = labpat.marital_status.isna()\n",
    "\n",
    "# tmp = labpat[~na]\n",
    "# cats = [np.sort(labpat[x].unique()) for x in labpat.columns if x != 'marital_status']\n",
    "# ordtr = OrdinalEncoder(categories=cats,).fit(labpat.drop('marital_status', axis=1))\n",
    "# X = ordtr.transform(tmp.drop('marital_status', axis=1))\n",
    "# y = tmp['marital_status']                                          \n",
    "\n",
    "# xtr, xte, ytr, yte = train_test_split(X, y, random_state=2100)\n",
    "# imp = BaggingClassifier(CategoricalNB(alpha=.1), 50)\n",
    "# grid = {\n",
    "#     'base_estimator__alpha': [1e-10, 1e-6, 1e-4, 1e-3, .01, .1, 1, 10, 100, 1e3, 1e6] \n",
    "# }\n",
    "# gs = GridSearchCV(imp, param_grid=grid, cv=5, scoring='accuracy').fit(xtr, ytr,)\n",
    "# imputer = gs.best_estimator_\n",
    "# print(classification_report(yte, imputer.predict(xte)))\n"
   ]
  },
  {
   "cell_type": "code",
   "execution_count": 133,
   "id": "1cd3b076-41c1-47b3-b453-39102d5854f3",
   "metadata": {},
   "outputs": [],
   "source": [
    "# topred = labpat[na].drop('marital_status', axis=1)\n",
    "# pred = pd.Series(imputer.predict(ordtr.transform(topred)), index=topred.index)\n",
    "# labpat.loc[na[na].index, 'marital_status'] = pred.loc[na[na].index] "
   ]
  },
  {
   "cell_type": "code",
   "execution_count": 134,
   "id": "952ff695-cdfb-428b-92f4-dfa9a020bf2e",
   "metadata": {},
   "outputs": [],
   "source": [
    "path = 'data/refined/patients.csv'\n",
    "if not os.path.exists(path):\n",
    "    labpat.to_csv(path)"
   ]
  },
  {
   "cell_type": "markdown",
   "id": "5766b581-8444-4b48-8443-dc857fe1e08b",
   "metadata": {},
   "source": [
    "## Items\n",
    "\n"
   ]
  },
  {
   "cell_type": "code",
   "execution_count": 62,
   "id": "488747f3-b355-44a2-8c96-37595cb3e5e8",
   "metadata": {},
   "outputs": [],
   "source": [
    "labit = pd.read_csv('data/2.2/d_labitems.csv.gz', index_col='itemid')"
   ]
  },
  {
   "cell_type": "code",
   "execution_count": 136,
   "id": "58bce0f8-7749-4ee9-8c95-9981204cfdf6",
   "metadata": {},
   "outputs": [
    {
     "data": {
      "text/plain": [
       "Fl Scan             6\n",
       "Myelocytes          6\n",
       "NRBC                7\n",
       "Clostrid            7\n",
       "Eosinophils         7\n",
       "Beta                8\n",
       "Alpha-2             8\n",
       "Alpha-1             8\n",
       "Voided Specimen    20\n",
       "Delete             32\n",
       "Name: label, dtype: int64"
      ]
     },
     "execution_count": 136,
     "metadata": {},
     "output_type": "execute_result"
    }
   ],
   "source": [
    "labit.label.value_counts().sort_values().tail(10)"
   ]
  },
  {
   "cell_type": "code",
   "execution_count": 137,
   "id": "e8cf27ec-8ec2-4dd9-bfb3-9846a66b31bf",
   "metadata": {},
   "outputs": [
    {
     "data": {
      "image/png": "[encoded data removed]",
      "text/plain": [
       "<Figure size 432x288 with 1 Axes>"
      ]
     },
     "metadata": {
      "needs_background": "light"
     },
     "output_type": "display_data"
    },
    {
     "data": {
      "image/png": "[encoded data removed]",
      "text/plain": [
       "<Figure size 432x288 with 1 Axes>"
      ]
     },
     "metadata": {
      "needs_background": "light"
     },
     "output_type": "display_data"
    },
    {
     "data": {
      "image/png": "[encoded data removed]",
      "text/plain": [
       "<Figure size 432x288 with 1 Axes>"
      ]
     },
     "metadata": {
      "needs_background": "light"
     },
     "output_type": "display_data"
    }
   ],
   "source": [
    "plot_cat(labit) # оставлю тут, как иллюстрацию всей тяжести полезной графы label...\n",
    "#(хотя может есть смысл это кодировать через какие-нибудь NLP эмбеддинги)"
   ]
  },
  {
   "cell_type": "markdown",
   "id": "4d6e364a-465e-482c-a50f-96c5d230abbd",
   "metadata": {},
   "source": [
    "* Признак *category* выглядит излишним по причине перекрытия с матриалом по крови\n",
    "* *fluid: Q, Fluid, I* следует удалить в силу малого вхождения, либо включить в *fluid == Blood*\n",
    "* Без NLP эмбеддингов имеет смысл выкинуть названия *label*"
   ]
  },
  {
   "cell_type": "code",
   "execution_count": 63,
   "id": "35253f73-2823-4d9b-86ae-d8ddaef21a65",
   "metadata": {},
   "outputs": [
    {
     "data": {
      "text/html": [
       "<div>\n",
       "<style scoped>\n",
       "    .dataframe tbody tr th:only-of-type {\n",
       "        vertical-align: middle;\n",
       "    }\n",
       "\n",
       "    .dataframe tbody tr th {\n",
       "        vertical-align: top;\n",
       "    }\n",
       "\n",
       "    .dataframe thead th {\n",
       "        text-align: right;\n",
       "    }\n",
       "</style>\n",
       "<table border=\"1\" class=\"dataframe\">\n",
       "  <thead>\n",
       "    <tr style=\"text-align: right;\">\n",
       "      <th></th>\n",
       "      <th>fluid</th>\n",
       "      <th>category</th>\n",
       "    </tr>\n",
       "    <tr>\n",
       "      <th>itemid</th>\n",
       "      <th></th>\n",
       "      <th></th>\n",
       "    </tr>\n",
       "  </thead>\n",
       "  <tbody>\n",
       "    <tr>\n",
       "      <th>52039</th>\n",
       "      <td>Fluid</td>\n",
       "      <td>Blood Gas</td>\n",
       "    </tr>\n",
       "    <tr>\n",
       "      <th>52042</th>\n",
       "      <td>Fluid</td>\n",
       "      <td>Blood Gas</td>\n",
       "    </tr>\n",
       "    <tr>\n",
       "      <th>52040</th>\n",
       "      <td>Fluid</td>\n",
       "      <td>Blood Gas</td>\n",
       "    </tr>\n",
       "    <tr>\n",
       "      <th>52038</th>\n",
       "      <td>Fluid</td>\n",
       "      <td>Blood Gas</td>\n",
       "    </tr>\n",
       "    <tr>\n",
       "      <th>52041</th>\n",
       "      <td>Fluid</td>\n",
       "      <td>Blood Gas</td>\n",
       "    </tr>\n",
       "    <tr>\n",
       "      <th>52290</th>\n",
       "      <td>I</td>\n",
       "      <td>Hematology</td>\n",
       "    </tr>\n",
       "    <tr>\n",
       "      <th>52398</th>\n",
       "      <td>Q</td>\n",
       "      <td>Hematology</td>\n",
       "    </tr>\n",
       "    <tr>\n",
       "      <th>52397</th>\n",
       "      <td>Q</td>\n",
       "      <td>Hematology</td>\n",
       "    </tr>\n",
       "    <tr>\n",
       "      <th>52401</th>\n",
       "      <td>Q</td>\n",
       "      <td>Hematology</td>\n",
       "    </tr>\n",
       "    <tr>\n",
       "      <th>52396</th>\n",
       "      <td>Q</td>\n",
       "      <td>Hematology</td>\n",
       "    </tr>\n",
       "    <tr>\n",
       "      <th>52402</th>\n",
       "      <td>Q</td>\n",
       "      <td>Hematology</td>\n",
       "    </tr>\n",
       "    <tr>\n",
       "      <th>52395</th>\n",
       "      <td>Q</td>\n",
       "      <td>Hematology</td>\n",
       "    </tr>\n",
       "    <tr>\n",
       "      <th>52400</th>\n",
       "      <td>Q</td>\n",
       "      <td>Hematology</td>\n",
       "    </tr>\n",
       "    <tr>\n",
       "      <th>52394</th>\n",
       "      <td>Q</td>\n",
       "      <td>Hematology</td>\n",
       "    </tr>\n",
       "    <tr>\n",
       "      <th>52399</th>\n",
       "      <td>Q</td>\n",
       "      <td>Hematology</td>\n",
       "    </tr>\n",
       "  </tbody>\n",
       "</table>\n",
       "</div>"
      ],
      "text/plain": [
       "        fluid    category\n",
       "itemid                   \n",
       "52039   Fluid   Blood Gas\n",
       "52042   Fluid   Blood Gas\n",
       "52040   Fluid   Blood Gas\n",
       "52038   Fluid   Blood Gas\n",
       "52041   Fluid   Blood Gas\n",
       "52290       I  Hematology\n",
       "52398       Q  Hematology\n",
       "52397       Q  Hematology\n",
       "52401       Q  Hematology\n",
       "52396       Q  Hematology\n",
       "52402       Q  Hematology\n",
       "52395       Q  Hematology\n",
       "52400       Q  Hematology\n",
       "52394       Q  Hematology\n",
       "52399       Q  Hematology"
      ]
     },
     "execution_count": 63,
     "metadata": {},
     "output_type": "execute_result"
    }
   ],
   "source": [
    "if 'label' in labit.columns:\n",
    "    labit.drop('label', inplace=True, axis=1)\n",
    "\n",
    "torep = labit.fluid.isin(('Q', 'Fluid', 'I'))\n",
    "labit[torep]"
   ]
  },
  {
   "cell_type": "code",
   "execution_count": 64,
   "id": "7f885617-b180-4630-9de6-ff4939981d85",
   "metadata": {},
   "outputs": [],
   "source": [
    "labit.loc[torep, 'fluid'] = 'Blood'"
   ]
  },
  {
   "cell_type": "code",
   "execution_count": 140,
   "id": "03e51d4a-36fa-48d4-9722-ef2def1da74a",
   "metadata": {},
   "outputs": [
    {
     "data": {
      "image/png": "[encoded data removed]",
      "text/plain": [
       "<Figure size 432x288 with 1 Axes>"
      ]
     },
     "metadata": {
      "needs_background": "light"
     },
     "output_type": "display_data"
    },
    {
     "data": {
      "image/png": "[encoded data removed]",
      "text/plain": [
       "<Figure size 432x288 with 1 Axes>"
      ]
     },
     "metadata": {
      "needs_background": "light"
     },
     "output_type": "display_data"
    },
    {
     "data": {
      "image/png": "[encoded data removed]",
      "text/plain": [
       "<Figure size 432x288 with 1 Axes>"
      ]
     },
     "metadata": {
      "needs_background": "light"
     },
     "output_type": "display_data"
    },
    {
     "data": {
      "image/png": "[encoded data removed]",
      "text/plain": [
       "<Figure size 432x288 with 1 Axes>"
      ]
     },
     "metadata": {
      "needs_background": "light"
     },
     "output_type": "display_data"
    },
    {
     "data": {
      "image/png": "[encoded data removed]",
      "text/plain": [
       "<Figure size 432x288 with 1 Axes>"
      ]
     },
     "metadata": {
      "needs_background": "light"
     },
     "output_type": "display_data"
    },
    {
     "data": {
      "image/png": "[encoded data removed]",
      "text/plain": [
       "<Figure size 432x288 with 1 Axes>"
      ]
     },
     "metadata": {
      "needs_background": "light"
     },
     "output_type": "display_data"
    },
    {
     "data": {
      "image/png": "[encoded data removed]",
      "text/plain": [
       "<Figure size 432x288 with 1 Axes>"
      ]
     },
     "metadata": {
      "needs_background": "light"
     },
     "output_type": "display_data"
    },
    {
     "data": {
      "image/png": "[encoded data removed]",
      "text/plain": [
       "<Figure size 432x288 with 1 Axes>"
      ]
     },
     "metadata": {
      "needs_background": "light"
     },
     "output_type": "display_data"
    },
    {
     "data": {
      "image/png": "[encoded data removed]",
      "text/plain": [
       "<Figure size 432x288 with 1 Axes>"
      ]
     },
     "metadata": {
      "needs_background": "light"
     },
     "output_type": "display_data"
    }
   ],
   "source": [
    "tmp = labit.groupby('fluid')\n",
    "for fluid in labit.fluid.unique():\n",
    "    sns.barplot(tmp.get_group(fluid).category.value_counts(), orient='h')\n",
    "    plt.title(fluid)\n",
    "    plt.show()"
   ]
  },
  {
   "cell_type": "markdown",
   "id": "bd83caba-216c-49b1-80f2-9f36d5546438",
   "metadata": {},
   "source": [
    "Всё-таки можно увидеть, что распределения жидкостей по различным анализам практически без пустующих столбцов (хотя меня несколько смущает количество анализов спинномозговой жидкости, например, на гематологию...)\n",
    "\n",
    "Но можно объединить *blood gas* и *hematology*"
   ]
  },
  {
   "cell_type": "code",
   "execution_count": 141,
   "id": "1602a23f-31eb-4ca1-bf53-e8aad2f205f3",
   "metadata": {},
   "outputs": [],
   "source": [
    "if INCLUDE_GAS_INTO_HEMA:\n",
    "    labit.loc[:, 'category'] = labit.category.map(lambda x: x if x != 'Blood Gas' else 'Hematology')"
   ]
  },
  {
   "cell_type": "code",
   "execution_count": 142,
   "id": "f0296c22-fc64-4aee-b1b7-3248fc204f05",
   "metadata": {},
   "outputs": [],
   "source": [
    "path = 'data/refined/tests.csv'\n",
    "if not os.path.exists(path):\n",
    "    labit.to_csv(path)"
   ]
  },
  {
   "cell_type": "markdown",
   "id": "a2c98900-cae7-43c9-81c0-2cf19319da5e",
   "metadata": {},
   "source": [
    "# Объединение"
   ]
  },
  {
   "cell_type": "code",
   "execution_count": 182,
   "id": "6894fced-3cc9-4eb0-8ae4-9f5f4ef0c921",
   "metadata": {},
   "outputs": [
    {
     "data": {
      "text/plain": [
       "subject_id         0.000000\n",
       "specimen_id        0.000000\n",
       "itemid             0.000000\n",
       "charttime          0.000000\n",
       "valuenum           0.000000\n",
       "ref_range_lower    0.000000\n",
       "ref_range_upper    0.000000\n",
       "time_cluster       0.000000\n",
       "inref              0.000000\n",
       "gender             1.783242\n",
       "age                1.783242\n",
       "race               1.783242\n",
       "fluid              0.000000\n",
       "category           0.000000\n",
       "dtype: float64"
      ]
     },
     "execution_count": 182,
     "metadata": {},
     "output_type": "execute_result"
    }
   ],
   "source": [
    "ev = labev.join(labpat, on='subject_id', how='left')\n",
    "ev = ev.join(labit, on='itemid', how='left')\n",
    "naprop(ev)"
   ]
  },
  {
   "cell_type": "code",
   "execution_count": 183,
   "id": "10f0d588-c031-414f-b4f9-66f6b34e0084",
   "metadata": {},
   "outputs": [
    {
     "data": {
      "text/plain": [
       "(96452, 14)"
      ]
     },
     "execution_count": 183,
     "metadata": {},
     "output_type": "execute_result"
    }
   ],
   "source": [
    "ev.dropna(inplace=True)\n",
    "ev.drop_duplicates(inplace=True)\n",
    "ev.rename(columns={'itemid': 'item_id'}, inplace=True)\n",
    "ev.shape"
   ]
  },
  {
   "cell_type": "code",
   "execution_count": 184,
   "id": "3a13dc03-7021-4b56-a2a7-6405f559bcde",
   "metadata": {},
   "outputs": [],
   "source": [
    "ind_cols = ['subject_id', 'specimen_id', 'item_id']\n",
    "index = ev[ind_cols]\n",
    "index.to_csv('data/refined/index.csv')\n",
    "ev.drop(ind_cols, axis=1, inplace=True)\n",
    "ev.to_csv('data/refined/general.csv')"
   ]
  },
  {
   "cell_type": "code",
   "execution_count": 68,
   "id": "43f2ec93-8cad-4db2-a6e2-af720e24bba1",
   "metadata": {},
   "outputs": [
    {
     "data": {
      "text/html": [
       "<div>\n",
       "<style scoped>\n",
       "    .dataframe tbody tr th:only-of-type {\n",
       "        vertical-align: middle;\n",
       "    }\n",
       "\n",
       "    .dataframe tbody tr th {\n",
       "        vertical-align: top;\n",
       "    }\n",
       "\n",
       "    .dataframe thead th {\n",
       "        text-align: right;\n",
       "    }\n",
       "</style>\n",
       "<table border=\"1\" class=\"dataframe\">\n",
       "  <thead>\n",
       "    <tr style=\"text-align: right;\">\n",
       "      <th></th>\n",
       "      <th>charttime</th>\n",
       "      <th>valuenum</th>\n",
       "      <th>ref_range_lower</th>\n",
       "      <th>ref_range_upper</th>\n",
       "      <th>gender</th>\n",
       "      <th>age</th>\n",
       "      <th>race</th>\n",
       "      <th>fluid</th>\n",
       "      <th>category</th>\n",
       "    </tr>\n",
       "  </thead>\n",
       "  <tbody>\n",
       "    <tr>\n",
       "      <th>0</th>\n",
       "      <td>1565784</td>\n",
       "      <td>15.40</td>\n",
       "      <td>10.5</td>\n",
       "      <td>15.5</td>\n",
       "      <td>M</td>\n",
       "      <td>60.0</td>\n",
       "      <td>WHITE</td>\n",
       "      <td>Blood</td>\n",
       "      <td>Hematology</td>\n",
       "    </tr>\n",
       "    <tr>\n",
       "      <th>1</th>\n",
       "      <td>1565784</td>\n",
       "      <td>3.35</td>\n",
       "      <td>4.6</td>\n",
       "      <td>6.1</td>\n",
       "      <td>M</td>\n",
       "      <td>60.0</td>\n",
       "      <td>WHITE</td>\n",
       "      <td>Blood</td>\n",
       "      <td>Hematology</td>\n",
       "    </tr>\n",
       "    <tr>\n",
       "      <th>2</th>\n",
       "      <td>1565784</td>\n",
       "      <td>49.70</td>\n",
       "      <td>35.1</td>\n",
       "      <td>46.3</td>\n",
       "      <td>M</td>\n",
       "      <td>60.0</td>\n",
       "      <td>WHITE</td>\n",
       "      <td>Blood</td>\n",
       "      <td>Hematology</td>\n",
       "    </tr>\n",
       "    <tr>\n",
       "      <th>3</th>\n",
       "      <td>1565784</td>\n",
       "      <td>20.30</td>\n",
       "      <td>4.0</td>\n",
       "      <td>10.0</td>\n",
       "      <td>M</td>\n",
       "      <td>60.0</td>\n",
       "      <td>WHITE</td>\n",
       "      <td>Blood</td>\n",
       "      <td>Hematology</td>\n",
       "    </tr>\n",
       "    <tr>\n",
       "      <th>5</th>\n",
       "      <td>1565784</td>\n",
       "      <td>29.60</td>\n",
       "      <td>40.0</td>\n",
       "      <td>51.0</td>\n",
       "      <td>M</td>\n",
       "      <td>60.0</td>\n",
       "      <td>WHITE</td>\n",
       "      <td>Blood</td>\n",
       "      <td>Hematology</td>\n",
       "    </tr>\n",
       "  </tbody>\n",
       "</table>\n",
       "</div>"
      ],
      "text/plain": [
       "   charttime  valuenum  ref_range_lower  ref_range_upper gender   age   race  \\\n",
       "0    1565784     15.40             10.5             15.5      M  60.0  WHITE   \n",
       "1    1565784      3.35              4.6              6.1      M  60.0  WHITE   \n",
       "2    1565784     49.70             35.1             46.3      M  60.0  WHITE   \n",
       "3    1565784     20.30              4.0             10.0      M  60.0  WHITE   \n",
       "5    1565784     29.60             40.0             51.0      M  60.0  WHITE   \n",
       "\n",
       "   fluid    category  \n",
       "0  Blood  Hematology  \n",
       "1  Blood  Hematology  \n",
       "2  Blood  Hematology  \n",
       "3  Blood  Hematology  \n",
       "5  Blood  Hematology  "
      ]
     },
     "execution_count": 68,
     "metadata": {},
     "output_type": "execute_result"
    }
   ],
   "source": [
    "ev.head()"
   ]
  },
  {
   "cell_type": "markdown",
   "id": "cad4fe60-6763-45c5-9156-5ff33977281e",
   "metadata": {},
   "source": [
    "Без привлечения дополнительных источников ценность представляют следующие данные, относящиеся к трём сущностям:\n",
    "\n",
    "* *event: valuenum,  ref_range_lower, ref_range_upper*\n",
    "* *patient: gender, age, race*\n",
    "* *test: fluid, category*\n",
    "\n",
    "Такое количество признаков можно назвать скудным. Более того, признаковые описания *test* и *patient* являются в основе своей категориальными и при One-Hot кодировании - разреженными. Оценим количество полученных комбинаций признаков"
   ]
  },
  {
   "cell_type": "code",
   "execution_count": 69,
   "id": "24858bcf-867e-40c0-9a37-4d703a2d9b1b",
   "metadata": {},
   "outputs": [
    {
     "data": {
      "text/plain": [
       "subject_id       92\n",
       "specimen_id    9793\n",
       "item_id         213\n",
       "dtype: int64"
      ]
     },
     "execution_count": 69,
     "metadata": {},
     "output_type": "execute_result"
    }
   ],
   "source": [
    "#количества уникальных пацентов, взятых образцов и исследований\n",
    "uni = index.nunique()\n",
    "uni"
   ]
  },
  {
   "cell_type": "code",
   "execution_count": 70,
   "id": "45348ed5-724b-4479-90e9-d4ce29c4fc1d",
   "metadata": {},
   "outputs": [
    {
     "data": {
      "image/png": "[encoded data removed]",
      "text/plain": [
       "<Figure size 432x288 with 1 Axes>"
      ]
     },
     "metadata": {
      "needs_background": "light"
     },
     "output_type": "display_data"
    },
    {
     "data": {
      "text/html": [
       "<div>\n",
       "<style scoped>\n",
       "    .dataframe tbody tr th:only-of-type {\n",
       "        vertical-align: middle;\n",
       "    }\n",
       "\n",
       "    .dataframe tbody tr th {\n",
       "        vertical-align: top;\n",
       "    }\n",
       "\n",
       "    .dataframe thead th {\n",
       "        text-align: right;\n",
       "    }\n",
       "</style>\n",
       "<table border=\"1\" class=\"dataframe\">\n",
       "  <thead>\n",
       "    <tr style=\"text-align: right;\">\n",
       "      <th></th>\n",
       "      <th>min</th>\n",
       "      <th>mean</th>\n",
       "      <th>median</th>\n",
       "      <th>max</th>\n",
       "    </tr>\n",
       "  </thead>\n",
       "  <tbody>\n",
       "    <tr>\n",
       "      <th>specimen_id</th>\n",
       "      <td>6.000000</td>\n",
       "      <td>106.445652</td>\n",
       "      <td>58.500000</td>\n",
       "      <td>738.000000</td>\n",
       "    </tr>\n",
       "    <tr>\n",
       "      <th>item_id</th>\n",
       "      <td>29.000000</td>\n",
       "      <td>64.054348</td>\n",
       "      <td>62.000000</td>\n",
       "      <td>123.000000</td>\n",
       "    </tr>\n",
       "    <tr>\n",
       "      <th>spec./item</th>\n",
       "      <td>0.157895</td>\n",
       "      <td>1.356802</td>\n",
       "      <td>0.930847</td>\n",
       "      <td>6.648649</td>\n",
       "    </tr>\n",
       "  </tbody>\n",
       "</table>\n",
       "</div>"
      ],
      "text/plain": [
       "                   min        mean     median         max\n",
       "specimen_id   6.000000  106.445652  58.500000  738.000000\n",
       "item_id      29.000000   64.054348  62.000000  123.000000\n",
       "spec./item    0.157895    1.356802   0.930847    6.648649"
      ]
     },
     "execution_count": 70,
     "metadata": {},
     "output_type": "execute_result"
    }
   ],
   "source": [
    "tmp = index.groupby('subject_id').agg({'specimen_id': 'nunique', 'item_id': 'nunique'})\n",
    "_ = sns.histplot(tmp)\n",
    "plt.show()\n",
    "tmp['spec./item'] = tmp.specimen_id / tmp.item_id\n",
    "pd.DataFrame({stat: getattr(tmp, stat)(axis=0) for stat in ['min', 'mean', 'median', 'max',]}) "
   ]
  },
  {
   "cell_type": "markdown",
   "id": "6d86f0ca-a676-4f13-ad0f-9e632592cbd6",
   "metadata": {},
   "source": [
    "Наиболее часто пациенты сдавали около 60.5 различных образцов, каждый из которых использовался примерно для одного анализа. Тем не менее, можно заметить, что некотоорые пациенты требовали более тщательного обследования, что выражается в высоких значениях *specimen_id/item_id max*. Значение *spec./item* 0.17 говорит о том, что минимум на один образец приходилось 6 анализов"
   ]
  },
  {
   "cell_type": "code",
   "execution_count": 71,
   "id": "a615fbf3-02db-4acb-bdaf-3ff19feee35d",
   "metadata": {},
   "outputs": [
    {
     "data": {
      "text/plain": [
       "gender       2\n",
       "age         50\n",
       "race         4\n",
       "fluid        7\n",
       "category     3\n",
       "dtype: int64"
      ]
     },
     "execution_count": 71,
     "metadata": {},
     "output_type": "execute_result"
    }
   ],
   "source": [
    "cols = ['gender', 'age', 'race', 'fluid', 'category']\n",
    "ev[cols].nunique()"
   ]
  },
  {
   "cell_type": "code",
   "execution_count": 72,
   "id": "369bdd48-817c-4a05-a790-746609b2bf06",
   "metadata": {},
   "outputs": [
    {
     "name": "stdout",
     "output_type": "stream",
     "text": [
      "Количество уникальных сочетаний характеристик 86 на 92 пациентов\n",
      "Без учёта возраста количество уникальных сочетаний характеристик 8 на 92 пациентов\n"
     ]
    }
   ],
   "source": [
    "tmp = ev[['age', 'gender', 'race',]].drop_duplicates()\n",
    "print(f'Количество уникальных сочетаний характеристик {tmp.shape[0]} на {uni[\"subject_id\"]} пациентов')\n",
    "\n",
    "tmp = ev[['gender', 'race',]].drop_duplicates()\n",
    "print(f'Без учёта возраста количество уникальных сочетаний характеристик {tmp.shape[0]} на {uni[\"subject_id\"]} пациентов')"
   ]
  },
  {
   "cell_type": "code",
   "execution_count": 73,
   "id": "fcd7c9d3-36f7-4216-a8e0-9bb2298fefdb",
   "metadata": {},
   "outputs": [
    {
     "name": "stdout",
     "output_type": "stream",
     "text": [
      "Количество уникальных сочетаний 11 из 213 типов анализов\n"
     ]
    },
    {
     "data": {
      "text/html": [
       "<div>\n",
       "<style scoped>\n",
       "    .dataframe tbody tr th:only-of-type {\n",
       "        vertical-align: middle;\n",
       "    }\n",
       "\n",
       "    .dataframe tbody tr th {\n",
       "        vertical-align: top;\n",
       "    }\n",
       "\n",
       "    .dataframe thead th {\n",
       "        text-align: right;\n",
       "    }\n",
       "</style>\n",
       "<table border=\"1\" class=\"dataframe\">\n",
       "  <thead>\n",
       "    <tr style=\"text-align: right;\">\n",
       "      <th></th>\n",
       "      <th>fluid</th>\n",
       "      <th>category</th>\n",
       "    </tr>\n",
       "  </thead>\n",
       "  <tbody>\n",
       "    <tr>\n",
       "      <th>0</th>\n",
       "      <td>Blood</td>\n",
       "      <td>Hematology</td>\n",
       "    </tr>\n",
       "    <tr>\n",
       "      <th>11</th>\n",
       "      <td>Blood</td>\n",
       "      <td>Chemistry</td>\n",
       "    </tr>\n",
       "    <tr>\n",
       "      <th>449</th>\n",
       "      <td>Urine</td>\n",
       "      <td>Hematology</td>\n",
       "    </tr>\n",
       "    <tr>\n",
       "      <th>954</th>\n",
       "      <td>Ascites</td>\n",
       "      <td>Hematology</td>\n",
       "    </tr>\n",
       "    <tr>\n",
       "      <th>1056</th>\n",
       "      <td>Blood</td>\n",
       "      <td>Blood Gas</td>\n",
       "    </tr>\n",
       "    <tr>\n",
       "      <th>2027</th>\n",
       "      <td>Urine</td>\n",
       "      <td>Chemistry</td>\n",
       "    </tr>\n",
       "    <tr>\n",
       "      <th>13044</th>\n",
       "      <td>Other Body Fluid</td>\n",
       "      <td>Hematology</td>\n",
       "    </tr>\n",
       "    <tr>\n",
       "      <th>14032</th>\n",
       "      <td>Joint Fluid</td>\n",
       "      <td>Hematology</td>\n",
       "    </tr>\n",
       "    <tr>\n",
       "      <th>39674</th>\n",
       "      <td>Pleural</td>\n",
       "      <td>Hematology</td>\n",
       "    </tr>\n",
       "    <tr>\n",
       "      <th>47477</th>\n",
       "      <td>Cerebrospinal Fluid</td>\n",
       "      <td>Chemistry</td>\n",
       "    </tr>\n",
       "    <tr>\n",
       "      <th>47481</th>\n",
       "      <td>Cerebrospinal Fluid</td>\n",
       "      <td>Hematology</td>\n",
       "    </tr>\n",
       "  </tbody>\n",
       "</table>\n",
       "</div>"
      ],
      "text/plain": [
       "                     fluid    category\n",
       "0                    Blood  Hematology\n",
       "11                   Blood   Chemistry\n",
       "449                  Urine  Hematology\n",
       "954                Ascites  Hematology\n",
       "1056                 Blood   Blood Gas\n",
       "2027                 Urine   Chemistry\n",
       "13044     Other Body Fluid  Hematology\n",
       "14032          Joint Fluid  Hematology\n",
       "39674              Pleural  Hematology\n",
       "47477  Cerebrospinal Fluid   Chemistry\n",
       "47481  Cerebrospinal Fluid  Hematology"
      ]
     },
     "execution_count": 73,
     "metadata": {},
     "output_type": "execute_result"
    }
   ],
   "source": [
    "tmp = ev[['fluid', 'category',]].drop_duplicates()\n",
    "print(f'Количество уникальных сочетаний {tmp.shape[0]} из {uni[\"item_id\"]} типов анализов')\n",
    "tmp"
   ]
  },
  {
   "cell_type": "code",
   "execution_count": null,
   "id": "69100030-b26b-47e2-a779-2d2c4b00940f",
   "metadata": {},
   "outputs": [],
   "source": []
  },
  {
   "cell_type": "markdown",
   "id": "cfe1cff6-38b1-4510-9e48-dabdb6a259ba",
   "metadata": {},
   "source": [
    "# Вопросы на подумать\n",
    "\n",
    "* Для сравнения полученных методов лучше пока что использовать задачу регрессии по *valuenum*? Или нужно сразу  придумать более похожие на изначальные условия: добавить таргет *normality = all(valuenum in reference)* для пациента и предсказывать его по набору *valuenum*, проведённых для пациента? \n",
    "* В каком порядке стоит изучать построения графов: гомогенный, пациент - анализ, пациент - анализ - тест?\n",
    "* Стоит ли делать введение дополнительные признаки на основании названия теста и NLP?\n",
    "* Стоит ли учитывать референсные границы и к чему их относить: к признакам теста или конкретного анализа? (учитывая, например, половые физиологические различия)?\n",
    "* Как обращаться с категориальными признаками (без отношения порядка)? OHE генерирует очень разреженную матрицу, следовательно, нужны эмбеддинги, но тогда пропущенные значения, некоторым образом заполненные, влияют на всё векторное представление. \n",
    "* Можно ли как-то разделить обработку по признакам? Или добавить бинарные индикаторы, что такая-то величина была пропущена?\n",
    "* Методы кодирования категориальных переменных для рассмотрения ещё: frequency encoding, mean encoding (если, например, не выделять отдельно узлы с исключительно дискретными описаними), probability-ratio (если использовать *normality*) и прочие target-based техники (проблема data leakage)\n"
   ]
  },
  {
   "cell_type": "markdown",
   "id": "449a77b6-054c-4170-bb83-d50e3b4633e0",
   "metadata": {},
   "source": [
    "# Отбор"
   ]
  },
  {
   "cell_type": "code",
   "execution_count": 177,
   "id": "91f133aa-a245-4e3c-81f3-ab458047ee84",
   "metadata": {},
   "outputs": [],
   "source": [
    "ev = pd.read_csv('data/refined/general.csv', index_col=0)\n",
    "index_df = pd.read_csv('data/refined/index.csv', index_col=0)\n",
    "\n",
    "#choose appropiate fluid scope\n",
    "selected = { \n",
    "    'fluid': ['Blood'],\n",
    "    # 'category': ['Hemotology', 'Chemistry', 'Blood Gas'],\n",
    "    'category': ['Chemistry'],\n",
    "}\n",
    "\n",
    "def select_categories(events, index_df, selected, ind_cols, set_index=True):\n",
    "    ev = events.copy()\n",
    "    mask = pd.Series(np.ones((ev.shape[0],)) == 1, index=ev.index)\n",
    "    for col in selected:\n",
    "        mask &= ev[col].isin(selected[col])\n",
    "    ev = ev[mask]\n",
    "    cuniq = ev.nunique() == 1\n",
    "    res = ev.join(index_df.loc[mask, ind_cols])\n",
    "    res.drop_duplicates(inplace=True)\n",
    "    res.drop(cuniq[cuniq].index.tolist(), axis=1, inplace=True)\n",
    "    if set_index:\n",
    "        res.set_index(ind_cols)\n",
    "    return res"
   ]
  },
  {
   "cell_type": "code",
   "execution_count": 178,
   "id": "9526ce93-8e25-441a-ad5a-46c7c20aee55",
   "metadata": {},
   "outputs": [],
   "source": [
    "sev = select_categories(ev, index_df, selected, ['subject_id', 'specimen_id'], False)"
   ]
  },
  {
   "cell_type": "code",
   "execution_count": 170,
   "id": "268ddca2-90fe-453b-a45d-9e031534bf0c",
   "metadata": {},
   "outputs": [
    {
     "data": {
      "image/png": "[encoded data removed]",
      "text/plain": [
       "<Figure size 432x288 with 1 Axes>"
      ]
     },
     "metadata": {
      "needs_background": "light"
     },
     "output_type": "display_data"
    },
    {
     "data": {
      "image/png": "[encoded data removed]",
      "text/plain": [
       "<Figure size 432x288 with 1 Axes>"
      ]
     },
     "metadata": {
      "needs_background": "light"
     },
     "output_type": "display_data"
    }
   ],
   "source": [
    "plot_cat(sev.drop(['subject_id', 'specimen_id'], axis=1).select_dtypes(include=['int64', 'object']))"
   ]
  },
  {
   "cell_type": "code",
   "execution_count": 179,
   "id": "ee57cba7-c10f-4ca0-8894-175b567b7abb",
   "metadata": {},
   "outputs": [
    {
     "name": "stdout",
     "output_type": "stream",
     "text": [
      "Всего  46770  записей.\n"
     ]
    }
   ],
   "source": [
    "print(\"Всего \", sev.shape[0], \" записей.\")"
   ]
  },
  {
   "cell_type": "code",
   "execution_count": 180,
   "id": "9787c103-a1a4-4233-81e7-38e0c4a84bd9",
   "metadata": {},
   "outputs": [],
   "source": [
    "sevvar = select_categories(ev, index_df,\n",
    "                           { \n",
    "    'fluid': ['Blood'],\n",
    "    'category': ['Hematology', 'Chemistry', 'Blood Gas'],\n",
    "    # 'category': ['Chemistry'],\n",
    "}, \n",
    "                           ['subject_id', 'specimen_id'], False)"
   ]
  },
  {
   "cell_type": "code",
   "execution_count": 78,
   "id": "a65195d3-0517-4b9e-8944-24231dbdeda5",
   "metadata": {},
   "outputs": [
    {
     "ename": "NameError",
     "evalue": "name 'plot_cat' is not defined",
     "output_type": "error",
     "traceback": [
      "\u001b[1;31m---------------------------------------------------------------------------\u001b[0m",
      "\u001b[1;31mNameError\u001b[0m                                 Traceback (most recent call last)",
      "Input \u001b[1;32mIn [78]\u001b[0m, in \u001b[0;36m<module>\u001b[1;34m\u001b[0m\n\u001b[1;32m----> 1\u001b[0m \u001b[43mplot_cat\u001b[49m(sevvar\u001b[38;5;241m.\u001b[39mdrop([\u001b[38;5;124m'\u001b[39m\u001b[38;5;124msubject_id\u001b[39m\u001b[38;5;124m'\u001b[39m, \u001b[38;5;124m'\u001b[39m\u001b[38;5;124mspecimen_id\u001b[39m\u001b[38;5;124m'\u001b[39m], axis\u001b[38;5;241m=\u001b[39m\u001b[38;5;241m1\u001b[39m)\u001b[38;5;241m.\u001b[39mselect_dtypes(include\u001b[38;5;241m=\u001b[39m[\u001b[38;5;124m'\u001b[39m\u001b[38;5;124mint64\u001b[39m\u001b[38;5;124m'\u001b[39m, \u001b[38;5;124m'\u001b[39m\u001b[38;5;124mobject\u001b[39m\u001b[38;5;124m'\u001b[39m]))\n",
      "\u001b[1;31mNameError\u001b[0m: name 'plot_cat' is not defined"
     ]
    }
   ],
   "source": [
    "plot_cat(sevvar.drop(['subject_id', 'specimen_id'], axis=1).select_dtypes(include=['int64', 'object']))"
   ]
  },
  {
   "cell_type": "code",
   "execution_count": 113,
   "id": "77c457d7-c010-4560-9468-d19083573b47",
   "metadata": {},
   "outputs": [
    {
     "data": {
      "text/html": [
       "<div>\n",
       "<style scoped>\n",
       "    .dataframe tbody tr th:only-of-type {\n",
       "        vertical-align: middle;\n",
       "    }\n",
       "\n",
       "    .dataframe tbody tr th {\n",
       "        vertical-align: top;\n",
       "    }\n",
       "\n",
       "    .dataframe thead th {\n",
       "        text-align: right;\n",
       "    }\n",
       "</style>\n",
       "<table border=\"1\" class=\"dataframe\">\n",
       "  <thead>\n",
       "    <tr style=\"text-align: right;\">\n",
       "      <th></th>\n",
       "      <th>index</th>\n",
       "      <th>charttime</th>\n",
       "      <th>valuenum</th>\n",
       "      <th>ref_range_lower</th>\n",
       "      <th>ref_range_upper</th>\n",
       "      <th>gender</th>\n",
       "      <th>age</th>\n",
       "      <th>race</th>\n",
       "      <th>subject_id</th>\n",
       "      <th>specimen_id</th>\n",
       "    </tr>\n",
       "  </thead>\n",
       "  <tbody>\n",
       "    <tr>\n",
       "      <th>2034</th>\n",
       "      <td>3957</td>\n",
       "      <td>1846164</td>\n",
       "      <td>115.0</td>\n",
       "      <td>35.0</td>\n",
       "      <td>105.0</td>\n",
       "      <td>F</td>\n",
       "      <td>52.0</td>\n",
       "      <td>WHITE</td>\n",
       "      <td>10000032</td>\n",
       "      <td>61200592</td>\n",
       "    </tr>\n",
       "  </tbody>\n",
       "</table>\n",
       "</div>"
      ],
      "text/plain": [
       "      index  charttime  valuenum  ref_range_lower  ref_range_upper gender  \\\n",
       "2034   3957    1846164     115.0             35.0            105.0      F   \n",
       "\n",
       "       age   race  subject_id  specimen_id  \n",
       "2034  52.0  WHITE    10000032     61200592  "
      ]
     },
     "execution_count": 113,
     "metadata": {},
     "output_type": "execute_result"
    },
    {
     "data": {
      "image/png": "[encoded data removed]",
      "text/plain": [
       "<Figure size 432x288 with 1 Axes>"
      ]
     },
     "metadata": {
      "needs_background": "light"
     },
     "output_type": "display_data"
    }
   ],
   "source": []
  },
  {
   "cell_type": "code",
   "execution_count": 185,
   "id": "45c30382-756d-4897-a7e6-c0dbdab4b828",
   "metadata": {},
   "outputs": [
    {
     "name": "stdout",
     "output_type": "stream",
     "text": [
      "Note: you may need to restart the kernel to use updated packages.Package                      Version\n",
      "---------------------------- -------------------\n",
      "absl-py                      1.0.0\n",
      "aiohttp                      3.8.1\n",
      "aiohttp-apispec              2.2.3\n",
      "aiohttp-jinja2               1.5\n",
      "aiosignal                    1.2.0\n",
      "alembic                      1.8.1\n",
      "anyio                        3.5.0\n",
      "apispec                      3.3.2\n",
      "argon2-cffi                  21.3.0\n",
      "argon2-cffi-bindings         21.2.0\n",
      "asgiref                      3.5.2\n",
      "asteval                      0.9.29\n",
      "asttokens                    2.0.5\n",
      "astunparse                   1.6.3\n",
      "async-timeout                4.0.2\n",
      "attrs                        21.4.0\n",
      "Babel                        2.9.1\n",
      "backcall                     0.2.0\n",
      "beautifulsoup4               4.11.1\n",
      "black                        21.12b0\n",
      "bleach                       4.1.0\n",
      "blinker                      1.7.0\n",
      "build                        0.10.0\n",
      "CacheControl                 0.12.11\n",
      "cachetools                   5.0.0\n",
      "\n",
      "certifi                      2021.10.8\n",
      "cffi                         1.15.0\n",
      "chardet                      3.0.4\n",
      "charset-normalizer           2.0.10\n",
      "cleo                         2.0.1\n",
      "click                        8.1.7\n",
      "cloudpickle                  3.0.0\n",
      "colorama                     0.4.4\n",
      "crashtest                    0.4.1\n",
      "cycler                       0.11.0\n",
      "databricks-cli               0.18.0"
     ]
    },
    {
     "name": "stderr",
     "output_type": "stream",
     "text": [
      "WARNING: Ignoring invalid distribution -pencv-python (c:\\users\\user\\appdata\\local\\programs\\python\\python310\\lib\\site-packages)\n",
      "WARNING: Ignoring invalid distribution -rotobuf (c:\\users\\user\\appdata\\local\\programs\\python\\python310\\lib\\site-packages)\n",
      "\n",
      "[notice] A new release of pip is available: 23.3.2 -> 24.0\n",
      "[notice] To update, run: C:\\Users\\user\\AppData\\Local\\Programs\\Python\\Python310\\python.exe -m pip install --upgrade pip\n"
     ]
    },
    {
     "name": "stdout",
     "output_type": "stream",
     "text": [
      "\n",
      "debugpy                      1.5.1\n",
      "decorator                    5.1.1\n",
      "defusedxml                   0.7.1\n",
      "distlib                      0.3.6\n",
      "Django                       4.1.1\n",
      "docker                       7.0.0\n",
      "dulwich                      0.21.3\n",
      "emmet-core                   0.39.11\n",
      "entrypoints                  0.3\n",
      "et-xmlfile                   1.1.0\n",
      "executing                    0.8.2\n",
      "face-recognition-models      0.3.0\n",
      "filelock                     3.9.0\n",
      "Flask                        3.0.1\n",
      "flatbuffers                  2.0\n",
      "fonttools                    4.28.5\n",
      "frozenlist                   1.3.1\n",
      "future                       0.18.3\n",
      "gast                         0.5.3\n",
      "gitdb                        4.0.11\n",
      "GitPython                    3.1.41\n",
      "google                       3.0.0\n",
      "google-auth                  2.19.0\n",
      "google-auth-oauthlib         0.4.6\n",
      "google-pasta                 0.2.0\n",
      "graphviz                     0.20\n",
      "greenlet                     1.1.3\n",
      "grpcio                       1.46.0\n",
      "gunicorn                     20.1.0\n",
      "h5py                         3.6.0\n",
      "html5lib                     1.1\n",
      "idna                         2.8\n",
      "imageio                      2.19.3\n",
      "imbalanced-learn             0.11.0\n",
      "imblearn                     0.0\n",
      "importlib-metadata           6.0.0\n",
      "imutils                      0.5.4\n",
      "installer                    0.6.0\n",
      "ipykernel                    6.6.1\n",
      "ipython                      8.0.0\n",
      "ipython-genutils             0.2.0\n",
      "itsdangerous                 2.1.2\n",
      "jaraco.classes               3.2.3\n",
      "jedi                         0.18.1\n",
      "Jinja2                       3.1.3\n",
      "joblib                       1.3.2\n",
      "json5                        0.9.6\n",
      "jsonschema                   4.17.3\n",
      "jupyter-client               7.1.0\n",
      "jupyter-core                 4.9.1\n",
      "jupyter-server               1.13.2\n",
      "jupyterlab                   3.2.7\n",
      "jupyterlab-pygments          0.1.2\n",
      "jupyterlab-server            2.10.3\n",
      "keras                        2.8.0\n",
      "Keras-Applications           1.0.8\n",
      "Keras-Preprocessing          1.1.2\n",
      "keyring                      23.13.1\n",
      "kiwisolver                   1.3.2\n",
      "latexcodec                   2.0.1\n",
      "libclang                     14.0.1\n",
      "lmfit                        1.1.0\n",
      "lockfile                     0.12.2\n",
      "Mako                         1.2.2\n",
      "Markdown                     3.3.7\n",
      "MarkupSafe                   2.1.4\n",
      "marshmallow                  3.17.1\n",
      "matplotlib                   3.5.1\n",
      "matplotlib-inline            0.1.3\n",
      "missingno                    0.5.2\n",
      "mistune                      0.8.4\n",
      "mlflow                       2.10.0\n",
      "monty                        2022.9.9\n",
      "more-itertools               9.1.0\n",
      "mp-api                       0.30.6\n",
      "mpmath                       1.2.1\n",
      "mrcnn                        0.2\n",
      "msgpack                      1.0.4\n",
      "multidict                    6.0.2\n",
      "mypy-extensions              0.4.3\n",
      "nbclassic                    0.3.5\n",
      "nbclient                     0.5.9\n",
      "nbconvert                    6.4.0\n",
      "nbformat                     5.1.3\n",
      "nest-asyncio                 1.5.4\n",
      "networkx                     2.8.2\n",
      "notebook                     6.4.11\n",
      "numpy                        1.22.4\n",
      "oauthlib                     3.2.0\n",
      "opencv-contrib-python        4.5.5.64\n",
      "openpyxl                     3.1.2\n",
      "opt-einsum                   3.3.0\n",
      "packaging                    21.3\n",
      "palettable                   3.3.0\n",
      "pandas                       1.3.4\n",
      "pandocfilters                1.5.0\n",
      "parso                        0.8.3\n",
      "pathspec                     0.9.0\n",
      "patsy                        0.5.3\n",
      "pexpect                      4.8.0\n",
      "pickleshare                  0.7.5\n",
      "Pillow                       9.0.0\n",
      "pip                          23.3.2\n",
      "pkginfo                      1.9.6\n",
      "platformdirs                 2.6.2\n",
      "plotly                       5.12.0\n",
      "poetry                       1.4.0\n",
      "poetry-core                  1.5.1\n",
      "poetry-plugin-export         1.3.0\n",
      "portpicker                   1.2.0\n",
      "prometheus-client            0.12.0\n",
      "prompt-toolkit               3.0.29\n",
      "protobuf                     3.19.4\n",
      "psycopg2                     2.9.3\n",
      "ptyprocess                   0.7.0\n",
      "pure-eval                    0.2.1\n",
      "pyarrow                      15.0.0\n",
      "pyasn1                       0.4.8\n",
      "pyasn1-modules               0.2.8\n",
      "pybtex                       0.24.0\n",
      "pycparser                    2.21\n",
      "pydantic                     1.10.4\n",
      "pydot                        1.4.2\n",
      "Pygments                     2.11.2\n",
      "PyJWT                        2.8.0\n",
      "pymatgen                     2023.1.9\n",
      "pyparsing                    3.0.6\n",
      "pyproject_hooks              1.0.0\n",
      "pyrsistent                   0.18.0\n",
      "python-dateutil              2.8.2\n",
      "pytz                         2021.3\n",
      "PyWavelets                   1.3.0\n",
      "pywin32                      306\n",
      "pywin32-ctypes               0.2.0\n",
      "pywinpty                     1.1.6\n",
      "PyYAML                       6.0\n",
      "pyzmq                        22.3.0\n",
      "querystring-parser           1.2.4\n",
      "rapidfuzz                    2.13.7\n",
      "requests                     2.28.2\n",
      "requests-oauthlib            1.3.1\n",
      "requests-toolbelt            0.10.1\n",
      "rsa                          4.8\n",
      "ruamel.yaml                  0.17.21\n",
      "ruamel.yaml.clib             0.2.7\n",
      "scikit-image                 0.19.2\n",
      "scikit-learn                 1.0.2\n",
      "scipy                        1.7.3\n",
      "seaborn                      0.13.0\n",
      "Send2Trash                   1.8.0\n",
      "setuptools                   57.4.0\n",
      "shellingham                  1.5.0.post1\n",
      "simplegeneric                0.8.1\n",
      "six                          1.12.0\n",
      "sklearn                      0.0\n",
      "smmap                        5.0.1\n",
      "sniffio                      1.2.0\n",
      "soupsieve                    2.3.2.post1\n",
      "spglib                       2.0.2\n",
      "SQLAlchemy                   1.4.41\n",
      "sqlparse                     0.4.3\n",
      "stack-data                   0.1.3\n",
      "statsmodels                  0.13.5\n",
      "str                          0.1\n",
      "sympy                        1.11.1\n",
      "tabulate                     0.9.0\n",
      "tenacity                     8.1.0\n",
      "tensorboard                  2.8.0\n",
      "tensorboard-data-server      0.6.1\n",
      "tensorboard-plugin-wit       1.8.1\n",
      "tensorflow                   2.8.0\n",
      "tensorflow-estimator         2.8.0\n",
      "tensorflow-io-gcs-filesystem 0.25.0\n",
      "termcolor                    1.1.0\n",
      "terminado                    0.12.1\n",
      "testpath                     0.5.0\n",
      "tf-estimator-nightly         2.8.0.dev2021122109\n",
      "threadpoolctl                3.0.0\n",
      "tifffile                     2022.5.4\n",
      "tomli                        2.0.1\n",
      "tomlkit                      0.11.6\n",
      "torch                        1.11.0\n",
      "torchvision                  0.12.0\n",
      "tornado                      6.1\n",
      "tqdm                         4.64.1\n",
      "traitlets                    5.1.1\n",
      "trove-classifiers            2023.2.20\n",
      "typing_extensions            4.4.0\n",
      "tzdata                       2022.2\n",
      "uncertainties                3.1.7\n",
      "urllib3                      1.26.14\n",
      "virtualenv                   20.20.0\n",
      "waitress                     2.1.2\n",
      "wcwidth                      0.2.5\n",
      "webargs                      5.5.3\n",
      "webencodings                 0.5.1\n",
      "websocket-client             1.2.3\n",
      "Werkzeug                     3.0.1\n",
      "wheel                        0.37.0\n",
      "wrapt                        1.14.1\n",
      "yarl                         1.8.1\n",
      "zipp                         3.15.0\n"
     ]
    }
   ],
   "source": [
    "%pip list"
   ]
  },
  {
   "cell_type": "code",
   "execution_count": null,
   "id": "e36b6a7b-aa3a-4f1c-81e4-620199f04ad8",
   "metadata": {},
   "outputs": [],
   "source": []
  }
 ],
 "metadata": {
  "kernelspec": {
   "display_name": "labevent-py3.10",
   "language": "python",
   "name": "labevent-py3.10"
  },
  "language_info": {
   "codemirror_mode": {
    "name": "ipython",
    "version": 3
   },
   "file_extension": ".py",
   "mimetype": "text/x-python",
   "name": "python",
   "nbconvert_exporter": "python",
   "pygments_lexer": "ipython3",
   "version": "3.10.0"
  }
 },
 "nbformat": 4,
 "nbformat_minor": 5
}
