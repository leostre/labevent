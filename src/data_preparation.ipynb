{
 "cells": [
  {
   "cell_type": "markdown",
   "id": "d0f756fd-3ff3-47e7-87c0-407066ae82d8",
   "metadata": {
    "tags": []
   },
   "source": [
    "# Считывание и отбор данных"
   ]
  },
  {
   "cell_type": "code",
   "execution_count": 523,
   "id": "d20d9af5-3af7-4c03-bb71-5cf128e30738",
   "metadata": {},
   "outputs": [],
   "source": [
    "import pandas as pd\n",
    "import numpy as np\n",
    "import matplotlib.pyplot as plt\n",
    "import seaborn as sns\n",
    "import os"
   ]
  },
  {
   "cell_type": "code",
   "execution_count": 326,
   "id": "aa1df604-0a3f-436b-8a96-fca0ecbff816",
   "metadata": {},
   "outputs": [],
   "source": [
    "DELETE_WOREF = True # удалять ли из датасета записи с отсутствующими некстраполируемыми референсами\n",
    "DELETE_MULREF = True # удалять ли из датасета записи с отсутствующими экстраполируемыми множественными референсами\n",
    "DELETE_ZERO_RANGES = False # удалять ли записи с диапазонами [0, 0]"
   ]
  },
  {
   "cell_type": "code",
   "execution_count": 627,
   "id": "8ba7f5c6-73d8-4c4c-9281-1c4ff1cf0630",
   "metadata": {},
   "outputs": [],
   "source": [
    "def naprop(x):\n",
    "    return x.isna().sum() / x.shape[0] * 100"
   ]
  },
  {
   "cell_type": "markdown",
   "id": "0f7e3950-1a65-4b71-b425-4103646105b2",
   "metadata": {},
   "source": [
    "## labevents"
   ]
  },
  {
   "cell_type": "code",
   "execution_count": 628,
   "id": "82ec4cb1-34ce-4057-ae7e-ee49dce66c27",
   "metadata": {},
   "outputs": [],
   "source": [
    "\n",
    "labev = pd.read_csv('data/2.2/labevents.csv.gz')"
   ]
  },
  {
   "cell_type": "code",
   "execution_count": 629,
   "id": "ca3e1de1-3012-411a-aac7-6675a0f312bf",
   "metadata": {},
   "outputs": [
    {
     "data": {
      "text/html": [
       "<div>\n",
       "<style scoped>\n",
       "    .dataframe tbody tr th:only-of-type {\n",
       "        vertical-align: middle;\n",
       "    }\n",
       "\n",
       "    .dataframe tbody tr th {\n",
       "        vertical-align: top;\n",
       "    }\n",
       "\n",
       "    .dataframe thead th {\n",
       "        text-align: right;\n",
       "    }\n",
       "</style>\n",
       "<table border=\"1\" class=\"dataframe\">\n",
       "  <thead>\n",
       "    <tr style=\"text-align: right;\">\n",
       "      <th></th>\n",
       "      <th>labevent_id</th>\n",
       "      <th>subject_id</th>\n",
       "      <th>hadm_id</th>\n",
       "      <th>specimen_id</th>\n",
       "      <th>itemid</th>\n",
       "      <th>order_provider_id</th>\n",
       "      <th>charttime</th>\n",
       "      <th>storetime</th>\n",
       "      <th>value</th>\n",
       "      <th>valuenum</th>\n",
       "      <th>valueuom</th>\n",
       "      <th>ref_range_lower</th>\n",
       "      <th>ref_range_upper</th>\n",
       "      <th>flag</th>\n",
       "      <th>priority</th>\n",
       "      <th>comments</th>\n",
       "    </tr>\n",
       "  </thead>\n",
       "  <tbody>\n",
       "    <tr>\n",
       "      <th>0</th>\n",
       "      <td>172061</td>\n",
       "      <td>10014354</td>\n",
       "      <td>29600294.0</td>\n",
       "      <td>1808066</td>\n",
       "      <td>51277</td>\n",
       "      <td>NaN</td>\n",
       "      <td>2148-08-16 00:00:00</td>\n",
       "      <td>2148-08-16 01:30:00</td>\n",
       "      <td>15.4</td>\n",
       "      <td>15.40</td>\n",
       "      <td>%</td>\n",
       "      <td>10.5</td>\n",
       "      <td>15.5</td>\n",
       "      <td>NaN</td>\n",
       "      <td>ROUTINE</td>\n",
       "      <td>NaN</td>\n",
       "    </tr>\n",
       "    <tr>\n",
       "      <th>1</th>\n",
       "      <td>172062</td>\n",
       "      <td>10014354</td>\n",
       "      <td>29600294.0</td>\n",
       "      <td>1808066</td>\n",
       "      <td>51279</td>\n",
       "      <td>NaN</td>\n",
       "      <td>2148-08-16 00:00:00</td>\n",
       "      <td>2148-08-16 01:30:00</td>\n",
       "      <td>3.35</td>\n",
       "      <td>3.35</td>\n",
       "      <td>m/uL</td>\n",
       "      <td>4.6</td>\n",
       "      <td>6.1</td>\n",
       "      <td>abnormal</td>\n",
       "      <td>ROUTINE</td>\n",
       "      <td>NaN</td>\n",
       "    </tr>\n",
       "    <tr>\n",
       "      <th>2</th>\n",
       "      <td>172068</td>\n",
       "      <td>10014354</td>\n",
       "      <td>29600294.0</td>\n",
       "      <td>1808066</td>\n",
       "      <td>52172</td>\n",
       "      <td>NaN</td>\n",
       "      <td>2148-08-16 00:00:00</td>\n",
       "      <td>2148-08-16 01:30:00</td>\n",
       "      <td>49.7</td>\n",
       "      <td>49.70</td>\n",
       "      <td>fL</td>\n",
       "      <td>35.1</td>\n",
       "      <td>46.3</td>\n",
       "      <td>abnormal</td>\n",
       "      <td>ROUTINE</td>\n",
       "      <td>NaN</td>\n",
       "    </tr>\n",
       "    <tr>\n",
       "      <th>3</th>\n",
       "      <td>172063</td>\n",
       "      <td>10014354</td>\n",
       "      <td>29600294.0</td>\n",
       "      <td>1808066</td>\n",
       "      <td>51301</td>\n",
       "      <td>NaN</td>\n",
       "      <td>2148-08-16 00:00:00</td>\n",
       "      <td>2148-08-16 01:30:00</td>\n",
       "      <td>20.3</td>\n",
       "      <td>20.30</td>\n",
       "      <td>K/uL</td>\n",
       "      <td>4.0</td>\n",
       "      <td>10.0</td>\n",
       "      <td>abnormal</td>\n",
       "      <td>ROUTINE</td>\n",
       "      <td>NaN</td>\n",
       "    </tr>\n",
       "    <tr>\n",
       "      <th>4</th>\n",
       "      <td>172050</td>\n",
       "      <td>10014354</td>\n",
       "      <td>29600294.0</td>\n",
       "      <td>1808066</td>\n",
       "      <td>51249</td>\n",
       "      <td>NaN</td>\n",
       "      <td>2148-08-16 00:00:00</td>\n",
       "      <td>2148-08-16 01:30:00</td>\n",
       "      <td>31.1</td>\n",
       "      <td>31.10</td>\n",
       "      <td>g/dL</td>\n",
       "      <td>32.0</td>\n",
       "      <td>37.0</td>\n",
       "      <td>abnormal</td>\n",
       "      <td>ROUTINE</td>\n",
       "      <td>NaN</td>\n",
       "    </tr>\n",
       "  </tbody>\n",
       "</table>\n",
       "</div>"
      ],
      "text/plain": [
       "   labevent_id  subject_id     hadm_id  specimen_id  itemid order_provider_id  \\\n",
       "0       172061    10014354  29600294.0      1808066   51277               NaN   \n",
       "1       172062    10014354  29600294.0      1808066   51279               NaN   \n",
       "2       172068    10014354  29600294.0      1808066   52172               NaN   \n",
       "3       172063    10014354  29600294.0      1808066   51301               NaN   \n",
       "4       172050    10014354  29600294.0      1808066   51249               NaN   \n",
       "\n",
       "             charttime            storetime value  valuenum valueuom  \\\n",
       "0  2148-08-16 00:00:00  2148-08-16 01:30:00  15.4     15.40        %   \n",
       "1  2148-08-16 00:00:00  2148-08-16 01:30:00  3.35      3.35     m/uL   \n",
       "2  2148-08-16 00:00:00  2148-08-16 01:30:00  49.7     49.70       fL   \n",
       "3  2148-08-16 00:00:00  2148-08-16 01:30:00  20.3     20.30     K/uL   \n",
       "4  2148-08-16 00:00:00  2148-08-16 01:30:00  31.1     31.10     g/dL   \n",
       "\n",
       "   ref_range_lower  ref_range_upper      flag priority comments  \n",
       "0             10.5             15.5       NaN  ROUTINE      NaN  \n",
       "1              4.6              6.1  abnormal  ROUTINE      NaN  \n",
       "2             35.1             46.3  abnormal  ROUTINE      NaN  \n",
       "3              4.0             10.0  abnormal  ROUTINE      NaN  \n",
       "4             32.0             37.0  abnormal  ROUTINE      NaN  "
      ]
     },
     "execution_count": 629,
     "metadata": {},
     "output_type": "execute_result"
    }
   ],
   "source": [
    "labev.head()"
   ]
  },
  {
   "cell_type": "markdown",
   "id": "cb7d5854-b3e6-4129-97ea-7f10708387bf",
   "metadata": {},
   "source": [
    "**labevent_id** - численный идентификатор \n",
    "\n",
    "**patient_id** - идентификатор пациента (как узнать характеристики пациента?)\n",
    "\n",
    "**hadm_id** - лаборатории, близкие к больничным *stay* ???\n",
    "\n",
    "**specimen_id** - образец, на котором сделаны измерения (может применяться для группировки разных \n",
    "измерений на одном образце) \\[аналог реагента\\] \n",
    "\n",
    "**itemid** - тип образца (1622 типа)\n",
    "\n",
    "**order_provider_id** - кто заказал исследование (не важно)\n",
    "\n",
    "**charttime** / **storetime** - время регистрации и получения результатов (можно использовать для оценки старости образца, но малоинформативно)\n",
    "\n",
    "**value, valuenum** - значение как object и значение numeric\n",
    "\n",
    "**valueuom** - мера измерения\n",
    "\n",
    "**ref_range_lower, ref_range_upper** - референсные значения\n",
    "\n",
    "**flag** - метка нормальности (входит ли в референс)\n",
    "\n",
    "**priority** - в каком режиме проведено исследование (теоретически, может иметь влияние на характеристики)"
   ]
  },
  {
   "cell_type": "markdown",
   "id": "9dca08c3-9e5a-4783-b91a-0988b11599c3",
   "metadata": {},
   "source": [
    "Проверим количество пропусков в столбцах (%)"
   ]
  },
  {
   "cell_type": "code",
   "execution_count": 631,
   "id": "7ee06c58-624e-4be3-a46d-b2ec18f1f5b2",
   "metadata": {},
   "outputs": [],
   "source": [
    "labev.drop(['labevent_id', 'hadm_id', 'priority', 'flag', 'comments', 'storetime', 'charttime', 'order_provider_id'], axis=1, inplace=True)"
   ]
  },
  {
   "cell_type": "code",
   "execution_count": 632,
   "id": "e0d1cb12-3689-4493-9314-3831790505c2",
   "metadata": {},
   "outputs": [
    {
     "data": {
      "text/plain": [
       "subject_id          0.000000\n",
       "specimen_id         0.000000\n",
       "itemid              0.000000\n",
       "value               8.900276\n",
       "valuenum           11.585768\n",
       "valueuom           15.040798\n",
       "ref_range_lower    17.384685\n",
       "ref_range_upper    17.384685\n",
       "dtype: float64"
      ]
     },
     "execution_count": 632,
     "metadata": {},
     "output_type": "execute_result"
    }
   ],
   "source": [
    "naprop(labev)"
   ]
  },
  {
   "cell_type": "markdown",
   "id": "7aa86102-97fe-4fcf-8928-7dff7e415245",
   "metadata": {
    "tags": []
   },
   "source": [
    "### Обработка единиц измерения\n",
    "\n",
    "Проверим, выполняется ли для одного itemid единообразие представленных данных"
   ]
  },
  {
   "cell_type": "code",
   "execution_count": 633,
   "id": "ca970970-144d-4b6a-accf-1a3cbd9dc1af",
   "metadata": {},
   "outputs": [
    {
     "data": {
      "text/plain": [
       "valueuom\n",
       "1           295\n",
       "0           199\n",
       "2             4\n",
       "dtype: int64"
      ]
     },
     "execution_count": 633,
     "metadata": {},
     "output_type": "execute_result"
    }
   ],
   "source": [
    "tmp = labev[['itemid', 'valueuom']]\n",
    "res = tmp.groupby('itemid').aggregate('nunique')\n",
    "res.value_counts()"
   ]
  },
  {
   "cell_type": "markdown",
   "id": "d730c51c-2ed9-482c-8fb5-28f719e636b2",
   "metadata": {},
   "source": [
    "4 типа тестирования показывают неоднозначность в указании единиц измерения"
   ]
  },
  {
   "cell_type": "code",
   "execution_count": 634,
   "id": "5178955f-fb6b-4ada-900b-644bbec906c3",
   "metadata": {},
   "outputs": [
    {
     "name": "stdout",
     "output_type": "stream",
     "text": [
      "Набор itemids соответствует 2789 записей, что составляет 2.59 %\n"
     ]
    }
   ],
   "source": [
    "itemids = res[res.valueuom == 2].index.tolist() # неоднозначные itemid\n",
    "p = labev.itemid.isin(itemids).astype(int).sum()\n",
    "print(f'Набор itemids соответствует {p} записей, что составляет {p / labev.shape[0] * 100 :.2f} %')"
   ]
  },
  {
   "cell_type": "markdown",
   "id": "08de58a4-0230-4b17-a86b-9116be50ce7b",
   "metadata": {},
   "source": [
    "Поскольку количество подобных записей невелико, удалим их из датасета, \n",
    "а также уберём колонку *valueuom* за неинформативностью "
   ]
  },
  {
   "cell_type": "code",
   "execution_count": 635,
   "id": "6cc84150-29f7-4f43-88f6-941efea53b75",
   "metadata": {},
   "outputs": [],
   "source": [
    "labev.drop(['valueuom', 'value'], axis=1, inplace=True)\n",
    "labev = labev[~ labev.itemid.isin(itemids)]"
   ]
  },
  {
   "cell_type": "code",
   "execution_count": 636,
   "id": "bfc85b79-18d0-40b9-b473-b1e09963120b",
   "metadata": {},
   "outputs": [
    {
     "data": {
      "text/plain": [
       "subject_id          0.000000\n",
       "specimen_id         0.000000\n",
       "itemid              0.000000\n",
       "valuenum           11.880348\n",
       "ref_range_lower    17.846729\n",
       "ref_range_upper    17.846729\n",
       "dtype: float64"
      ]
     },
     "execution_count": 636,
     "metadata": {},
     "output_type": "execute_result"
    }
   ],
   "source": [
    "naprop(labev)"
   ]
  },
  {
   "cell_type": "markdown",
   "id": "8aa7804c-9b85-47f1-9bdd-92a6198dee0b",
   "metadata": {},
   "source": [
    "Удалим те записи, для которых неизвестны значения испытаний *valuenum*"
   ]
  },
  {
   "cell_type": "code",
   "execution_count": 637,
   "id": "862fcea7-368c-457a-bed9-417b56e9ac77",
   "metadata": {},
   "outputs": [
    {
     "data": {
      "text/plain": [
       "subject_id         0.000000\n",
       "specimen_id        0.000000\n",
       "itemid             0.000000\n",
       "valuenum           0.000000\n",
       "ref_range_lower    7.938705\n",
       "ref_range_upper    7.938705\n",
       "dtype: float64"
      ]
     },
     "execution_count": 637,
     "metadata": {},
     "output_type": "execute_result"
    }
   ],
   "source": [
    "labev = labev[~ labev.valuenum.isna()]\n",
    "naprop(labev)"
   ]
  },
  {
   "cell_type": "markdown",
   "id": "1c905ed0-21f3-4d0c-b36a-668a77888d78",
   "metadata": {
    "tags": []
   },
   "source": [
    "### Обработка значений с неизвестными референсами "
   ]
  },
  {
   "cell_type": "code",
   "execution_count": 340,
   "id": "d2946d42-65d6-4408-be0a-e349cc0eaf8c",
   "metadata": {},
   "outputs": [
    {
     "data": {
      "text/plain": [
       "0"
      ]
     },
     "execution_count": 340,
     "metadata": {},
     "output_type": "execute_result"
    }
   ],
   "source": [
    "len(set(labev.ref_range_lower.isna().index) ^ set(labev.ref_range_upper.isna().index ))"
   ]
  },
  {
   "cell_type": "markdown",
   "id": "3c8bb89d-b1ef-485d-81ed-6536b1f9f2c1",
   "metadata": {},
   "source": [
    "нулевая симметричная разность индексов говорит, что нет таких записей, в которых не указан только один из пределов"
   ]
  },
  {
   "cell_type": "code",
   "execution_count": 341,
   "id": "636900e7-861d-45a0-9115-0f50fe5e0a42",
   "metadata": {},
   "outputs": [],
   "source": [
    "idx = labev[labev.ref_range_lower.isna()].index\n",
    "itemids = labev.loc[idx, 'itemid'].unique() # индекс экспериментов, в которых отсутствуют референсы"
   ]
  },
  {
   "cell_type": "code",
   "execution_count": 342,
   "id": "45cc0ec0-ff5a-4faf-853d-61da9d0477d0",
   "metadata": {},
   "outputs": [],
   "source": [
    "idx = labev[~labev.ref_range_lower.isna()].index\n",
    "other = labev.loc[idx, 'itemid'].unique() # индекс экспериментов, в которых присутствуют референсы"
   ]
  },
  {
   "cell_type": "code",
   "execution_count": 343,
   "id": "e3a3708b-b289-44a6-93a7-9ab6807e3e69",
   "metadata": {},
   "outputs": [],
   "source": [
    "inter = np.intersect1d(itemids, other) # индекс экспериментов, в которых возможна экстраполяция\n",
    "woref = np.setdiff1d(itemids, other) # записи без референсов без подобных экспериментов"
   ]
  },
  {
   "cell_type": "markdown",
   "id": "27f8a2a9-60a9-4a40-a421-7133638d0140",
   "metadata": {},
   "source": [
    "#### Экстраполируемые\n",
    "Проверим, как много записей демонстрируют неоднозначность в референсных значениях"
   ]
  },
  {
   "cell_type": "code",
   "execution_count": 344,
   "id": "59471096-cc19-489a-aa08-3965d028426f",
   "metadata": {},
   "outputs": [
    {
     "data": {
      "text/html": [
       "<div>\n",
       "<style scoped>\n",
       "    .dataframe tbody tr th:only-of-type {\n",
       "        vertical-align: middle;\n",
       "    }\n",
       "\n",
       "    .dataframe tbody tr th {\n",
       "        vertical-align: top;\n",
       "    }\n",
       "\n",
       "    .dataframe thead tr th {\n",
       "        text-align: left;\n",
       "    }\n",
       "\n",
       "    .dataframe thead tr:last-of-type th {\n",
       "        text-align: right;\n",
       "    }\n",
       "</style>\n",
       "<table border=\"1\" class=\"dataframe\">\n",
       "  <thead>\n",
       "    <tr>\n",
       "      <th></th>\n",
       "      <th colspan=\"2\" halign=\"left\">ref_range_upper</th>\n",
       "      <th colspan=\"2\" halign=\"left\">ref_range_lower</th>\n",
       "      <th>subject_id</th>\n",
       "    </tr>\n",
       "    <tr>\n",
       "      <th></th>\n",
       "      <th>nunique</th>\n",
       "      <th>max</th>\n",
       "      <th>nunique</th>\n",
       "      <th>min</th>\n",
       "      <th>count</th>\n",
       "    </tr>\n",
       "    <tr>\n",
       "      <th>itemid</th>\n",
       "      <th></th>\n",
       "      <th></th>\n",
       "      <th></th>\n",
       "      <th></th>\n",
       "      <th></th>\n",
       "    </tr>\n",
       "  </thead>\n",
       "  <tbody>\n",
       "    <tr>\n",
       "      <th>50904</th>\n",
       "      <td>1</td>\n",
       "      <td>999.0</td>\n",
       "      <td>1</td>\n",
       "      <td>41.0</td>\n",
       "      <td>59</td>\n",
       "    </tr>\n",
       "    <tr>\n",
       "      <th>50934</th>\n",
       "      <td>1</td>\n",
       "      <td>40.0</td>\n",
       "      <td>1</td>\n",
       "      <td>0.0</td>\n",
       "      <td>1300</td>\n",
       "    </tr>\n",
       "    <tr>\n",
       "      <th>50947</th>\n",
       "      <td>1</td>\n",
       "      <td>10.0</td>\n",
       "      <td>1</td>\n",
       "      <td>0.0</td>\n",
       "      <td>1300</td>\n",
       "    </tr>\n",
       "    <tr>\n",
       "      <th>51478</th>\n",
       "      <td>1</td>\n",
       "      <td>0.0</td>\n",
       "      <td>1</td>\n",
       "      <td>0.0</td>\n",
       "      <td>68</td>\n",
       "    </tr>\n",
       "    <tr>\n",
       "      <th>51484</th>\n",
       "      <td>1</td>\n",
       "      <td>0.0</td>\n",
       "      <td>1</td>\n",
       "      <td>0.0</td>\n",
       "      <td>47</td>\n",
       "    </tr>\n",
       "    <tr>\n",
       "      <th>51492</th>\n",
       "      <td>1</td>\n",
       "      <td>0.0</td>\n",
       "      <td>1</td>\n",
       "      <td>0.0</td>\n",
       "      <td>175</td>\n",
       "    </tr>\n",
       "    <tr>\n",
       "      <th>51678</th>\n",
       "      <td>1</td>\n",
       "      <td>60.0</td>\n",
       "      <td>1</td>\n",
       "      <td>0.0</td>\n",
       "      <td>1300</td>\n",
       "    </tr>\n",
       "    <tr>\n",
       "      <th>52135</th>\n",
       "      <td>1</td>\n",
       "      <td>0.6</td>\n",
       "      <td>1</td>\n",
       "      <td>0.0</td>\n",
       "      <td>226</td>\n",
       "    </tr>\n",
       "    <tr>\n",
       "      <th>52286</th>\n",
       "      <td>1</td>\n",
       "      <td>5.0</td>\n",
       "      <td>1</td>\n",
       "      <td>0.0</td>\n",
       "      <td>8</td>\n",
       "    </tr>\n",
       "  </tbody>\n",
       "</table>\n",
       "</div>"
      ],
      "text/plain": [
       "       ref_range_upper        ref_range_lower       subject_id\n",
       "               nunique    max         nunique   min      count\n",
       "itemid                                                        \n",
       "50904                1  999.0               1  41.0         59\n",
       "50934                1   40.0               1   0.0       1300\n",
       "50947                1   10.0               1   0.0       1300\n",
       "51478                1    0.0               1   0.0         68\n",
       "51484                1    0.0               1   0.0         47\n",
       "51492                1    0.0               1   0.0        175\n",
       "51678                1   60.0               1   0.0       1300\n",
       "52135                1    0.6               1   0.0        226\n",
       "52286                1    5.0               1   0.0          8"
      ]
     },
     "execution_count": 344,
     "metadata": {},
     "output_type": "execute_result"
    }
   ],
   "source": [
    "tmp = labev[(labev.itemid.isin(inter))]\\\n",
    ".groupby('itemid')\\\n",
    ".agg({'ref_range_upper': ['nunique', 'max'], 'ref_range_lower': ['nunique', 'min'], \n",
    "      'subject_id': 'count',})\n",
    "# .rename(columns={'ref_range_lower': 'nunique', 'ref_range_upper': 'max', 'subject_id': 'count', 'ref_range_lower': 'min'})\n",
    "# tmp[~tmp.ref_range_lower.isin((0, 1))].ref_range_upper.sum() / labev.shape[0] * 100\n",
    "tmp"
   ]
  },
  {
   "cell_type": "markdown",
   "id": "9554a867-95b0-44fb-abb7-8be49b22e79b",
   "metadata": {},
   "source": [
    "Среди тех записей, в которых возможна экстраполяция референсов, существует 59 записей (*itemid == 50904*), для которых существует более одной пары референсных значений. Следовательно, можно удалить записи с *itemid == 50904*, и беспрепятственно экстраполировать референсы для остальных.\n",
    "\n",
    "Также существуют пустые диапазоны \\[0., 0.\\], которые, по-видимому, следует исключить из рассмотрения."
   ]
  },
  {
   "cell_type": "code",
   "execution_count": 345,
   "id": "04760672-f488-4304-bb93-6b326dd4f44f",
   "metadata": {},
   "outputs": [],
   "source": [
    "lowers = tmp[tmp[('ref_range_lower', 'nunique')] == 1][('ref_range_lower', 'min')]\n",
    "uppers = tmp[tmp[('ref_range_upper', 'nunique')] == 1][('ref_range_upper', 'max')]"
   ]
  },
  {
   "cell_type": "code",
   "execution_count": 501,
   "id": "21cc97cb-51b2-43f9-8986-6e7c19879af5",
   "metadata": {},
   "outputs": [],
   "source": [
    "def fillna_map(x, col, mapping, ax_col, inplace=True):\n",
    "    if not inplace:\n",
    "        x = x.copy()\n",
    "    idx = x[x[col].isna()].index\n",
    "    x.loc[idx, col] = x.loc[idx, ax_col].map(mapping)\n",
    "    return x\n",
    "\n",
    "_ = fillna_map(labev, 'ref_range_lower', lowers, 'itemid')\n",
    "_ = fillna_map(labev, 'ref_range_upper', uppers, 'itemid')"
   ]
  },
  {
   "cell_type": "code",
   "execution_count": null,
   "id": "0ab88716-35bd-4e61-8c45-0f51afcbf821",
   "metadata": {},
   "outputs": [],
   "source": []
  },
  {
   "cell_type": "code",
   "execution_count": null,
   "id": "7060b3d2-6cef-4d73-9216-c70b70d02f2d",
   "metadata": {},
   "outputs": [],
   "source": []
  },
  {
   "cell_type": "code",
   "execution_count": 251,
   "id": "ff7253ab-8087-4a95-ab21-4fa784edc00a",
   "metadata": {},
   "outputs": [],
   "source": [
    "if DELETE_MULREF:\n",
    "    labev.drop(tmp[tmp[('ref_range_lower', 'nunique')]  > 1].index, inplace=True)"
   ]
  },
  {
   "cell_type": "code",
   "execution_count": null,
   "id": "d91af0b7-f43e-4fcb-9fe9-c4db5a916287",
   "metadata": {},
   "outputs": [],
   "source": [
    "if DELETE_ZERO_RANGES:\n",
    "    labev = labev[labev.ref_range_upper != labev.ref_range_lower]"
   ]
  },
  {
   "cell_type": "markdown",
   "id": "b9a5fd8b-0c50-41de-9076-a5c2ab3c3071",
   "metadata": {},
   "source": [
    "#### Неэкстраполируемые"
   ]
  },
  {
   "cell_type": "code",
   "execution_count": 221,
   "id": "f0ebddc2-70d3-43d7-b4c0-d86ab5dcde52",
   "metadata": {},
   "outputs": [
    {
     "name": "stdout",
     "output_type": "stream",
     "text": [
      "Доля неэкстраполируемых записей:  3.28%\n"
     ]
    }
   ],
   "source": [
    "tmp = labev[labev.itemid.isin(woref)]\n",
    "print(f'Доля неэкстраполируемых записей: {tmp.shape[0] / labev.shape[0] * 100: .2f}%')\n",
    "# .fillna(0)\\\n",
    "# .groupby('itemid')\\\n",
    "# .agg({'ref_range_upper': 'count'})\n",
    "# # tmp[~tmp.ref_range_lower.isin((0, 1))].ref_range_upper.sum() / labev.shape[0] * 100\n",
    "# tmp.sum()"
   ]
  },
  {
   "cell_type": "markdown",
   "id": "b014531c-7cb1-44ad-b4a2-1b7b0dac254b",
   "metadata": {},
   "source": [
    "Поскольку количество значений, для которых нет образцов в датасете, невелико, можем удалить их, поскольку их заполнение потребует более тщательного анализа *itemid*"
   ]
  },
  {
   "cell_type": "code",
   "execution_count": 578,
   "id": "00d31008-2a2f-42f1-bdbd-0aa5ea1b694b",
   "metadata": {},
   "outputs": [],
   "source": [
    "if DELETE_WOREF:\n",
    "    labev.drop(tmp.index, inplace=True)\n",
    "    \n",
    "path = 'data/refined/labevents.csv'\n",
    "if not os.path.exists(path):\n",
    "    labev.to_csv(path)"
   ]
  },
  {
   "cell_type": "markdown",
   "id": "23c802a9-b23b-4979-9729-b132e1ce0ab8",
   "metadata": {
    "tags": []
   },
   "source": [
    "## Patients\n",
    "\n",
    "Рассмотрим значения, характеризующие пациентов"
   ]
  },
  {
   "cell_type": "code",
   "execution_count": 658,
   "id": "917d2b13-00c1-44c5-87d2-5302a129d6d0",
   "metadata": {},
   "outputs": [],
   "source": [
    "labadm = pd.read_csv('data/2.2/admissions.csv.gz',\n",
    "                     usecols=['subject_id', 'language', 'marital_status', 'race'], index_col='subject_id')\n",
    "labpat = pd.read_csv('data/2.2/patients.csv.gz',\n",
    "                     usecols=['subject_id', 'gender', 'anchor_age',], index_col='subject_id')"
   ]
  },
  {
   "cell_type": "code",
   "execution_count": 659,
   "id": "ef99fe72-e68b-4fe4-b0d1-82e8ba98a7c9",
   "metadata": {},
   "outputs": [],
   "source": [
    "labpat = labpat.join(labadm, how='left')\n",
    "labpat.replace('?', np.nan, inplace=True)"
   ]
  },
  {
   "cell_type": "code",
   "execution_count": 660,
   "id": "180001e3-6716-4dde-9b6e-4b7d19854c2a",
   "metadata": {},
   "outputs": [],
   "source": [
    "labpat.drop_duplicates(inplace=True)"
   ]
  },
  {
   "cell_type": "code",
   "execution_count": 661,
   "id": "477c03ac-1605-4759-ac8d-dd123e1b2794",
   "metadata": {},
   "outputs": [
    {
     "data": {
      "image/png": "[encoded data removed]",
      "text/plain": [
       "<Figure size 432x288 with 1 Axes>"
      ]
     },
     "metadata": {
      "needs_background": "light"
     },
     "output_type": "display_data"
    }
   ],
   "source": [
    "_ = sns.histplot(labpat.anchor_age)"
   ]
  },
  {
   "cell_type": "code",
   "execution_count": 584,
   "id": "63dfcc80-1263-4414-ab5e-d8796309f479",
   "metadata": {},
   "outputs": [
    {
     "data": {
      "image/png": "[encoded data removed]",
      "text/plain": [
       "<Figure size 432x288 with 1 Axes>"
      ]
     },
     "metadata": {
      "needs_background": "light"
     },
     "output_type": "display_data"
    },
    {
     "data": {
      "image/png": "[encoded data removed]",
      "text/plain": [
       "<Figure size 432x288 with 1 Axes>"
      ]
     },
     "metadata": {
      "needs_background": "light"
     },
     "output_type": "display_data"
    },
    {
     "data": {
      "image/png": "[encoded data removed]",
      "text/plain": [
       "<Figure size 432x288 with 1 Axes>"
      ]
     },
     "metadata": {
      "needs_background": "light"
     },
     "output_type": "display_data"
    }
   ],
   "source": [
    "def plot_cat(X):\n",
    "    for col, type_ in X.dtypes.items():\n",
    "        if type_ != 'object':\n",
    "            continue\n",
    "        sns.barplot(X[col].value_counts(), orient='h')\n",
    "        plt.show()\n",
    "plot_cat(labpat)"
   ]
  },
  {
   "cell_type": "markdown",
   "id": "48ba5765-bb3b-4746-89ef-1ef9d5e437d9",
   "metadata": {},
   "source": [
    "Можно увидеть, что признак language можно исключить, также объединить race в более большие группы"
   ]
  },
  {
   "cell_type": "code",
   "execution_count": 558,
   "id": "644f652d-bae6-476a-8e76-ffbd1a33c972",
   "metadata": {},
   "outputs": [
    {
     "data": {
      "image/png": "[encoded data removed]",
      "text/plain": [
       "<Figure size 432x288 with 1 Axes>"
      ]
     },
     "metadata": {
      "needs_background": "light"
     },
     "output_type": "display_data"
    }
   ],
   "source": [
    "def race_transform(x):\n",
    "    if 'WHITE' in x:\n",
    "        return 'WHITE'\n",
    "    elif 'HISPANIC' in x or 'PORTUGUESE' in x:\n",
    "        return 'HISPANIC'\n",
    "    elif 'BLACK' in x:\n",
    "        return 'BLACK'\n",
    "    else:\n",
    "        return 'UNKNOWN'\n",
    "    \n",
    "_ = sns.barplot(labpat.race.map(race_transform).value_counts(), orient='h')"
   ]
  },
  {
   "cell_type": "code",
   "execution_count": 663,
   "id": "059aa663-abec-402c-b67e-ee66ffaec62d",
   "metadata": {},
   "outputs": [],
   "source": [
    "if 'language' in labpat.columns:\n",
    "    labpat.drop('language', axis=1, inplace=True)\n",
    "    \n",
    "labpat.loc[:, 'race'] = labpat.race.map(race_transform)\n",
    "labpat.rename(columns={'anchor_age': 'age'}, inplace=True)"
   ]
  },
  {
   "cell_type": "code",
   "execution_count": 664,
   "id": "59bff787-ed69-4d8d-8c4e-5235eb39be97",
   "metadata": {},
   "outputs": [
    {
     "data": {
      "text/plain": [
       "gender            0.000000\n",
       "age               0.000000\n",
       "marital_status    9.803922\n",
       "race              0.000000\n",
       "dtype: float64"
      ]
     },
     "execution_count": 664,
     "metadata": {},
     "output_type": "execute_result"
    }
   ],
   "source": [
    "naprop(labpat)"
   ]
  },
  {
   "cell_type": "markdown",
   "id": "d288c733-de0b-4665-a1f5-e8c17918fa83",
   "metadata": {},
   "source": [
    "9.8% пациентов соответствует 2805 записям (~3% labev) "
   ]
  },
  {
   "cell_type": "code",
   "execution_count": 573,
   "id": "0e3fd224-b602-4f47-b754-06802acc4930",
   "metadata": {},
   "outputs": [
    {
     "data": {
      "text/plain": [
       "2805"
      ]
     },
     "execution_count": 573,
     "metadata": {},
     "output_type": "execute_result"
    }
   ],
   "source": [
    "labev[labev.subject_id.isin(labpat[labpat.marital_status.isna()].index)].shape[0]"
   ]
  },
  {
   "cell_type": "markdown",
   "id": "48685df1-e809-4b4f-a696-e9edd549fc4d",
   "metadata": {},
   "source": [
    "Не удалось заполнить пропуски в *marital_status* на основании байесовского классификатора"
   ]
  },
  {
   "cell_type": "code",
   "execution_count": 665,
   "id": "ed4db2e3-aed3-45ce-99a0-2f24f9f93f9e",
   "metadata": {},
   "outputs": [],
   "source": [
    "labpat.drop('marital_status', axis=1, inplace=True)"
   ]
  },
  {
   "cell_type": "code",
   "execution_count": 666,
   "id": "7688bef7-6d98-4037-9725-9f84ed5bc2e2",
   "metadata": {},
   "outputs": [],
   "source": [
    "# from sklearn.naive_bayes import CategoricalNB\n",
    "# from sklearn.preprocessing import OrdinalEncoder\n",
    "# from sklearn.pipeline import make_pipeline\n",
    "# from sklearn.model_selection import GridSearchCV, train_test_split\n",
    "# from sklearn.metrics import classification_report\n",
    "# from sklearn.ensemble import BaggingClassifier\n",
    "\n",
    "# na = labpat.marital_status.isna()\n",
    "\n",
    "# tmp = labpat[~na]\n",
    "# cats = [np.sort(labpat[x].unique()) for x in labpat.columns if x != 'marital_status']\n",
    "# ordtr = OrdinalEncoder(categories=cats,).fit(labpat.drop('marital_status', axis=1))\n",
    "# X = ordtr.transform(tmp.drop('marital_status', axis=1))\n",
    "# y = tmp['marital_status']                                          \n",
    "\n",
    "# xtr, xte, ytr, yte = train_test_split(X, y, random_state=2100)\n",
    "# imp = BaggingClassifier(CategoricalNB(alpha=.1), 50)\n",
    "# grid = {\n",
    "#     'base_estimator__alpha': [1e-10, 1e-6, 1e-4, 1e-3, .01, .1, 1, 10, 100, 1e3, 1e6] \n",
    "# }\n",
    "# gs = GridSearchCV(imp, param_grid=grid, cv=5, scoring='accuracy').fit(xtr, ytr,)\n",
    "# imputer = gs.best_estimator_\n",
    "# print(classification_report(yte, imputer.predict(xte)))\n"
   ]
  },
  {
   "cell_type": "code",
   "execution_count": 667,
   "id": "1cd3b076-41c1-47b3-b453-39102d5854f3",
   "metadata": {},
   "outputs": [],
   "source": [
    "# topred = labpat[na].drop('marital_status', axis=1)\n",
    "# pred = pd.Series(imputer.predict(ordtr.transform(topred)), index=topred.index)\n",
    "# labpat.loc[na[na].index, 'marital_status'] = pred.loc[na[na].index] "
   ]
  },
  {
   "cell_type": "code",
   "execution_count": 668,
   "id": "952ff695-cdfb-428b-92f4-dfa9a020bf2e",
   "metadata": {},
   "outputs": [],
   "source": [
    "path = 'data/refined/patients.csv'\n",
    "if not os.path.exists(path):\n",
    "    labpat.to_csv(path)"
   ]
  },
  {
   "cell_type": "markdown",
   "id": "5766b581-8444-4b48-8443-dc857fe1e08b",
   "metadata": {},
   "source": [
    "## Items\n",
    "\n"
   ]
  },
  {
   "cell_type": "code",
   "execution_count": 729,
   "id": "488747f3-b355-44a2-8c96-37595cb3e5e8",
   "metadata": {},
   "outputs": [],
   "source": [
    "labit = pd.read_csv('data/2.2/d_labitems.csv.gz', index_col='itemid')"
   ]
  },
  {
   "cell_type": "code",
   "execution_count": 730,
   "id": "58bce0f8-7749-4ee9-8c95-9981204cfdf6",
   "metadata": {},
   "outputs": [
    {
     "data": {
      "text/plain": [
       "Fl Scan             6\n",
       "Myelocytes          6\n",
       "NRBC                7\n",
       "Clostrid            7\n",
       "Eosinophils         7\n",
       "Beta                8\n",
       "Alpha-2             8\n",
       "Alpha-1             8\n",
       "Voided Specimen    20\n",
       "Delete             32\n",
       "Name: label, dtype: int64"
      ]
     },
     "execution_count": 730,
     "metadata": {},
     "output_type": "execute_result"
    }
   ],
   "source": [
    "labit.label.value_counts().sort_values().tail(10)"
   ]
  },
  {
   "cell_type": "code",
   "execution_count": 731,
   "id": "e8cf27ec-8ec2-4dd9-bfb3-9846a66b31bf",
   "metadata": {},
   "outputs": [
    {
     "data": {
      "image/png": "[encoded data removed]",
      "text/plain": [
       "<Figure size 432x288 with 1 Axes>"
      ]
     },
     "metadata": {
      "needs_background": "light"
     },
     "output_type": "display_data"
    },
    {
     "data": {
      "image/png": "[encoded data removed]",
      "text/plain": [
       "<Figure size 432x288 with 1 Axes>"
      ]
     },
     "metadata": {
      "needs_background": "light"
     },
     "output_type": "display_data"
    },
    {
     "data": {
      "image/png": "[encoded data removed]",
      "text/plain": [
       "<Figure size 432x288 with 1 Axes>"
      ]
     },
     "metadata": {
      "needs_background": "light"
     },
     "output_type": "display_data"
    }
   ],
   "source": [
    "plot_cat(labit) # оставлю тут, как иллюстрацию всей тяжести полезной графы label...\n",
    "#(хотя может есть смысл это кодировать через какие-нибудь NLP эмбеддинги)"
   ]
  },
  {
   "cell_type": "markdown",
   "id": "4d6e364a-465e-482c-a50f-96c5d230abbd",
   "metadata": {},
   "source": [
    "* Признак *category* выглядит излишним по причине перекрытия с матриалом по крови\n",
    "* *fluid: Q, Fluid, I* следует удалить в силу малого вхождения, либо включить в *fluid == Blood*\n",
    "* Без NLP эмбеддингов имеет смысл выкинуть названия *label*"
   ]
  },
  {
   "cell_type": "code",
   "execution_count": 732,
   "id": "35253f73-2823-4d9b-86ae-d8ddaef21a65",
   "metadata": {},
   "outputs": [
    {
     "data": {
      "text/html": [
       "<div>\n",
       "<style scoped>\n",
       "    .dataframe tbody tr th:only-of-type {\n",
       "        vertical-align: middle;\n",
       "    }\n",
       "\n",
       "    .dataframe tbody tr th {\n",
       "        vertical-align: top;\n",
       "    }\n",
       "\n",
       "    .dataframe thead th {\n",
       "        text-align: right;\n",
       "    }\n",
       "</style>\n",
       "<table border=\"1\" class=\"dataframe\">\n",
       "  <thead>\n",
       "    <tr style=\"text-align: right;\">\n",
       "      <th></th>\n",
       "      <th>fluid</th>\n",
       "      <th>category</th>\n",
       "    </tr>\n",
       "    <tr>\n",
       "      <th>itemid</th>\n",
       "      <th></th>\n",
       "      <th></th>\n",
       "    </tr>\n",
       "  </thead>\n",
       "  <tbody>\n",
       "    <tr>\n",
       "      <th>52039</th>\n",
       "      <td>Fluid</td>\n",
       "      <td>Blood Gas</td>\n",
       "    </tr>\n",
       "    <tr>\n",
       "      <th>52042</th>\n",
       "      <td>Fluid</td>\n",
       "      <td>Blood Gas</td>\n",
       "    </tr>\n",
       "    <tr>\n",
       "      <th>52040</th>\n",
       "      <td>Fluid</td>\n",
       "      <td>Blood Gas</td>\n",
       "    </tr>\n",
       "    <tr>\n",
       "      <th>52038</th>\n",
       "      <td>Fluid</td>\n",
       "      <td>Blood Gas</td>\n",
       "    </tr>\n",
       "    <tr>\n",
       "      <th>52041</th>\n",
       "      <td>Fluid</td>\n",
       "      <td>Blood Gas</td>\n",
       "    </tr>\n",
       "    <tr>\n",
       "      <th>52290</th>\n",
       "      <td>I</td>\n",
       "      <td>Hematology</td>\n",
       "    </tr>\n",
       "    <tr>\n",
       "      <th>52398</th>\n",
       "      <td>Q</td>\n",
       "      <td>Hematology</td>\n",
       "    </tr>\n",
       "    <tr>\n",
       "      <th>52397</th>\n",
       "      <td>Q</td>\n",
       "      <td>Hematology</td>\n",
       "    </tr>\n",
       "    <tr>\n",
       "      <th>52401</th>\n",
       "      <td>Q</td>\n",
       "      <td>Hematology</td>\n",
       "    </tr>\n",
       "    <tr>\n",
       "      <th>52396</th>\n",
       "      <td>Q</td>\n",
       "      <td>Hematology</td>\n",
       "    </tr>\n",
       "    <tr>\n",
       "      <th>52402</th>\n",
       "      <td>Q</td>\n",
       "      <td>Hematology</td>\n",
       "    </tr>\n",
       "    <tr>\n",
       "      <th>52395</th>\n",
       "      <td>Q</td>\n",
       "      <td>Hematology</td>\n",
       "    </tr>\n",
       "    <tr>\n",
       "      <th>52400</th>\n",
       "      <td>Q</td>\n",
       "      <td>Hematology</td>\n",
       "    </tr>\n",
       "    <tr>\n",
       "      <th>52394</th>\n",
       "      <td>Q</td>\n",
       "      <td>Hematology</td>\n",
       "    </tr>\n",
       "    <tr>\n",
       "      <th>52399</th>\n",
       "      <td>Q</td>\n",
       "      <td>Hematology</td>\n",
       "    </tr>\n",
       "  </tbody>\n",
       "</table>\n",
       "</div>"
      ],
      "text/plain": [
       "        fluid    category\n",
       "itemid                   \n",
       "52039   Fluid   Blood Gas\n",
       "52042   Fluid   Blood Gas\n",
       "52040   Fluid   Blood Gas\n",
       "52038   Fluid   Blood Gas\n",
       "52041   Fluid   Blood Gas\n",
       "52290       I  Hematology\n",
       "52398       Q  Hematology\n",
       "52397       Q  Hematology\n",
       "52401       Q  Hematology\n",
       "52396       Q  Hematology\n",
       "52402       Q  Hematology\n",
       "52395       Q  Hematology\n",
       "52400       Q  Hematology\n",
       "52394       Q  Hematology\n",
       "52399       Q  Hematology"
      ]
     },
     "execution_count": 732,
     "metadata": {},
     "output_type": "execute_result"
    }
   ],
   "source": [
    "if 'label' in labit.columns:\n",
    "    labit.drop('label', inplace=True, axis=1)\n",
    "\n",
    "torep = labit.fluid.isin(('Q', 'Fluid', 'I'))\n",
    "labit[torep]"
   ]
  },
  {
   "cell_type": "code",
   "execution_count": 733,
   "id": "7f885617-b180-4630-9de6-ff4939981d85",
   "metadata": {},
   "outputs": [],
   "source": [
    "labit.loc[torep, 'fluid'] = 'Blood'"
   ]
  },
  {
   "cell_type": "code",
   "execution_count": 734,
   "id": "03e51d4a-36fa-48d4-9722-ef2def1da74a",
   "metadata": {},
   "outputs": [
    {
     "data": {
      "image/png": "[encoded data removed]",
      "text/plain": [
       "<Figure size 432x288 with 1 Axes>"
      ]
     },
     "metadata": {
      "needs_background": "light"
     },
     "output_type": "display_data"
    },
    {
     "data": {
      "image/png": "[encoded data removed]",
      "text/plain": [
       "<Figure size 432x288 with 1 Axes>"
      ]
     },
     "metadata": {
      "needs_background": "light"
     },
     "output_type": "display_data"
    },
    {
     "data": {
      "image/png": "[encoded data removed]",
      "text/plain": [
       "<Figure size 432x288 with 1 Axes>"
      ]
     },
     "metadata": {
      "needs_background": "light"
     },
     "output_type": "display_data"
    },
    {
     "data": {
      "image/png": "[encoded data removed]",
      "text/plain": [
       "<Figure size 432x288 with 1 Axes>"
      ]
     },
     "metadata": {
      "needs_background": "light"
     },
     "output_type": "display_data"
    },
    {
     "data": {
      "image/png": "[encoded data removed]",
      "text/plain": [
       "<Figure size 432x288 with 1 Axes>"
      ]
     },
     "metadata": {
      "needs_background": "light"
     },
     "output_type": "display_data"
    },
    {
     "data": {
      "image/png": "[encoded data removed]",
      "text/plain": [
       "<Figure size 432x288 with 1 Axes>"
      ]
     },
     "metadata": {
      "needs_background": "light"
     },
     "output_type": "display_data"
    },
    {
     "data": {
      "image/png": "[encoded data removed]",
      "text/plain": [
       "<Figure size 432x288 with 1 Axes>"
      ]
     },
     "metadata": {
      "needs_background": "light"
     },
     "output_type": "display_data"
    },
    {
     "data": {
      "image/png": "[encoded data removed]",
      "text/plain": [
       "<Figure size 432x288 with 1 Axes>"
      ]
     },
     "metadata": {
      "needs_background": "light"
     },
     "output_type": "display_data"
    },
    {
     "data": {
      "image/png": "[encoded data removed]",
      "text/plain": [
       "<Figure size 432x288 with 1 Axes>"
      ]
     },
     "metadata": {
      "needs_background": "light"
     },
     "output_type": "display_data"
    }
   ],
   "source": [
    "tmp = labit.groupby('fluid')\n",
    "for fluid in labit.fluid.unique():\n",
    "    sns.barplot(tmp.get_group(fluid).category.value_counts(), orient='h')\n",
    "    plt.title(fluid)\n",
    "    plt.show()"
   ]
  },
  {
   "cell_type": "markdown",
   "id": "bd83caba-216c-49b1-80f2-9f36d5546438",
   "metadata": {},
   "source": [
    "Всё-таки можно увидеть, что распределения жидкостей по различным анализам практически без пустующих столбцов (хотя меня несколько смущает количество анализов спинномозговой жидкости, например, на гематологию...)\n",
    "\n",
    "Но можно объединить *blood gas* и *hematology*"
   ]
  },
  {
   "cell_type": "code",
   "execution_count": 735,
   "id": "1602a23f-31eb-4ca1-bf53-e8aad2f205f3",
   "metadata": {},
   "outputs": [],
   "source": [
    "labit.loc[:, 'category'] = labit.category.map(lambda x: x if x != 'Blood Gas' else 'Hematology')"
   ]
  },
  {
   "cell_type": "code",
   "execution_count": 737,
   "id": "f0296c22-fc64-4aee-b1b7-3248fc204f05",
   "metadata": {},
   "outputs": [],
   "source": [
    "path = 'data/refined/tests.csv'\n",
    "if not os.path.exists(path):\n",
    "    labit.to_csv(path)"
   ]
  },
  {
   "cell_type": "markdown",
   "id": "a2c98900-cae7-43c9-81c0-2cf19319da5e",
   "metadata": {},
   "source": [
    "# Объединение"
   ]
  },
  {
   "cell_type": "code",
   "execution_count": 738,
   "id": "6894fced-3cc9-4eb0-8ae4-9f5f4ef0c921",
   "metadata": {},
   "outputs": [
    {
     "data": {
      "text/plain": [
       "subject_id         0.000000\n",
       "specimen_id        0.000000\n",
       "itemid             0.000000\n",
       "valuenum           0.000000\n",
       "ref_range_lower    8.107492\n",
       "ref_range_upper    8.107492\n",
       "gender             1.787312\n",
       "age                1.787312\n",
       "race               1.787312\n",
       "fluid              0.000000\n",
       "category           0.000000\n",
       "dtype: float64"
      ]
     },
     "execution_count": 738,
     "metadata": {},
     "output_type": "execute_result"
    }
   ],
   "source": [
    "ev = labev.join(labpat, on='subject_id', how='left')\n",
    "ev = ev.join(labit, on='itemid', how='left')\n",
    "naprop(ev)"
   ]
  },
  {
   "cell_type": "code",
   "execution_count": 739,
   "id": "10f0d588-c031-414f-b4f9-66f6b34e0084",
   "metadata": {},
   "outputs": [
    {
     "data": {
      "text/plain": [
       "(91812, 11)"
      ]
     },
     "execution_count": 739,
     "metadata": {},
     "output_type": "execute_result"
    }
   ],
   "source": [
    "ev.dropna(inplace=True)\n",
    "ev.drop_duplicates(inplace=True)\n",
    "ev.rename(columns={'itemid': 'item_id'}, inplace=True)\n",
    "ev.shape"
   ]
  },
  {
   "cell_type": "code",
   "execution_count": 740,
   "id": "3a13dc03-7021-4b56-a2a7-6405f559bcde",
   "metadata": {},
   "outputs": [],
   "source": [
    "ind_cols = ['subject_id', 'specimen_id', 'item_id']\n",
    "index = ev[ind_cols]\n",
    "index.to_csv('data/refined/index.csv')\n",
    "ev.drop(ind_cols, axis=1, inplace=True)\n",
    "ev.to_csv('data/refined/general.csv')"
   ]
  },
  {
   "cell_type": "code",
   "execution_count": 741,
   "id": "43f2ec93-8cad-4db2-a6e2-af720e24bba1",
   "metadata": {},
   "outputs": [
    {
     "data": {
      "text/html": [
       "<div>\n",
       "<style scoped>\n",
       "    .dataframe tbody tr th:only-of-type {\n",
       "        vertical-align: middle;\n",
       "    }\n",
       "\n",
       "    .dataframe tbody tr th {\n",
       "        vertical-align: top;\n",
       "    }\n",
       "\n",
       "    .dataframe thead th {\n",
       "        text-align: right;\n",
       "    }\n",
       "</style>\n",
       "<table border=\"1\" class=\"dataframe\">\n",
       "  <thead>\n",
       "    <tr style=\"text-align: right;\">\n",
       "      <th></th>\n",
       "      <th>valuenum</th>\n",
       "      <th>ref_range_lower</th>\n",
       "      <th>ref_range_upper</th>\n",
       "      <th>gender</th>\n",
       "      <th>age</th>\n",
       "      <th>race</th>\n",
       "      <th>fluid</th>\n",
       "      <th>category</th>\n",
       "    </tr>\n",
       "  </thead>\n",
       "  <tbody>\n",
       "    <tr>\n",
       "      <th>0</th>\n",
       "      <td>15.40</td>\n",
       "      <td>10.5</td>\n",
       "      <td>15.5</td>\n",
       "      <td>M</td>\n",
       "      <td>60.0</td>\n",
       "      <td>WHITE</td>\n",
       "      <td>Blood</td>\n",
       "      <td>Hematology</td>\n",
       "    </tr>\n",
       "    <tr>\n",
       "      <th>1</th>\n",
       "      <td>3.35</td>\n",
       "      <td>4.6</td>\n",
       "      <td>6.1</td>\n",
       "      <td>M</td>\n",
       "      <td>60.0</td>\n",
       "      <td>WHITE</td>\n",
       "      <td>Blood</td>\n",
       "      <td>Hematology</td>\n",
       "    </tr>\n",
       "    <tr>\n",
       "      <th>2</th>\n",
       "      <td>49.70</td>\n",
       "      <td>35.1</td>\n",
       "      <td>46.3</td>\n",
       "      <td>M</td>\n",
       "      <td>60.0</td>\n",
       "      <td>WHITE</td>\n",
       "      <td>Blood</td>\n",
       "      <td>Hematology</td>\n",
       "    </tr>\n",
       "    <tr>\n",
       "      <th>3</th>\n",
       "      <td>20.30</td>\n",
       "      <td>4.0</td>\n",
       "      <td>10.0</td>\n",
       "      <td>M</td>\n",
       "      <td>60.0</td>\n",
       "      <td>WHITE</td>\n",
       "      <td>Blood</td>\n",
       "      <td>Hematology</td>\n",
       "    </tr>\n",
       "    <tr>\n",
       "      <th>5</th>\n",
       "      <td>29.60</td>\n",
       "      <td>40.0</td>\n",
       "      <td>51.0</td>\n",
       "      <td>M</td>\n",
       "      <td>60.0</td>\n",
       "      <td>WHITE</td>\n",
       "      <td>Blood</td>\n",
       "      <td>Hematology</td>\n",
       "    </tr>\n",
       "  </tbody>\n",
       "</table>\n",
       "</div>"
      ],
      "text/plain": [
       "   valuenum  ref_range_lower  ref_range_upper gender   age   race  fluid  \\\n",
       "0     15.40             10.5             15.5      M  60.0  WHITE  Blood   \n",
       "1      3.35              4.6              6.1      M  60.0  WHITE  Blood   \n",
       "2     49.70             35.1             46.3      M  60.0  WHITE  Blood   \n",
       "3     20.30              4.0             10.0      M  60.0  WHITE  Blood   \n",
       "5     29.60             40.0             51.0      M  60.0  WHITE  Blood   \n",
       "\n",
       "     category  \n",
       "0  Hematology  \n",
       "1  Hematology  \n",
       "2  Hematology  \n",
       "3  Hematology  \n",
       "5  Hematology  "
      ]
     },
     "execution_count": 741,
     "metadata": {},
     "output_type": "execute_result"
    }
   ],
   "source": [
    "ev.head()"
   ]
  },
  {
   "cell_type": "markdown",
   "id": "cad4fe60-6763-45c5-9156-5ff33977281e",
   "metadata": {},
   "source": [
    "Без привлечения дополнительных источников ценность представляют следующие данные, относящиеся к трём сущностям:\n",
    "\n",
    "* *event: valuenum,  ref_range_lower, ref_range_upper*\n",
    "* *patient: gender, age, race*\n",
    "* *test: fluid, category*\n",
    "\n",
    "Такое количество признаков можно назвать скудным. Более того, признаковые описания *test* и *patient* являются в основе своей категориальными и при One-Hot кодировании - разреженными. Оценим количество полученных комбинаций признаков"
   ]
  },
  {
   "cell_type": "code",
   "execution_count": 742,
   "id": "24858bcf-867e-40c0-9a37-4d703a2d9b1b",
   "metadata": {},
   "outputs": [
    {
     "data": {
      "text/plain": [
       "subject_id       92\n",
       "specimen_id    9758\n",
       "item_id         212\n",
       "dtype: int64"
      ]
     },
     "execution_count": 742,
     "metadata": {},
     "output_type": "execute_result"
    }
   ],
   "source": [
    "#количества уникальных пацентов, взятых образцов и исследований\n",
    "uni = index.nunique()\n",
    "uni"
   ]
  },
  {
   "cell_type": "code",
   "execution_count": 743,
   "id": "45348ed5-724b-4479-90e9-d4ce29c4fc1d",
   "metadata": {},
   "outputs": [
    {
     "data": {
      "image/png": "[encoded data removed]",
      "text/plain": [
       "<Figure size 432x288 with 1 Axes>"
      ]
     },
     "metadata": {
      "needs_background": "light"
     },
     "output_type": "display_data"
    },
    {
     "data": {
      "text/html": [
       "<div>\n",
       "<style scoped>\n",
       "    .dataframe tbody tr th:only-of-type {\n",
       "        vertical-align: middle;\n",
       "    }\n",
       "\n",
       "    .dataframe tbody tr th {\n",
       "        vertical-align: top;\n",
       "    }\n",
       "\n",
       "    .dataframe thead th {\n",
       "        text-align: right;\n",
       "    }\n",
       "</style>\n",
       "<table border=\"1\" class=\"dataframe\">\n",
       "  <thead>\n",
       "    <tr style=\"text-align: right;\">\n",
       "      <th></th>\n",
       "      <th>min</th>\n",
       "      <th>mean</th>\n",
       "      <th>median</th>\n",
       "      <th>max</th>\n",
       "    </tr>\n",
       "  </thead>\n",
       "  <tbody>\n",
       "    <tr>\n",
       "      <th>specimen_id</th>\n",
       "      <td>6.000000</td>\n",
       "      <td>106.065217</td>\n",
       "      <td>58.500000</td>\n",
       "      <td>738.000000</td>\n",
       "    </tr>\n",
       "    <tr>\n",
       "      <th>item_id</th>\n",
       "      <td>29.000000</td>\n",
       "      <td>61.619565</td>\n",
       "      <td>60.500000</td>\n",
       "      <td>120.000000</td>\n",
       "    </tr>\n",
       "    <tr>\n",
       "      <th>spec./item</th>\n",
       "      <td>0.171429</td>\n",
       "      <td>1.405876</td>\n",
       "      <td>0.991228</td>\n",
       "      <td>7.028571</td>\n",
       "    </tr>\n",
       "  </tbody>\n",
       "</table>\n",
       "</div>"
      ],
      "text/plain": [
       "                   min        mean     median         max\n",
       "specimen_id   6.000000  106.065217  58.500000  738.000000\n",
       "item_id      29.000000   61.619565  60.500000  120.000000\n",
       "spec./item    0.171429    1.405876   0.991228    7.028571"
      ]
     },
     "execution_count": 743,
     "metadata": {},
     "output_type": "execute_result"
    }
   ],
   "source": [
    "tmp = index.groupby('subject_id').agg({'specimen_id': 'nunique', 'item_id': 'nunique'})\n",
    "_ = sns.histplot(tmp)\n",
    "plt.show()\n",
    "tmp['spec./item'] = tmp.specimen_id / tmp.item_id\n",
    "pd.DataFrame({stat: getattr(tmp, stat)(axis=0) for stat in ['min', 'mean', 'median', 'max',]}) "
   ]
  },
  {
   "cell_type": "markdown",
   "id": "6d86f0ca-a676-4f13-ad0f-9e632592cbd6",
   "metadata": {},
   "source": [
    "Наиболее часто пациенты сдавали около 60.5 различных образцов, каждый из которых использовался примерно для одного анализа. Тем не менее, можно заметить, что некотоорые пациенты требовали более тщательного обследования, что выражается в высоких значениях *specimen_id/item_id max*. Значение *spec./item* 0.17 говорит о том, что минимум на один образец приходилось 6 анализов"
   ]
  },
  {
   "cell_type": "code",
   "execution_count": 744,
   "id": "a615fbf3-02db-4acb-bdaf-3ff19feee35d",
   "metadata": {},
   "outputs": [
    {
     "data": {
      "text/plain": [
       "gender       2\n",
       "age         50\n",
       "race         4\n",
       "fluid        7\n",
       "category     2\n",
       "dtype: int64"
      ]
     },
     "execution_count": 744,
     "metadata": {},
     "output_type": "execute_result"
    }
   ],
   "source": [
    "cols = ['gender', 'age', 'race', 'fluid', 'category']\n",
    "ev[cols].nunique()"
   ]
  },
  {
   "cell_type": "code",
   "execution_count": 752,
   "id": "369bdd48-817c-4a05-a790-746609b2bf06",
   "metadata": {},
   "outputs": [
    {
     "name": "stdout",
     "output_type": "stream",
     "text": [
      "Количество уникальных сочетаний характеристик 86 на 92 пациентов\n",
      "Без учёта возраста количество уникальных сочетаний характеристик 8 на 92 пациентов\n"
     ]
    }
   ],
   "source": [
    "tmp = ev[['age', 'gender', 'race',]].drop_duplicates()\n",
    "print(f'Количество уникальных сочетаний характеристик {tmp.shape[0]} на {uni[\"subject_id\"]} пациентов')\n",
    "\n",
    "tmp = ev[['gender', 'race',]].drop_duplicates()\n",
    "print(f'Без учёта возраста количество уникальных сочетаний характеристик {tmp.shape[0]} на {uni[\"subject_id\"]} пациентов')"
   ]
  },
  {
   "cell_type": "code",
   "execution_count": 749,
   "id": "fcd7c9d3-36f7-4216-a8e0-9bb2298fefdb",
   "metadata": {},
   "outputs": [
    {
     "name": "stdout",
     "output_type": "stream",
     "text": [
      "Количество уникальных сочетаний 10 из 212 типов анализов\n"
     ]
    },
    {
     "data": {
      "text/html": [
       "<div>\n",
       "<style scoped>\n",
       "    .dataframe tbody tr th:only-of-type {\n",
       "        vertical-align: middle;\n",
       "    }\n",
       "\n",
       "    .dataframe tbody tr th {\n",
       "        vertical-align: top;\n",
       "    }\n",
       "\n",
       "    .dataframe thead th {\n",
       "        text-align: right;\n",
       "    }\n",
       "</style>\n",
       "<table border=\"1\" class=\"dataframe\">\n",
       "  <thead>\n",
       "    <tr style=\"text-align: right;\">\n",
       "      <th></th>\n",
       "      <th>fluid</th>\n",
       "      <th>category</th>\n",
       "    </tr>\n",
       "  </thead>\n",
       "  <tbody>\n",
       "    <tr>\n",
       "      <th>0</th>\n",
       "      <td>Blood</td>\n",
       "      <td>Hematology</td>\n",
       "    </tr>\n",
       "    <tr>\n",
       "      <th>11</th>\n",
       "      <td>Blood</td>\n",
       "      <td>Chemistry</td>\n",
       "    </tr>\n",
       "    <tr>\n",
       "      <th>449</th>\n",
       "      <td>Urine</td>\n",
       "      <td>Hematology</td>\n",
       "    </tr>\n",
       "    <tr>\n",
       "      <th>954</th>\n",
       "      <td>Ascites</td>\n",
       "      <td>Hematology</td>\n",
       "    </tr>\n",
       "    <tr>\n",
       "      <th>2027</th>\n",
       "      <td>Urine</td>\n",
       "      <td>Chemistry</td>\n",
       "    </tr>\n",
       "    <tr>\n",
       "      <th>13044</th>\n",
       "      <td>Other Body Fluid</td>\n",
       "      <td>Hematology</td>\n",
       "    </tr>\n",
       "    <tr>\n",
       "      <th>14032</th>\n",
       "      <td>Joint Fluid</td>\n",
       "      <td>Hematology</td>\n",
       "    </tr>\n",
       "    <tr>\n",
       "      <th>39674</th>\n",
       "      <td>Pleural</td>\n",
       "      <td>Hematology</td>\n",
       "    </tr>\n",
       "    <tr>\n",
       "      <th>47477</th>\n",
       "      <td>Cerebrospinal Fluid</td>\n",
       "      <td>Chemistry</td>\n",
       "    </tr>\n",
       "    <tr>\n",
       "      <th>47481</th>\n",
       "      <td>Cerebrospinal Fluid</td>\n",
       "      <td>Hematology</td>\n",
       "    </tr>\n",
       "  </tbody>\n",
       "</table>\n",
       "</div>"
      ],
      "text/plain": [
       "                     fluid    category\n",
       "0                    Blood  Hematology\n",
       "11                   Blood   Chemistry\n",
       "449                  Urine  Hematology\n",
       "954                Ascites  Hematology\n",
       "2027                 Urine   Chemistry\n",
       "13044     Other Body Fluid  Hematology\n",
       "14032          Joint Fluid  Hematology\n",
       "39674              Pleural  Hematology\n",
       "47477  Cerebrospinal Fluid   Chemistry\n",
       "47481  Cerebrospinal Fluid  Hematology"
      ]
     },
     "execution_count": 749,
     "metadata": {},
     "output_type": "execute_result"
    }
   ],
   "source": [
    "tmp = ev[['fluid', 'category',]].drop_duplicates()\n",
    "print(f'Количество уникальных сочетаний {tmp.shape[0]} из {uni[\"item_id\"]} типов анализов')\n",
    "tmp"
   ]
  },
  {
   "cell_type": "markdown",
   "id": "cfe1cff6-38b1-4510-9e48-dabdb6a259ba",
   "metadata": {},
   "source": [
    "# Вопросы на подумать\n",
    "\n",
    "* Для сравнения полученных методов лучше пока что использовать задачу регрессии по *valuenum*? Или нужно сразу  придумать более похожие на изначальные условия: добавить таргет *normality = all(valuenum in reference)* для пациента и предсказывать его по набору *valuenum*, проведённых для пациента? \n",
    "* В каком порядке стоит изучать построения графов: гомогенный, пациент - анализ, пациент - анализ - тест?\n",
    "* Стоит ли делать введение дополнительные признаки на основании названия теста и NLP?\n",
    "* Стоит ли учитывать референсные границы и к чему их относить: к признакам теста или конкретного анализа? (учитывая, например, половые физиологические различия)?\n",
    "* Как обращаться с категориальными признаками (без отношения порядка)? OHE генерирует очень разреженную матрицу, следовательно, нужны эмбеддинги, но тогда пропущенные значения, некоторым образом заполненные, влияют на всё векторное представление. \n",
    "* Можно ли как-то разделить обработку по признакам? Или добавить бинарные индикаторы, что такая-то величина была пропущена?\n",
    "* Методы кодирования категориальных переменных для рассмотрения ещё: frequency encoding, mean encoding (если, например, не выделять отдельно узлы с исключительно дискретными описаними), probability-ratio (если использовать *normality*) и прочие target-based техники (проблема data leakage)\n"
   ]
  },
  {
   "cell_type": "code",
   "execution_count": null,
   "id": "8da07295-f341-4d05-90cc-388fa2688a40",
   "metadata": {},
   "outputs": [],
   "source": []
  },
  {
   "cell_type": "code",
   "execution_count": null,
   "id": "91f133aa-a245-4e3c-81f3-ab458047ee84",
   "metadata": {},
   "outputs": [],
   "source": []
  }
 ],
 "metadata": {
  "kernelspec": {
   "display_name": "Python 3 (ipykernel)",
   "language": "python",
   "name": "python3"
  },
  "language_info": {
   "codemirror_mode": {
    "name": "ipython",
    "version": 3
   },
   "file_extension": ".py",
   "mimetype": "text/x-python",
   "name": "python",
   "nbconvert_exporter": "python",
   "pygments_lexer": "ipython3",
   "version": "3.10.0"
  }
 },
 "nbformat": 4,
 "nbformat_minor": 5
}
