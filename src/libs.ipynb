{
 "cells": [
  {
   "cell_type": "markdown",
   "id": "3ded1247-e3df-4342-af70-2fd3e8ac6504",
   "metadata": {},
   "source": [
    "Structure learning:\n",
    "* https://github.com/GRAND-Lab/SUBLIME\n",
    "* https://github.com/swtheing/imc-gae\n",
    "\n",
    "Imputing\n",
    "* https://github.com/twitter-research/feature-propagation\n",
    "* https://github.com/marblet/GCNmf"
   ]
  },
  {
   "cell_type": "code",
   "execution_count": null,
   "id": "920dd7f9-64f5-439a-8468-fa0039707d06",
   "metadata": {},
   "outputs": [],
   "source": []
  }
 ],
 "metadata": {
  "kernelspec": {
   "display_name": "labevent-py3.10",
   "language": "python",
   "name": "labevent-py3.10"
  },
  "language_info": {
   "codemirror_mode": {
    "name": "ipython",
    "version": 3
   },
   "file_extension": ".py",
   "mimetype": "text/x-python",
   "name": "python",
   "nbconvert_exporter": "python",
   "pygments_lexer": "ipython3",
   "version": "3.10.0"
  }
 },
 "nbformat": 4,
 "nbformat_minor": 5
}
