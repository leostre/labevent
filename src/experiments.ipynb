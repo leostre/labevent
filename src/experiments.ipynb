{
 "cells": [
  {
   "cell_type": "code",
   "execution_count": 10,
   "metadata": {},
   "outputs": [],
   "source": [
    "import os\n",
    "import sys\n",
    "from importlib import reload\n",
    "from pandas import DataFrame, read_csv\n",
    "\n"
   ]
  },
  {
   "cell_type": "markdown",
   "metadata": {},
   "source": [
    "Загрузим данные"
   ]
  },
  {
   "cell_type": "code",
   "execution_count": 11,
   "metadata": {},
   "outputs": [],
   "source": [
    "data = read_csv('../data/refined/wide/blood_chemistry_17.csv', index_col=(0, 1))"
   ]
  },
  {
   "cell_type": "code",
   "execution_count": 12,
   "metadata": {},
   "outputs": [],
   "source": [
    "import torch\n",
    "device = 'gpu' if torch.cuda.is_available() else 'cpu'"
   ]
  },
  {
   "cell_type": "markdown",
   "metadata": {},
   "source": [
    "Сгенерируем граф 6NN"
   ]
  },
  {
   "cell_type": "code",
   "execution_count": 13,
   "metadata": {},
   "outputs": [],
   "source": [
    "from initializer import KNNInit\n",
    "from sklearn.preprocessing import RobustScaler\n",
    "from missing_sampler import UniformMissing\n",
    "from pipeline import Preprocessor\n",
    "from misc import columns_str2int\n",
    "\n",
    "data_columns = data.columns.to_list()\n",
    "target_columns = ['Potassium',\n",
    "       'Sodium', 'Creatinine', 'Chloride', 'Urea Nitrogen', 'Bicarbonate',\n",
    "       'Anion Gap', 'Glucose', 'Magnesium', 'Calcium, Total', 'Phosphate',]\n",
    "droprate = 0.3\n",
    "\n"
   ]
  },
  {
   "cell_type": "code",
   "execution_count": 14,
   "metadata": {},
   "outputs": [],
   "source": [
    "pp = Preprocessor(\n",
    "    UniformMissing(droprate, None, target_columns, data_cols=data_columns),\n",
    "    KNNInit(n_neighbors=6),\n",
    "    scale=True\n",
    ")\n",
    "attrs, G, mask = pp.run(data.values, 'graph', fill_value=0)"
   ]
  },
  {
   "cell_type": "markdown",
   "metadata": {},
   "source": [
    "Попробуем воспользоваться GCNMF"
   ]
  },
  {
   "cell_type": "code",
   "execution_count": 6,
   "metadata": {},
   "outputs": [
    {
     "data": {
      "text/plain": [
       "torch.Size([2085, 4])"
      ]
     },
     "execution_count": 6,
     "metadata": {},
     "output_type": "execute_result"
    }
   ],
   "source": [
    "tmp = torch.tensor(data.to_numpy())\n",
    "from imputation import GCNmfConv\n",
    "GCNmfConv(21, 4, n_components=3, dropout=0)(attrs, G.edge_index, mask).size()"
   ]
  },
  {
   "cell_type": "code",
   "execution_count": 15,
   "metadata": {},
   "outputs": [],
   "source": [
    "y = attrs[:, -1]\n",
    "X = attrs[:, columns_str2int(data_columns, target_columns)]"
   ]
  },
  {
   "cell_type": "code",
   "execution_count": 16,
   "metadata": {},
   "outputs": [],
   "source": [
    "import numpy as np\n",
    "import torch\n",
    "import torch.nn as nn\n",
    "import torch.nn.functional as F\n",
    "from torch_geometric.utils import to_torch_csr_tensor\n",
    "from torch_geometric.nn import SimpleConv"
   ]
  },
  {
   "cell_type": "code",
   "execution_count": 43,
   "metadata": {},
   "outputs": [],
   "source": [
    "import importlib\n",
    "import pipeline\n",
    "import fp\n",
    "import loss\n",
    "import missing_sampler\n",
    "import imputation\n",
    "import initializer\n",
    "import sublime\n",
    "to_reload = [pipeline, fp, loss, missing_sampler, imputation, initializer, sublime]\n",
    "for i in to_reload:\n",
    "    importlib.reload(i)\n",
    "\n",
    "from pipeline import Pipeline\n",
    "from imputation import GCNmfImputer, GAEMF\n",
    "from fp import FeaturePropagation\n",
    "from loss import SeparableMSE\n",
    "from missing_sampler import UniformMissing"
   ]
  },
  {
   "cell_type": "code",
   "execution_count": 44,
   "metadata": {},
   "outputs": [],
   "source": [
    "sm = sublime.SublimeModule()"
   ]
  },
  {
   "cell_type": "code",
   "execution_count": 45,
   "metadata": {},
   "outputs": [
    {
     "ename": "TypeError",
     "evalue": "expected np.ndarray (got Tensor)",
     "output_type": "error",
     "traceback": [
      "\u001b[1;31m---------------------------------------------------------------------------\u001b[0m",
      "\u001b[1;31mTypeError\u001b[0m                                 Traceback (most recent call last)",
      "Cell \u001b[1;32mIn[45], line 1\u001b[0m\n\u001b[1;32m----> 1\u001b[0m result \u001b[38;5;241m=\u001b[39m \u001b[43msm\u001b[49m\u001b[43m(\u001b[49m\n\u001b[0;32m      2\u001b[0m \u001b[43m    \u001b[49m\u001b[43mattrs\u001b[49m\u001b[43m,\u001b[49m\u001b[43m \u001b[49m\u001b[43mG\u001b[49m\u001b[38;5;241;43m.\u001b[39;49m\u001b[43medge_index\u001b[49m\u001b[43m,\u001b[49m\u001b[43m \u001b[49m\n\u001b[0;32m      3\u001b[0m \u001b[43m)\u001b[49m\n",
      "File \u001b[1;32mc:\\Users\\user\\labevent\\.venv\\lib\\site-packages\\torch\\nn\\modules\\module.py:1511\u001b[0m, in \u001b[0;36mModule._wrapped_call_impl\u001b[1;34m(self, *args, **kwargs)\u001b[0m\n\u001b[0;32m   1509\u001b[0m     \u001b[38;5;28;01mreturn\u001b[39;00m \u001b[38;5;28mself\u001b[39m\u001b[38;5;241m.\u001b[39m_compiled_call_impl(\u001b[38;5;241m*\u001b[39margs, \u001b[38;5;241m*\u001b[39m\u001b[38;5;241m*\u001b[39mkwargs)  \u001b[38;5;66;03m# type: ignore[misc]\u001b[39;00m\n\u001b[0;32m   1510\u001b[0m \u001b[38;5;28;01melse\u001b[39;00m:\n\u001b[1;32m-> 1511\u001b[0m     \u001b[38;5;28;01mreturn\u001b[39;00m \u001b[38;5;28mself\u001b[39m\u001b[38;5;241m.\u001b[39m_call_impl(\u001b[38;5;241m*\u001b[39margs, \u001b[38;5;241m*\u001b[39m\u001b[38;5;241m*\u001b[39mkwargs)\n",
      "File \u001b[1;32mc:\\Users\\user\\labevent\\.venv\\lib\\site-packages\\torch\\nn\\modules\\module.py:1520\u001b[0m, in \u001b[0;36mModule._call_impl\u001b[1;34m(self, *args, **kwargs)\u001b[0m\n\u001b[0;32m   1515\u001b[0m \u001b[38;5;66;03m# If we don't have any hooks, we want to skip the rest of the logic in\u001b[39;00m\n\u001b[0;32m   1516\u001b[0m \u001b[38;5;66;03m# this function, and just call forward.\u001b[39;00m\n\u001b[0;32m   1517\u001b[0m \u001b[38;5;28;01mif\u001b[39;00m \u001b[38;5;129;01mnot\u001b[39;00m (\u001b[38;5;28mself\u001b[39m\u001b[38;5;241m.\u001b[39m_backward_hooks \u001b[38;5;129;01mor\u001b[39;00m \u001b[38;5;28mself\u001b[39m\u001b[38;5;241m.\u001b[39m_backward_pre_hooks \u001b[38;5;129;01mor\u001b[39;00m \u001b[38;5;28mself\u001b[39m\u001b[38;5;241m.\u001b[39m_forward_hooks \u001b[38;5;129;01mor\u001b[39;00m \u001b[38;5;28mself\u001b[39m\u001b[38;5;241m.\u001b[39m_forward_pre_hooks\n\u001b[0;32m   1518\u001b[0m         \u001b[38;5;129;01mor\u001b[39;00m _global_backward_pre_hooks \u001b[38;5;129;01mor\u001b[39;00m _global_backward_hooks\n\u001b[0;32m   1519\u001b[0m         \u001b[38;5;129;01mor\u001b[39;00m _global_forward_hooks \u001b[38;5;129;01mor\u001b[39;00m _global_forward_pre_hooks):\n\u001b[1;32m-> 1520\u001b[0m     \u001b[38;5;28;01mreturn\u001b[39;00m forward_call(\u001b[38;5;241m*\u001b[39margs, \u001b[38;5;241m*\u001b[39m\u001b[38;5;241m*\u001b[39mkwargs)\n\u001b[0;32m   1522\u001b[0m \u001b[38;5;28;01mtry\u001b[39;00m:\n\u001b[0;32m   1523\u001b[0m     result \u001b[38;5;241m=\u001b[39m \u001b[38;5;28;01mNone\u001b[39;00m\n",
      "File \u001b[1;32mc:\\Users\\user\\labevent\\src\\sublime.py:96\u001b[0m, in \u001b[0;36mSublimeModule.forward\u001b[1;34m(self, features, edges, edges_weights, mask, label_col)\u001b[0m\n\u001b[0;32m     94\u001b[0m n \u001b[38;5;241m=\u001b[39m features\u001b[38;5;241m.\u001b[39msize(\u001b[38;5;241m0\u001b[39m)\n\u001b[0;32m     95\u001b[0m orig_adj  \u001b[38;5;241m=\u001b[39m to_torch_coo_tensor(edges, edge_attr\u001b[38;5;241m=\u001b[39medges_weights)\n\u001b[1;32m---> 96\u001b[0m \u001b[38;5;28;01mreturn\u001b[39;00m \u001b[38;5;28;43mself\u001b[39;49m\u001b[38;5;241;43m.\u001b[39;49m\u001b[43mexperiment\u001b[49m\u001b[38;5;241;43m.\u001b[39;49m\u001b[43mtrain\u001b[49m\u001b[43m(\u001b[49m\n\u001b[0;32m     97\u001b[0m \u001b[43m    \u001b[49m\u001b[38;5;28;43mself\u001b[39;49m\u001b[38;5;241;43m.\u001b[39;49m\u001b[43margs\u001b[49m\u001b[43m,\u001b[49m\n\u001b[0;32m     98\u001b[0m \u001b[43m    \u001b[49m\u001b[43mfeatures\u001b[49m\u001b[43m,\u001b[49m\u001b[43m \u001b[49m\u001b[43mnfeats\u001b[49m\u001b[43m,\u001b[49m\u001b[43m \u001b[49m\u001b[43mlabels\u001b[49m\u001b[43m,\u001b[49m\u001b[43m \u001b[49m\u001b[43mnclasses\u001b[49m\u001b[43m,\u001b[49m\u001b[43m \u001b[49m\u001b[38;5;241;43m*\u001b[39;49m\u001b[38;5;28;43mself\u001b[39;49m\u001b[38;5;241;43m.\u001b[39;49m\u001b[43m_gen_masks\u001b[49m\u001b[43m(\u001b[49m\u001b[43mn\u001b[49m\u001b[43m)\u001b[49m\u001b[43m,\u001b[49m\u001b[43m \u001b[49m\u001b[43morig_adj\u001b[49m\n\u001b[0;32m     99\u001b[0m \u001b[43m\u001b[49m\u001b[43m)\u001b[49m\n",
      "File \u001b[1;32mc:\\Users\\user\\labevent\\src\\libs\\sublime\\main.py:169\u001b[0m, in \u001b[0;36mExperiment.train\u001b[1;34m(self, args, features, nfeats, labels, nclasses, train_mask, val_mask, test_mask, adj_original)\u001b[0m\n\u001b[0;32m    167\u001b[0m     if args.sparse:\n\u001b[0;32m    168\u001b[0m         anchor_adj_raw = adj_original\n\u001b[1;32m--> 169\u001b[0m     else:\n\u001b[0;32m    170\u001b[0m         anchor_adj_raw = torch.from_numpy(adj_original)\n\u001b[0;32m    173\u001b[0m anchor_adj = normalize(anchor_adj_raw, 'sym', args.sparse)\n",
      "\u001b[1;31mTypeError\u001b[0m: expected np.ndarray (got Tensor)"
     ]
    }
   ],
   "source": [
    "result = sm(\n",
    "    attrs, G.edge_index, \n",
    ")"
   ]
  },
  {
   "cell_type": "code",
   "execution_count": 11,
   "metadata": {},
   "outputs": [],
   "source": [
    "param_sampler = {'UniformMissing': {\n",
    "    'droprate': [\n",
    "        0.1, \n",
    "        # 0.3, 0.5, 0.75,\n",
    "        #   .9\n",
    "          ],\n",
    "    'data_cols': [data_columns],\n",
    "    'target_cols': [target_columns],\n",
    "    }\n",
    "}\n",
    "param_init = {\n",
    "    'KNNInit': {\n",
    "        'n_neighbors': [2, 4, 5, 8]\n",
    "    },\n",
    "    'RandomInit': {\n",
    "        'random_graph': ['erdos_renyi'],\n",
    "        'edge_prob': [0.01, 0.05, 0.1, 0.25, 0.5]\n",
    "    },\n",
    "    'EpsilonRadiusInit': {\n",
    "        'radius': [0.1, .5]\n",
    "    },\n",
    "    'FeatureCliqueInit': {\n",
    "        'division_factor': [5, 10],\n",
    "        'column_indices': [[1]]\n",
    "    }\n",
    "\n",
    "}\n",
    "param_imp = {\n",
    "    'FeaturePropagation': {\n",
    "        'n_iterations': [0, 1, 2, 4, 8]\n",
    "    },\n",
    "    'GCNmfImputer': {\n",
    "        'train_epochs': [1, 2,],\n",
    "        'model': [\n",
    "            GAEMF(\n",
    "                (21, 32, 8),\n",
    "                (8, 21), \n",
    "                n_comp=3\n",
    "            ),\n",
    "            # GAEMF(\n",
    "            #     (21, 32, 8),\n",
    "            #     (8, 21), \n",
    "            #     dropout=.1,\n",
    "            #     n_comp=3\n",
    "            # ),\n",
    "            # GAEMF(\n",
    "            #     (21, 32, 8),\n",
    "            #     (8, 21), \n",
    "            #     dropout=.1,\n",
    "            #     n_comp=3\n",
    "            # ),\n",
    "        ]\n",
    "    }\n",
    "}\n",
    "\n",
    "from itertools import product\n",
    "def product_param(d):\n",
    "    keys, values = zip(*d.items())\n",
    "    return [dict(zip(keys, v)) for v in product(*values)]\n",
    "\n",
    "\n",
    "def experimental_settings(sampler: str, initer: str, imputer: str):\n",
    "    for samp, init, imp in product(\n",
    "        product_param(param_sampler[sampler]),\n",
    "        product_param(param_init[initer]),\n",
    "        product_param(param_imp[imputer]),\n",
    "    ):\n",
    "        yield ({'sampler': samp,\n",
    "               'initer': init,\n",
    "               'imputer': imp}, \n",
    "               {'sampler': sampler,\n",
    "               'initer': initer,\n",
    "               'imputer': imputer}, \n",
    "               ), Pipeline(\n",
    "            Preprocessor(\n",
    "                getattr(missing_sampler, sampler)(**samp),\n",
    "                getattr(initializer, initer)(**init),\n",
    "                scale=True\n",
    "            ),\n",
    "            getattr(imputation, imputer)(**imp),\n",
    "            SeparableMSE(True),\n",
    "        )"
   ]
  },
  {
   "cell_type": "code",
   "execution_count": 4,
   "metadata": {},
   "outputs": [],
   "source": []
  },
  {
   "cell_type": "code",
   "execution_count": 6,
   "metadata": {},
   "outputs": [],
   "source": [
    "import sublime"
   ]
  },
  {
   "cell_type": "code",
   "execution_count": 8,
   "metadata": {},
   "outputs": [],
   "source": [
    "results = DataFrame(columns=['type', 'sampler', 'initer',  'imputer', *target_columns])"
   ]
  },
  {
   "cell_type": "code",
   "execution_count": 9,
   "metadata": {},
   "outputs": [],
   "source": [
    "path = '../data/callbacks'\n",
    "if not os.path.exists(path):\n",
    "    os.mkdir('../data/callbacks')"
   ]
  },
  {
   "cell_type": "code",
   "execution_count": 21,
   "metadata": {},
   "outputs": [
    {
     "name": "stderr",
     "output_type": "stream",
     "text": [
      "Trial:   0%|          | 0/5 [00:00<?, ?it/s]c:\\Users\\user\\labevent\\src\\imputation.py:296: UserWarning: torch.sparse.SparseTensor(indices, values, shape, *, device=) is deprecated.  Please use torch.sparse_coo_tensor(indices, values, shape, dtype=, device=). (Triggered internally at ..\\torch\\csrc\\utils\\tensor_new.cpp:620.)\n",
      "  adj = torch.sparse.FloatTensor(edge_index, values=edge_weight, size=(n_nodes, n_nodes)).to(edge_index.device)\n",
      "                                                    \r"
     ]
    },
    {
     "ename": "KeyError",
     "evalue": "'discretize_func'",
     "output_type": "error",
     "traceback": [
      "\u001b[1;31m---------------------------------------------------------------------------\u001b[0m",
      "\u001b[1;31mKeyError\u001b[0m                                  Traceback (most recent call last)",
      "Cell \u001b[1;32mIn[21], line 12\u001b[0m\n\u001b[0;32m      4\u001b[0m \u001b[38;5;28;01mfor\u001b[39;00m sampler, initer, imputer \u001b[38;5;129;01min\u001b[39;00m product(\n\u001b[0;32m      5\u001b[0m     [\u001b[38;5;124m'\u001b[39m\u001b[38;5;124mUniformMissing\u001b[39m\u001b[38;5;124m'\u001b[39m],\n\u001b[0;32m      6\u001b[0m     [\u001b[38;5;124m'\u001b[39m\u001b[38;5;124mKNNInit\u001b[39m\u001b[38;5;124m'\u001b[39m, \u001b[38;5;124m'\u001b[39m\u001b[38;5;124mEpsilonRadiusInit\u001b[39m\u001b[38;5;124m'\u001b[39m, \u001b[38;5;124m'\u001b[39m\u001b[38;5;124mRandomInit\u001b[39m\u001b[38;5;124m'\u001b[39m, \u001b[38;5;124m'\u001b[39m\u001b[38;5;124mFeatureCliqueInit\u001b[39m\u001b[38;5;124m'\u001b[39m],\n\u001b[1;32m   (...)\u001b[0m\n\u001b[0;32m      9\u001b[0m      \u001b[38;5;124m'\u001b[39m\u001b[38;5;124mGCNmfImputer\u001b[39m\u001b[38;5;124m'\u001b[39m]\n\u001b[0;32m     10\u001b[0m ):  \n\u001b[0;32m     11\u001b[0m     \u001b[38;5;28;01mfor\u001b[39;00m param, pipeline \u001b[38;5;129;01min\u001b[39;00m experimental_settings(sampler, initer, imputer):\n\u001b[1;32m---> 12\u001b[0m         res \u001b[38;5;241m=\u001b[39m torch\u001b[38;5;241m.\u001b[39mstack(\u001b[43mpipeline\u001b[49m\u001b[38;5;241;43m.\u001b[39;49m\u001b[43meval\u001b[49m\u001b[43m(\u001b[49m\u001b[43mdata\u001b[49m\u001b[43m,\u001b[49m\u001b[43m \u001b[49m\u001b[43mn\u001b[49m\u001b[43m)\u001b[49m)\n\u001b[0;32m     13\u001b[0m         header \u001b[38;5;241m=\u001b[39m [\n\u001b[0;32m     14\u001b[0m             (param[\u001b[38;5;241m0\u001b[39m][stage], param[\u001b[38;5;241m1\u001b[39m][stage]) \u001b[38;5;28;01mfor\u001b[39;00m stage \u001b[38;5;129;01min\u001b[39;00m [\u001b[38;5;124m'\u001b[39m\u001b[38;5;124msampler\u001b[39m\u001b[38;5;124m'\u001b[39m, \u001b[38;5;124m'\u001b[39m\u001b[38;5;124miniter\u001b[39m\u001b[38;5;124m'\u001b[39m, \u001b[38;5;124m'\u001b[39m\u001b[38;5;124mimputer\u001b[39m\u001b[38;5;124m'\u001b[39m]\n\u001b[0;32m     15\u001b[0m         ]\n\u001b[0;32m     16\u001b[0m         results\u001b[38;5;241m.\u001b[39mloc[results\u001b[38;5;241m.\u001b[39mshape[\u001b[38;5;241m0\u001b[39m] \u001b[38;5;241m+\u001b[39m \u001b[38;5;241m1\u001b[39m] \u001b[38;5;241m=\u001b[39m [\u001b[38;5;124m'\u001b[39m\u001b[38;5;124mmean\u001b[39m\u001b[38;5;124m'\u001b[39m] \u001b[38;5;241m+\u001b[39m header \u001b[38;5;241m+\u001b[39m res\u001b[38;5;241m.\u001b[39mmean(\u001b[38;5;241m0\u001b[39m)[colmask]\u001b[38;5;241m.\u001b[39mtolist()\n",
      "File \u001b[1;32mc:\\Users\\user\\labevent\\src\\pipeline.py:39\u001b[0m, in \u001b[0;36mPipeline.eval\u001b[1;34m(self, data, n_trials)\u001b[0m\n\u001b[0;32m     37\u001b[0m data \u001b[38;5;241m=\u001b[39m tensor(data\u001b[38;5;241m.\u001b[39mto_numpy())\n\u001b[0;32m     38\u001b[0m \u001b[38;5;28;01mfor\u001b[39;00m trial \u001b[38;5;129;01min\u001b[39;00m tqdm(\u001b[38;5;28mrange\u001b[39m(n_trials), leave\u001b[38;5;241m=\u001b[39m\u001b[38;5;28;01mFalse\u001b[39;00m, desc\u001b[38;5;241m=\u001b[39m\u001b[38;5;124m'\u001b[39m\u001b[38;5;124mTrial: \u001b[39m\u001b[38;5;124m'\u001b[39m):  \n\u001b[1;32m---> 39\u001b[0m     losses\u001b[38;5;241m.\u001b[39mappend(\u001b[38;5;28;43mself\u001b[39;49m\u001b[38;5;241;43m.\u001b[39;49m\u001b[43m_eval\u001b[49m\u001b[43m(\u001b[49m\u001b[43mdata\u001b[49m\u001b[43m)\u001b[49m)\n\u001b[0;32m     40\u001b[0m \u001b[38;5;28;01mreturn\u001b[39;00m losses\n",
      "File \u001b[1;32mc:\\Users\\user\\labevent\\src\\pipeline.py:28\u001b[0m, in \u001b[0;36mPipeline._eval\u001b[1;34m(self, data)\u001b[0m\n\u001b[0;32m     27\u001b[0m \u001b[38;5;28;01mdef\u001b[39;00m \u001b[38;5;21m_eval\u001b[39m(\u001b[38;5;28mself\u001b[39m, data):\n\u001b[1;32m---> 28\u001b[0m     dropped, struct, mask \u001b[38;5;241m=\u001b[39m \u001b[38;5;28;43mself\u001b[39;49m\u001b[38;5;241;43m.\u001b[39;49m\u001b[43mpreprocessor\u001b[49m\u001b[38;5;241;43m.\u001b[39;49m\u001b[43mrun\u001b[49m\u001b[43m(\u001b[49m\u001b[43mdata\u001b[49m\u001b[43m,\u001b[49m\u001b[43m \u001b[49m\u001b[38;5;124;43m'\u001b[39;49m\u001b[38;5;124;43medgelist\u001b[39;49m\u001b[38;5;124;43m'\u001b[39;49m\u001b[43m)\u001b[49m\n\u001b[0;32m     29\u001b[0m     data \u001b[38;5;241m=\u001b[39m tensor(\u001b[38;5;28mself\u001b[39m\u001b[38;5;241m.\u001b[39mpreprocessor\u001b[38;5;241m.\u001b[39m_scaler\u001b[38;5;241m.\u001b[39mtransform(data))\n\u001b[0;32m     30\u001b[0m     imputed \u001b[38;5;241m=\u001b[39m \u001b[38;5;28mself\u001b[39m\u001b[38;5;241m.\u001b[39mimputer(dropped, struct, mask)\n",
      "File \u001b[1;32mc:\\Users\\user\\labevent\\src\\pipeline.py:55\u001b[0m, in \u001b[0;36mPreprocessor.run\u001b[1;34m(self, data, graph_repr, dtype, fill_value)\u001b[0m\n\u001b[0;32m     53\u001b[0m mask \u001b[38;5;241m=\u001b[39m \u001b[38;5;28mself\u001b[39m\u001b[38;5;241m.\u001b[39m_sampler\u001b[38;5;241m.\u001b[39mto_tensor()\n\u001b[0;32m     54\u001b[0m dropped \u001b[38;5;241m=\u001b[39m tensor(\u001b[38;5;28mself\u001b[39m\u001b[38;5;241m.\u001b[39m_scaler\u001b[38;5;241m.\u001b[39mfit_transform(dropped) \u001b[38;5;28;01mif\u001b[39;00m \u001b[38;5;28mself\u001b[39m\u001b[38;5;241m.\u001b[39m_scaler \u001b[38;5;129;01mis\u001b[39;00m \u001b[38;5;129;01mnot\u001b[39;00m \u001b[38;5;28;01mNone\u001b[39;00m \u001b[38;5;28;01melse\u001b[39;00m dropped, dtype\u001b[38;5;241m=\u001b[39mdtype)\n\u001b[1;32m---> 55\u001b[0m struct \u001b[38;5;241m=\u001b[39m \u001b[38;5;28mgetattr\u001b[39m(\u001b[38;5;28;43mself\u001b[39;49m\u001b[38;5;241;43m.\u001b[39;49m\u001b[43m_initializer\u001b[49m\u001b[43m(\u001b[49m\u001b[43mdropped\u001b[49m\u001b[43m)\u001b[49m, graph_repr)\n\u001b[0;32m     57\u001b[0m \u001b[38;5;28;01mreturn\u001b[39;00m dropped, struct, mask\n",
      "File \u001b[1;32mc:\\Users\\user\\labevent\\src\\initializer.py:129\u001b[0m, in \u001b[0;36mFeatureCliqueInit.__call__\u001b[1;34m(self, data)\u001b[0m\n\u001b[0;32m    127\u001b[0m col_ind \u001b[38;5;241m=\u001b[39m \u001b[38;5;28mself\u001b[39m\u001b[38;5;241m.\u001b[39minit_kwargs[\u001b[38;5;124m'\u001b[39m\u001b[38;5;124mcolumn_indices\u001b[39m\u001b[38;5;124m'\u001b[39m]\n\u001b[0;32m    128\u001b[0m df \u001b[38;5;241m=\u001b[39m \u001b[38;5;28mself\u001b[39m\u001b[38;5;241m.\u001b[39minit_kwargs[\u001b[38;5;124m'\u001b[39m\u001b[38;5;124mdivision_factor\u001b[39m\u001b[38;5;124m'\u001b[39m]\n\u001b[1;32m--> 129\u001b[0m discretize \u001b[38;5;241m=\u001b[39m \u001b[38;5;28;43mself\u001b[39;49m\u001b[38;5;241;43m.\u001b[39;49m\u001b[43minit_kwargs\u001b[49m\u001b[43m[\u001b[49m\u001b[38;5;124;43m'\u001b[39;49m\u001b[38;5;124;43mdiscretize_func\u001b[39;49m\u001b[38;5;124;43m'\u001b[39;49m\u001b[43m]\u001b[49m\n\u001b[0;32m    130\u001b[0m cols2disc \u001b[38;5;241m=\u001b[39m \u001b[38;5;28mself\u001b[39m\u001b[38;5;241m.\u001b[39minit_kwargs[\u001b[38;5;124m'\u001b[39m\u001b[38;5;124mcols2disc\u001b[39m\u001b[38;5;124m'\u001b[39m]\n\u001b[0;32m    131\u001b[0m edgelist \u001b[38;5;241m=\u001b[39m []\n",
      "\u001b[1;31mKeyError\u001b[0m: 'discretize_func'"
     ]
    }
   ],
   "source": [
    "colmask = columns_str2int(data, target_columns)\n",
    "n = 5\n",
    "from datetime import datetime\n",
    "for sampler, initer, imputer in product(\n",
    "    ['UniformMissing'],\n",
    "    ['KNNInit', 'EpsilonRadiusInit', 'RandomInit', 'FeatureCliqueInit'],\n",
    "    [\n",
    "        'FeaturePropagation', \n",
    "     'GCNmfImputer']\n",
    "):  \n",
    "    for param, pipeline in experimental_settings(sampler, initer, imputer):\n",
    "        res = torch.stack(pipeline.eval(data, n))\n",
    "        header = [\n",
    "            (param[0][stage], param[1][stage]) for stage in ['sampler', 'initer', 'imputer']\n",
    "        ]\n",
    "        results.loc[results.shape[0] + 1] = ['mean'] + header + res.mean(0)[colmask].tolist()\n",
    "        results.loc[results.shape[0] + 1] = ['std'] + header + res.std(0)[colmask].tolist()\n",
    "    results.to_csv(os.path.join(path, f'results{str(datetime.today().date())}.csv'))\n",
    "        \n",
    "    "
   ]
  },
  {
   "cell_type": "code",
   "execution_count": null,
   "metadata": {},
   "outputs": [],
   "source": []
  }
 ],
 "metadata": {
  "kernelspec": {
   "display_name": ".venv",
   "language": "python",
   "name": "python3"
  },
  "language_info": {
   "codemirror_mode": {
    "name": "ipython",
    "version": 3
   },
   "file_extension": ".py",
   "mimetype": "text/x-python",
   "name": "python",
   "nbconvert_exporter": "python",
   "pygments_lexer": "ipython3",
   "version": "3.10.0"
  }
 },
 "nbformat": 4,
 "nbformat_minor": 2
}
